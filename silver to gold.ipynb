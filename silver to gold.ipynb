{
 "cells": [
  {
   "cell_type": "markdown",
   "metadata": {
    "application/vnd.databricks.v1+cell": {
     "cellMetadata": {},
     "inputWidgets": {},
     "nuid": "1f1bb54b-d6af-43e4-bd15-8d08dd181954",
     "showTitle": false,
     "tableResultSettingsMap": {},
     "title": ""
    }
   },
   "source": [
    "#  Silver to Gold Layer Notebook\n",
    "\n",
    "##  Objective:\n",
    "This notebook creates meaningful analytical tables from the cleaned Silver layer data and exports them to the Gold container and Azure SQL for reporting.\n",
    "\n",
    "---\n",
    "\n",
    "##  Step 1: Start Spark Session\n",
    "Initialize Spark to execute SQL and PySpark operations.\n",
    "\n",
    "---\n",
    "\n",
    "##  Step 2: Read Silver Data\n",
    "Read Silver-layer Parquet files into DataFrames for processing.\n",
    "\n",
    "---\n",
    "\n",
    "##  Step 3: Create Temp Views\n",
    "Convert DataFrames into temporary views so SQL queries can be used for aggregations.\n",
    "\n",
    "---\n",
    "\n",
    "##  Step 4: Run Analytical Queries\n",
    "\n",
    "###  Team Performance Metrics\n",
    "- Total Wins\n",
    "- Total Matches\n",
    "- Win %\n",
    "- Home vs Away Win %\n",
    "- Tie/Cancelled %\n",
    "\n",
    "###  Player Contribution\n",
    "- Runs Scored\n",
    "- Wickets Taken\n",
    "- Top 2 contributors per team\n",
    "\n",
    "###  Player Efficiency\n",
    "- Average Strike Rate\n",
    "- Batting Runs\n",
    "- Bowling Wickets\n",
    "\n",
    "###  Orange Cap & Purple Cap\n",
    "- Highest run scorer and wicket taker (with KPIs)\n",
    "\n",
    "###  Venue Analysis\n",
    "- Home Stadium Performance\n",
    "- Away Performance\n",
    "\n",
    "---\n",
    "\n",
    "##  Step 5: Save Aggregated Tables\n",
    "Each SQL result is saved as a DataFrame and then written:\n",
    "- To the **Gold container** in Parquet format.\n",
    "- To the **Azure SQL Database** using JDBC.\n",
    "\n",
    "This enables:\n",
    "- Historical storage in ADLS.\n",
    "- Real-time querying from Power BI via SQL.\n"
   ]
  },
  {
   "cell_type": "code",
   "execution_count": 0,
   "metadata": {
    "application/vnd.databricks.v1+cell": {
     "cellMetadata": {
      "byteLimit": 2048000,
      "rowLimit": 10000
     },
     "inputWidgets": {},
     "nuid": "275331ec-005a-47cd-b811-1cb097f3cffc",
     "showTitle": false,
     "tableResultSettingsMap": {},
     "title": ""
    }
   },
   "outputs": [],
   "source": [
    "# JDBC connection string\n",
    "jdbc_url = f\"jdbc:sqlserver://ipldata123.database.windows.net:1433;databaseName=ipl_data\"\n",
    " \n",
    "# Connection properties\n",
    "connection_properties = {\n",
    "    \"user\": \"satyamsingh\",\n",
    "    \"password\": \"Satyam@961\",\n",
    "    \"driver\": \"com.microsoft.sqlserver.jdbc.SQLServerDriver\"\n",
    "}\n",
    " \n",
    " "
   ]
  },
  {
   "cell_type": "code",
   "execution_count": 0,
   "metadata": {
    "application/vnd.databricks.v1+cell": {
     "cellMetadata": {
      "byteLimit": 2048000,
      "rowLimit": 10000
     },
     "inputWidgets": {},
     "nuid": "e853f0a2-79c7-46ae-a97a-adae54895de8",
     "showTitle": false,
     "tableResultSettingsMap": {},
     "title": ""
    }
   },
   "outputs": [],
   "source": [
    "df_match_performance = spark.read \\\n",
    "    .format(\"jdbc\") \\\n",
    "    .option(\"url\", jdbc_url) \\\n",
    "    .option(\"dbtable\", \"silver_db.match_performance\") \\\n",
    "    .options(**connection_properties) \\\n",
    "    .load()\n",
    " \n",
    "df_match_performance.createOrReplaceTempView(\"match_performance\")\n",
    " "
   ]
  },
  {
   "cell_type": "code",
   "execution_count": 0,
   "metadata": {
    "application/vnd.databricks.v1+cell": {
     "cellMetadata": {
      "byteLimit": 2048000,
      "rowLimit": 10000
     },
     "inputWidgets": {},
     "nuid": "77ca34de-5399-409b-ab95-5a2e75b04cd3",
     "showTitle": false,
     "tableResultSettingsMap": {},
     "title": ""
    }
   },
   "outputs": [],
   "source": [
    "df_match_stadium = spark.read \\\n",
    "    .format(\"jdbc\") \\\n",
    "    .option(\"url\", jdbc_url) \\\n",
    "    .option(\"dbtable\", \"silver_db.match_stadium\") \\\n",
    "    .options(**connection_properties) \\\n",
    "    .load()\n",
    "\n",
    "df_match_stadium.createOrReplaceTempView(\"match_stadium\")"
   ]
  },
  {
   "cell_type": "code",
   "execution_count": 0,
   "metadata": {
    "application/vnd.databricks.v1+cell": {
     "cellMetadata": {
      "byteLimit": 2048000,
      "rowLimit": 10000
     },
     "inputWidgets": {},
     "nuid": "3fdddac3-dcc8-4db5-9f4c-b9431b72f4f3",
     "showTitle": false,
     "tableResultSettingsMap": {},
     "title": ""
    }
   },
   "outputs": [],
   "source": [
    "df_player_performance = spark.read \\\n",
    "    .format(\"jdbc\") \\\n",
    "    .option(\"url\", jdbc_url) \\\n",
    "    .option(\"dbtable\", \"silver_db.player_performance\") \\\n",
    "    .options(**connection_properties) \\\n",
    "    .load()\n",
    "\n",
    "df_player_performance.createOrReplaceTempView(\"player_performance\")"
   ]
  },
  {
   "cell_type": "code",
   "execution_count": 0,
   "metadata": {
    "application/vnd.databricks.v1+cell": {
     "cellMetadata": {
      "byteLimit": 2048000,
      "rowLimit": 10000
     },
     "inputWidgets": {},
     "nuid": "1d78dc19-e07b-4772-b589-d3bc2235d7e4",
     "showTitle": false,
     "tableResultSettingsMap": {},
     "title": ""
    }
   },
   "outputs": [],
   "source": [
    "df_player_team = spark.read \\\n",
    "    .format(\"jdbc\") \\\n",
    "    .option(\"url\", jdbc_url) \\\n",
    "    .option(\"dbtable\", \"silver_db.player_team\") \\\n",
    "    .options(**connection_properties) \\\n",
    "    .load()\n",
    "\n",
    "df_player_team.createOrReplaceTempView(\"player_team\")"
   ]
  },
  {
   "cell_type": "code",
   "execution_count": 0,
   "metadata": {
    "application/vnd.databricks.v1+cell": {
     "cellMetadata": {
      "byteLimit": 2048000,
      "rowLimit": 10000
     },
     "inputWidgets": {},
     "nuid": "b192244c-e583-4800-abe4-87584f72b91e",
     "showTitle": false,
     "tableResultSettingsMap": {},
     "title": ""
    }
   },
   "outputs": [],
   "source": [
    "df_stadium = spark.read \\\n",
    "    .format(\"jdbc\") \\\n",
    "    .option(\"url\", jdbc_url) \\\n",
    "    .option(\"dbtable\", \"silver_db.stadium\") \\\n",
    "    .options(**connection_properties) \\\n",
    "    .load()\n",
    "\n",
    "df_stadium.createOrReplaceTempView(\"stadium\")"
   ]
  },
  {
   "cell_type": "code",
   "execution_count": 0,
   "metadata": {
    "application/vnd.databricks.v1+cell": {
     "cellMetadata": {
      "byteLimit": 2048000,
      "rowLimit": 10000
     },
     "inputWidgets": {},
     "nuid": "e8f18a95-cce6-4a86-b794-b82fcf60f9f8",
     "showTitle": false,
     "tableResultSettingsMap": {},
     "title": ""
    }
   },
   "outputs": [],
   "source": [
    "df_team = spark.read \\\n",
    "    .format(\"jdbc\") \\\n",
    "    .option(\"url\", jdbc_url) \\\n",
    "    .option(\"dbtable\", \"silver_db.team\") \\\n",
    "    .options(**connection_properties) \\\n",
    "    .load()\n",
    "\n",
    "df_team.createOrReplaceTempView(\"team\")"
   ]
  },
  {
   "cell_type": "code",
   "execution_count": 0,
   "metadata": {
    "application/vnd.databricks.v1+cell": {
     "cellMetadata": {
      "byteLimit": 2048000,
      "implicitDf": true,
      "rowLimit": 10000
     },
     "inputWidgets": {},
     "nuid": "2df6238f-a138-437a-a843-1b5265b8a446",
     "showTitle": false,
     "tableResultSettingsMap": {},
     "title": ""
    }
   },
   "outputs": [
    {
     "output_type": "display_data",
     "data": {
      "text/html": [
       "<style scoped>\n",
       "  .table-result-container {\n",
       "    max-height: 300px;\n",
       "    overflow: auto;\n",
       "  }\n",
       "  table, th, td {\n",
       "    border: 1px solid black;\n",
       "    border-collapse: collapse;\n",
       "  }\n",
       "  th, td {\n",
       "    padding: 5px;\n",
       "  }\n",
       "  th {\n",
       "    text-align: left;\n",
       "  }\n",
       "</style><div class='table-result-container'><table class='table-result'><thead style='background-color: white'><tr><th>team_name</th><th>Wins</th><th>Losses</th><th>Ties</th></tr></thead><tbody><tr><td>Chennai Super Kings</td><td>3</td><td>1</td><td>1</td></tr><tr><td>Delhi Capitals</td><td>3</td><td>6</td><td>1</td></tr><tr><td>Kolkata Knight Riders</td><td>3</td><td>2</td><td>3</td></tr><tr><td>Mumbai Indians</td><td>5</td><td>3</td><td>3</td></tr><tr><td>Sunrisers Hyderabad</td><td>1</td><td>3</td><td>0</td></tr></tbody></table></div>"
      ]
     },
     "metadata": {
      "application/vnd.databricks.v1+output": {
       "addedWidgets": {},
       "aggData": [],
       "aggError": "",
       "aggOverflow": false,
       "aggSchema": [],
       "aggSeriesLimitReached": false,
       "aggType": "",
       "arguments": {},
       "columnCustomDisplayInfos": {},
       "data": [
        [
         "Chennai Super Kings",
         3,
         1,
         1
        ],
        [
         "Delhi Capitals",
         3,
         6,
         1
        ],
        [
         "Kolkata Knight Riders",
         3,
         2,
         3
        ],
        [
         "Mumbai Indians",
         5,
         3,
         3
        ],
        [
         "Sunrisers Hyderabad",
         1,
         3,
         0
        ]
       ],
       "datasetInfos": [],
       "dbfsResultPath": null,
       "isJsonSchema": true,
       "metadata": {},
       "overflow": false,
       "plotOptions": {
        "customPlotOptions": {},
        "displayType": "table",
        "pivotAggregation": null,
        "pivotColumns": null,
        "xColumns": null,
        "yColumns": null
       },
       "removedWidgets": [],
       "schema": [
        {
         "metadata": "{\"scale\":0}",
         "name": "team_name",
         "type": "\"string\""
        },
        {
         "metadata": "{}",
         "name": "Wins",
         "type": "\"long\""
        },
        {
         "metadata": "{}",
         "name": "Losses",
         "type": "\"long\""
        },
        {
         "metadata": "{}",
         "name": "Ties",
         "type": "\"long\""
        }
       ],
       "type": "table"
      }
     },
     "output_type": "display_data"
    }
   ],
   "source": [
    "%sql\n",
    "WITH match_results AS (\n",
    "    SELECT team_id AS team, match_result FROM match_performance\n",
    "    UNION ALL\n",
    "    SELECT opponent_team_id AS team,\n",
    "        CASE \n",
    "            WHEN match_result = 'Win' THEN 'Loss'\n",
    "            WHEN match_result = 'Loss' THEN 'Win'\n",
    "            ELSE match_result\n",
    "        END AS match_result\n",
    "    FROM match_performance\n",
    ")\n",
    "SELECT \n",
    "    t.team_name,\n",
    "    COUNT(CASE WHEN mr.match_result = 'Win' THEN 1 END) AS Wins,\n",
    "    COUNT(CASE WHEN mr.match_result = 'Loss' THEN 1 END) AS Losses,\n",
    "    COUNT(CASE WHEN mr.match_result = 'Tie' THEN 1 END) AS Ties\n",
    "FROM match_results mr\n",
    "JOIN team t ON t.team_id = mr.team\n",
    "GROUP BY t.team_name\n",
    "ORDER BY t.team_name;"
   ]
  },
  {
   "cell_type": "code",
   "execution_count": 0,
   "metadata": {
    "application/vnd.databricks.v1+cell": {
     "cellMetadata": {
      "byteLimit": 2048000,
      "rowLimit": 10000
     },
     "inputWidgets": {},
     "nuid": "889b772a-b875-4486-8a3e-43f6d1ea7546",
     "showTitle": false,
     "tableResultSettingsMap": {},
     "title": ""
    }
   },
   "outputs": [],
   "source": [
    "Team_performance_metrics = _sqldf"
   ]
  },
  {
   "cell_type": "code",
   "execution_count": 0,
   "metadata": {
    "application/vnd.databricks.v1+cell": {
     "cellMetadata": {
      "byteLimit": 2048000,
      "rowLimit": 10000
     },
     "inputWidgets": {},
     "nuid": "3dcde245-5db9-42da-af8c-543ec8292d15",
     "showTitle": false,
     "tableResultSettingsMap": {},
     "title": ""
    }
   },
   "outputs": [],
   "source": [
    "Team_performance_metrics.write \\\n",
    "    .format(\"jdbc\") \\\n",
    "    .option(\"url\", jdbc_url) \\\n",
    "    .option(\"dbtable\", \"gold_db.Team_performance_metrics\") \\\n",
    "    .options(**connection_properties) \\\n",
    "    .mode(\"OVERWRITE\") \\\n",
    "    .save()\n",
    " "
   ]
  },
  {
   "cell_type": "code",
   "execution_count": 0,
   "metadata": {
    "application/vnd.databricks.v1+cell": {
     "cellMetadata": {
      "byteLimit": 2048000,
      "implicitDf": true,
      "rowLimit": 10000
     },
     "inputWidgets": {},
     "nuid": "fc1a8dd8-c392-46d1-b2db-883b09a0eb2c",
     "showTitle": false,
     "tableResultSettingsMap": {},
     "title": ""
    }
   },
   "outputs": [
    {
     "output_type": "display_data",
     "data": {
      "text/html": [
       "<style scoped>\n",
       "  .table-result-container {\n",
       "    max-height: 300px;\n",
       "    overflow: auto;\n",
       "  }\n",
       "  table, th, td {\n",
       "    border: 1px solid black;\n",
       "    border-collapse: collapse;\n",
       "  }\n",
       "  th, td {\n",
       "    padding: 5px;\n",
       "  }\n",
       "  th {\n",
       "    text-align: left;\n",
       "  }\n",
       "</style><div class='table-result-container'><table class='table-result'><thead style='background-color: white'><tr><th>team_name</th><th>venue_type</th><th>Wins</th><th>Losses</th><th>Ties</th><th>Total_Matches</th></tr></thead><tbody><tr><td>Chennai Super Kings</td><td>Away</td><td>1</td><td>1</td><td>1</td><td>3</td></tr><tr><td>Chennai Super Kings</td><td>Home</td><td>2</td><td>0</td><td>0</td><td>2</td></tr><tr><td>Delhi Capitals</td><td>Away</td><td>2</td><td>6</td><td>1</td><td>10</td></tr><tr><td>Delhi Capitals</td><td>Home</td><td>1</td><td>0</td><td>0</td><td>1</td></tr><tr><td>Kolkata Knight Riders</td><td>Away</td><td>3</td><td>1</td><td>2</td><td>6</td></tr><tr><td>Kolkata Knight Riders</td><td>Home</td><td>0</td><td>1</td><td>1</td><td>2</td></tr><tr><td>Mumbai Indians</td><td>Away</td><td>4</td><td>3</td><td>1</td><td>8</td></tr><tr><td>Mumbai Indians</td><td>Home</td><td>1</td><td>0</td><td>2</td><td>3</td></tr><tr><td>Sunrisers Hyderabad</td><td>Away</td><td>0</td><td>3</td><td>0</td><td>4</td></tr><tr><td>Sunrisers Hyderabad</td><td>Home</td><td>1</td><td>0</td><td>0</td><td>1</td></tr></tbody></table></div>"
      ]
     },
     "metadata": {
      "application/vnd.databricks.v1+output": {
       "addedWidgets": {},
       "aggData": [],
       "aggError": "",
       "aggOverflow": false,
       "aggSchema": [],
       "aggSeriesLimitReached": false,
       "aggType": "",
       "arguments": {},
       "columnCustomDisplayInfos": {},
       "data": [
        [
         "Chennai Super Kings",
         "Away",
         1,
         1,
         1,
         3
        ],
        [
         "Chennai Super Kings",
         "Home",
         2,
         0,
         0,
         2
        ],
        [
         "Delhi Capitals",
         "Away",
         2,
         6,
         1,
         10
        ],
        [
         "Delhi Capitals",
         "Home",
         1,
         0,
         0,
         1
        ],
        [
         "Kolkata Knight Riders",
         "Away",
         3,
         1,
         2,
         6
        ],
        [
         "Kolkata Knight Riders",
         "Home",
         0,
         1,
         1,
         2
        ],
        [
         "Mumbai Indians",
         "Away",
         4,
         3,
         1,
         8
        ],
        [
         "Mumbai Indians",
         "Home",
         1,
         0,
         2,
         3
        ],
        [
         "Sunrisers Hyderabad",
         "Away",
         0,
         3,
         0,
         4
        ],
        [
         "Sunrisers Hyderabad",
         "Home",
         1,
         0,
         0,
         1
        ]
       ],
       "datasetInfos": [],
       "dbfsResultPath": null,
       "isJsonSchema": true,
       "metadata": {},
       "overflow": false,
       "plotOptions": {
        "customPlotOptions": {},
        "displayType": "table",
        "pivotAggregation": null,
        "pivotColumns": null,
        "xColumns": null,
        "yColumns": null
       },
       "removedWidgets": [],
       "schema": [
        {
         "metadata": "{\"scale\":0}",
         "name": "team_name",
         "type": "\"string\""
        },
        {
         "metadata": "{}",
         "name": "venue_type",
         "type": "\"string\""
        },
        {
         "metadata": "{}",
         "name": "Wins",
         "type": "\"long\""
        },
        {
         "metadata": "{}",
         "name": "Losses",
         "type": "\"long\""
        },
        {
         "metadata": "{}",
         "name": "Ties",
         "type": "\"long\""
        },
        {
         "metadata": "{}",
         "name": "Total_Matches",
         "type": "\"long\""
        }
       ],
       "type": "table"
      }
     },
     "output_type": "display_data"
    }
   ],
   "source": [
    "%sql\n",
    "WITH all_matches AS (\n",
    "    SELECT \n",
    "        match_performance_match_id AS match_id,\n",
    "        team_id AS team,\n",
    "        opponent_team_id AS opponent,\n",
    "        match_result\n",
    "    FROM match_performance\n",
    "\n",
    "    UNION ALL\n",
    "\n",
    "    SELECT \n",
    "        match_performance_match_id AS match_id,\n",
    "        opponent_team_id AS team,\n",
    "        team_id AS opponent,\n",
    "        CASE \n",
    "            WHEN match_result = 'Win' THEN 'Loss'\n",
    "            WHEN match_result = 'Loss' THEN 'Win'\n",
    "            ELSE match_result\n",
    "        END AS match_result\n",
    "    FROM match_performance\n",
    "),\n",
    "match_with_venue AS (\n",
    "    SELECT \n",
    "        am.match_id,\n",
    "        am.team,\n",
    "        am.match_result,\n",
    "        t.home_ground,\n",
    "        s.stadium_name AS match_venue\n",
    "    FROM all_matches am\n",
    "    JOIN team t ON am.team = t.team_id\n",
    "    JOIN match_stadium ms ON am.match_id = ms.match_id\n",
    "    JOIN stadium s ON ms.stadium_id = s.stadium_id\n",
    "),\n",
    "final_stats AS (\n",
    "    SELECT \n",
    "        t.team_name,\n",
    "        CASE \n",
    "            WHEN mwv.home_ground = mwv.match_venue THEN 'Home'\n",
    "            ELSE 'Away'\n",
    "        END AS venue_type,\n",
    "        mwv.match_result\n",
    "    FROM match_with_venue mwv\n",
    "    JOIN team t ON mwv.team = t.team_id\n",
    ")\n",
    "SELECT \n",
    "    team_name,\n",
    "    venue_type,\n",
    "    COUNT(CASE WHEN match_result = 'Win' THEN 1 END) AS Wins,\n",
    "    COUNT(CASE WHEN match_result = 'Loss' THEN 1 END) AS Losses,\n",
    "    COUNT(CASE WHEN match_result = 'Tie' THEN 1 END) AS Ties,\n",
    "    COUNT(*) AS Total_Matches\n",
    "FROM final_stats\n",
    "GROUP BY team_name, venue_type\n",
    "ORDER BY team_name, venue_type;"
   ]
  },
  {
   "cell_type": "code",
   "execution_count": 0,
   "metadata": {
    "application/vnd.databricks.v1+cell": {
     "cellMetadata": {
      "byteLimit": 2048000,
      "rowLimit": 10000
     },
     "inputWidgets": {},
     "nuid": "ae7f7090-dd26-48b4-8035-181465fc59a1",
     "showTitle": false,
     "tableResultSettingsMap": {},
     "title": ""
    }
   },
   "outputs": [],
   "source": [
    "venue_analysis = _sqldf"
   ]
  },
  {
   "cell_type": "code",
   "execution_count": 0,
   "metadata": {
    "application/vnd.databricks.v1+cell": {
     "cellMetadata": {
      "byteLimit": 2048000,
      "rowLimit": 10000
     },
     "inputWidgets": {},
     "nuid": "07ef1b9c-4283-48f0-b25f-60ca0620dc63",
     "showTitle": false,
     "tableResultSettingsMap": {},
     "title": ""
    }
   },
   "outputs": [],
   "source": [
    "venue_analysis.write \\\n",
    "    .format(\"jdbc\") \\\n",
    "    .option(\"url\", jdbc_url) \\\n",
    "    .option(\"dbtable\", \"gold_db.venue_analysis\") \\\n",
    "    .options(**connection_properties) \\\n",
    "    .mode(\"OVERWRITE\") \\\n",
    "    .save()"
   ]
  },
  {
   "cell_type": "code",
   "execution_count": 0,
   "metadata": {
    "application/vnd.databricks.v1+cell": {
     "cellMetadata": {
      "byteLimit": 2048000,
      "implicitDf": true,
      "rowLimit": 10000
     },
     "inputWidgets": {},
     "nuid": "27ba8a91-232d-4ca6-a690-581bce77096a",
     "showTitle": false,
     "tableResultSettingsMap": {},
     "title": ""
    }
   },
   "outputs": [
    {
     "output_type": "display_data",
     "data": {
      "text/html": [
       "<style scoped>\n",
       "  .table-result-container {\n",
       "    max-height: 300px;\n",
       "    overflow: auto;\n",
       "  }\n",
       "  table, th, td {\n",
       "    border: 1px solid black;\n",
       "    border-collapse: collapse;\n",
       "  }\n",
       "  th, td {\n",
       "    padding: 5px;\n",
       "  }\n",
       "  th {\n",
       "    text-align: left;\n",
       "  }\n",
       "</style><div class='table-result-container'><table class='table-result'><thead style='background-color: white'><tr><th>player_id</th><th>player_name</th><th>player_role</th><th>team_name</th><th>avg_strike_rate</th><th>total_runs</th><th>total_wickets</th></tr></thead><tbody><tr><td>102</td><td>Laurie Brooks</td><td>Batsman</td><td>Sunrisers Hyderabad</td><td>194.0</td><td>97</td><td>2</td></tr><tr><td>108</td><td>Jared Knox</td><td>Bowler</td><td>Chennai Super Kings</td><td>188.0</td><td>94</td><td>4</td></tr><tr><td>109</td><td>Kevin Conrad</td><td>Bowler</td><td>Chennai Super Kings</td><td>186.0</td><td>93</td><td>2</td></tr><tr><td>115</td><td>Breanna Jackson</td><td>All-rounder</td><td>Kolkata Knight Riders</td><td>170.0</td><td>85</td><td>0</td></tr><tr><td>101</td><td>Thomas Mendez</td><td>All-rounder</td><td>Mumbai Indians</td><td>164.0</td><td>82</td><td>2</td></tr><tr><td>114</td><td>Joshua Baird</td><td>Bowler</td><td>Chennai Super Kings</td><td>162.0</td><td>81</td><td>1</td></tr><tr><td>118</td><td>Michael Martinez</td><td>All-rounder</td><td>Delhi Capitals</td><td>160.0</td><td>80</td><td>1</td></tr><tr><td>120</td><td>Justin White</td><td>Batsman</td><td>Mumbai Indians</td><td>150.0</td><td>75</td><td>0</td></tr><tr><td>110</td><td>Alan Padilla</td><td>All-rounder</td><td>Kolkata Knight Riders</td><td>150.0</td><td>75</td><td>3</td></tr><tr><td>113</td><td>Joseph Meadows</td><td>Batsman</td><td>Sunrisers Hyderabad</td><td>140.0</td><td>70</td><td>1</td></tr><tr><td>107</td><td>Autumn Chang</td><td>All-rounder</td><td>Delhi Capitals</td><td>136.0</td><td>68</td><td>2</td></tr><tr><td>116</td><td>Bruce Morales</td><td>All-rounder</td><td>Mumbai Indians</td><td>116.0</td><td>58</td><td>4</td></tr><tr><td>106</td><td>Unknown</td><td>Bowler</td><td>Chennai Super Kings</td><td>88.0</td><td>44</td><td>1</td></tr><tr><td>111</td><td>Tim Powers</td><td>Unknown</td><td>Kolkata Knight Riders</td><td>76.0</td><td>38</td><td>2</td></tr><tr><td>117</td><td>Craig Daniels</td><td>All-rounder</td><td>Sunrisers Hyderabad</td><td>70.0</td><td>35</td><td>4</td></tr><tr><td>103</td><td>Warren Morgan</td><td>All-rounder</td><td>Sunrisers Hyderabad</td><td>58.0</td><td>29</td><td>2</td></tr><tr><td>119</td><td>Brooke Jenkins</td><td>All-rounder</td><td>Sunrisers Hyderabad</td><td>42.0</td><td>21</td><td>3</td></tr><tr><td>112</td><td>Brian Berry</td><td>Bowler</td><td>Delhi Capitals</td><td>30.0</td><td>15</td><td>0</td></tr><tr><td>104</td><td>Amber Bell</td><td>Bowler</td><td>Chennai Super Kings</td><td>28.0</td><td>14</td><td>3</td></tr><tr><td>105</td><td>Shawn Bowers</td><td>Batsman</td><td>Mumbai Indians</td><td>10.0</td><td>5</td><td>1</td></tr></tbody></table></div>"
      ]
     },
     "metadata": {
      "application/vnd.databricks.v1+output": {
       "addedWidgets": {},
       "aggData": [],
       "aggError": "",
       "aggOverflow": false,
       "aggSchema": [],
       "aggSeriesLimitReached": false,
       "aggType": "",
       "arguments": {},
       "columnCustomDisplayInfos": {},
       "data": [
        [
         102,
         "Laurie Brooks",
         "Batsman",
         "Sunrisers Hyderabad",
         194.0,
         97,
         2
        ],
        [
         108,
         "Jared Knox",
         "Bowler",
         "Chennai Super Kings",
         188.0,
         94,
         4
        ],
        [
         109,
         "Kevin Conrad",
         "Bowler",
         "Chennai Super Kings",
         186.0,
         93,
         2
        ],
        [
         115,
         "Breanna Jackson",
         "All-rounder",
         "Kolkata Knight Riders",
         170.0,
         85,
         0
        ],
        [
         101,
         "Thomas Mendez",
         "All-rounder",
         "Mumbai Indians",
         164.0,
         82,
         2
        ],
        [
         114,
         "Joshua Baird",
         "Bowler",
         "Chennai Super Kings",
         162.0,
         81,
         1
        ],
        [
         118,
         "Michael Martinez",
         "All-rounder",
         "Delhi Capitals",
         160.0,
         80,
         1
        ],
        [
         120,
         "Justin White",
         "Batsman",
         "Mumbai Indians",
         150.0,
         75,
         0
        ],
        [
         110,
         "Alan Padilla",
         "All-rounder",
         "Kolkata Knight Riders",
         150.0,
         75,
         3
        ],
        [
         113,
         "Joseph Meadows",
         "Batsman",
         "Sunrisers Hyderabad",
         140.0,
         70,
         1
        ],
        [
         107,
         "Autumn Chang",
         "All-rounder",
         "Delhi Capitals",
         136.0,
         68,
         2
        ],
        [
         116,
         "Bruce Morales",
         "All-rounder",
         "Mumbai Indians",
         116.0,
         58,
         4
        ],
        [
         106,
         "Unknown",
         "Bowler",
         "Chennai Super Kings",
         88.0,
         44,
         1
        ],
        [
         111,
         "Tim Powers",
         "Unknown",
         "Kolkata Knight Riders",
         76.0,
         38,
         2
        ],
        [
         117,
         "Craig Daniels",
         "All-rounder",
         "Sunrisers Hyderabad",
         70.0,
         35,
         4
        ],
        [
         103,
         "Warren Morgan",
         "All-rounder",
         "Sunrisers Hyderabad",
         58.0,
         29,
         2
        ],
        [
         119,
         "Brooke Jenkins",
         "All-rounder",
         "Sunrisers Hyderabad",
         42.0,
         21,
         3
        ],
        [
         112,
         "Brian Berry",
         "Bowler",
         "Delhi Capitals",
         30.0,
         15,
         0
        ],
        [
         104,
         "Amber Bell",
         "Bowler",
         "Chennai Super Kings",
         28.0,
         14,
         3
        ],
        [
         105,
         "Shawn Bowers",
         "Batsman",
         "Mumbai Indians",
         10.0,
         5,
         1
        ]
       ],
       "datasetInfos": [],
       "dbfsResultPath": null,
       "isJsonSchema": true,
       "metadata": {},
       "overflow": false,
       "plotOptions": {
        "customPlotOptions": {},
        "displayType": "table",
        "pivotAggregation": null,
        "pivotColumns": null,
        "xColumns": null,
        "yColumns": null
       },
       "removedWidgets": [],
       "schema": [
        {
         "metadata": "{\"scale\":0}",
         "name": "player_id",
         "type": "\"integer\""
        },
        {
         "metadata": "{\"scale\":0}",
         "name": "player_name",
         "type": "\"string\""
        },
        {
         "metadata": "{\"scale\":0}",
         "name": "player_role",
         "type": "\"string\""
        },
        {
         "metadata": "{\"scale\":0}",
         "name": "team_name",
         "type": "\"string\""
        },
        {
         "metadata": "{}",
         "name": "avg_strike_rate",
         "type": "\"double\""
        },
        {
         "metadata": "{}",
         "name": "total_runs",
         "type": "\"long\""
        },
        {
         "metadata": "{}",
         "name": "total_wickets",
         "type": "\"long\""
        }
       ],
       "type": "table"
      }
     },
     "output_type": "display_data"
    }
   ],
   "source": [
    "%sql\n",
    "WITH player_stats AS (\n",
    "    SELECT \n",
    "        pp.player_id,\n",
    "        pt.player_name,\n",
    "        pt.player_role,\n",
    "        pt.player_team_id,\n",
    "        t.team_name,\n",
    "        pp.player_runs_scored,\n",
    "        pp.player_wickets_taken,\n",
    "        pp.ball_taken,\n",
    "        CASE \n",
    "            WHEN pp.ball_taken <> 0 \n",
    "                THEN CAST(pp.player_runs_scored * 100.0 AS FLOAT) / pp.ball_taken\n",
    "            ELSE NULL\n",
    "        END AS strike_rate\n",
    "    FROM player_performance pp\n",
    "    JOIN player_team pt \n",
    "        ON pp.player_id = pt.player_id\n",
    "    JOIN team t\n",
    "        ON pt.player_team_id = t.team_id\n",
    ")\n",
    "\n",
    "SELECT\n",
    "    player_id,\n",
    "    player_name,\n",
    "    player_role,\n",
    "    team_name,\n",
    "    ROUND(AVG(strike_rate), 2) AS avg_strike_rate,\n",
    "    SUM(player_runs_scored) AS total_runs,\n",
    "    SUM(player_wickets_taken) AS total_wickets\n",
    "FROM player_stats\n",
    "GROUP BY player_id, player_name, player_role, team_name\n",
    "ORDER BY total_runs DESC;"
   ]
  },
  {
   "cell_type": "code",
   "execution_count": 0,
   "metadata": {
    "application/vnd.databricks.v1+cell": {
     "cellMetadata": {
      "byteLimit": 2048000,
      "rowLimit": 10000
     },
     "inputWidgets": {},
     "nuid": "8ba551b7-cc3f-492b-9ae0-9d7e5a232714",
     "showTitle": false,
     "tableResultSettingsMap": {},
     "title": ""
    }
   },
   "outputs": [],
   "source": [
    "Player_Efficiency_Metrics=_sqldf "
   ]
  },
  {
   "cell_type": "code",
   "execution_count": 0,
   "metadata": {
    "application/vnd.databricks.v1+cell": {
     "cellMetadata": {
      "byteLimit": 2048000,
      "rowLimit": 10000
     },
     "inputWidgets": {},
     "nuid": "47fdd414-207e-4095-8b1e-1041db71d58f",
     "showTitle": false,
     "tableResultSettingsMap": {},
     "title": ""
    }
   },
   "outputs": [],
   "source": [
    "Player_Efficiency_Metrics.write \\\n",
    "    .format(\"jdbc\") \\\n",
    "    .option(\"url\", jdbc_url) \\\n",
    "    .option(\"dbtable\", \"gold_db.Player_Efficiency_Metrics\") \\\n",
    "    .options(**connection_properties) \\\n",
    "    .mode(\"OVERWRITE\") \\\n",
    "    .save()"
   ]
  },
  {
   "cell_type": "code",
   "execution_count": 0,
   "metadata": {
    "application/vnd.databricks.v1+cell": {
     "cellMetadata": {
      "byteLimit": 2048000,
      "implicitDf": true,
      "rowLimit": 10000
     },
     "inputWidgets": {},
     "nuid": "14cb76dc-9445-48ab-b027-e3107a206acb",
     "showTitle": false,
     "tableResultSettingsMap": {},
     "title": ""
    }
   },
   "outputs": [
    {
     "output_type": "display_data",
     "data": {
      "text/html": [
       "<style scoped>\n",
       "  .table-result-container {\n",
       "    max-height: 300px;\n",
       "    overflow: auto;\n",
       "  }\n",
       "  table, th, td {\n",
       "    border: 1px solid black;\n",
       "    border-collapse: collapse;\n",
       "  }\n",
       "  th, td {\n",
       "    padding: 5px;\n",
       "  }\n",
       "  th {\n",
       "    text-align: left;\n",
       "  }\n",
       "</style><div class='table-result-container'><table class='table-result'><thead style='background-color: white'><tr><th>team_name</th><th>total_matches</th><th>win_percentage</th><th>loss_percentage</th><th>tie_percentage</th><th>cancelled_percentage</th><th>home_win_percentage</th><th>away_win_percentage</th></tr></thead><tbody><tr><td>Chennai Super Kings</td><td>5</td><td>60.0</td><td>20.0</td><td>20.0</td><td>0.0</td><td>100.0</td><td>33.33</td></tr><tr><td>Mumbai Indians</td><td>11</td><td>45.45</td><td>27.27</td><td>27.27</td><td>0.0</td><td>33.33</td><td>50.0</td></tr><tr><td>Kolkata Knight Riders</td><td>8</td><td>37.5</td><td>25.0</td><td>37.5</td><td>0.0</td><td>0.0</td><td>50.0</td></tr><tr><td>Delhi Capitals</td><td>11</td><td>27.27</td><td>54.55</td><td>9.09</td><td>9.09</td><td>100.0</td><td>20.0</td></tr><tr><td>Sunrisers Hyderabad</td><td>5</td><td>20.0</td><td>60.0</td><td>0.0</td><td>20.0</td><td>100.0</td><td>0.0</td></tr></tbody></table></div>"
      ]
     },
     "metadata": {
      "application/vnd.databricks.v1+output": {
       "addedWidgets": {},
       "aggData": [],
       "aggError": "",
       "aggOverflow": false,
       "aggSchema": [],
       "aggSeriesLimitReached": false,
       "aggType": "",
       "arguments": {},
       "columnCustomDisplayInfos": {},
       "data": [
        [
         "Chennai Super Kings",
         5,
         60.0,
         20.0,
         20.0,
         0.0,
         100.0,
         33.33
        ],
        [
         "Mumbai Indians",
         11,
         45.45,
         27.27,
         27.27,
         0.0,
         33.33,
         50.0
        ],
        [
         "Kolkata Knight Riders",
         8,
         37.5,
         25.0,
         37.5,
         0.0,
         0.0,
         50.0
        ],
        [
         "Delhi Capitals",
         11,
         27.27,
         54.55,
         9.09,
         9.09,
         100.0,
         20.0
        ],
        [
         "Sunrisers Hyderabad",
         5,
         20.0,
         60.0,
         0.0,
         20.0,
         100.0,
         0.0
        ]
       ],
       "datasetInfos": [],
       "dbfsResultPath": null,
       "isJsonSchema": true,
       "metadata": {},
       "overflow": false,
       "plotOptions": {
        "customPlotOptions": {},
        "displayType": "table",
        "pivotAggregation": null,
        "pivotColumns": null,
        "xColumns": null,
        "yColumns": null
       },
       "removedWidgets": [],
       "schema": [
        {
         "metadata": "{\"scale\":0}",
         "name": "team_name",
         "type": "\"string\""
        },
        {
         "metadata": "{}",
         "name": "total_matches",
         "type": "\"long\""
        },
        {
         "metadata": "{}",
         "name": "win_percentage",
         "type": "\"double\""
        },
        {
         "metadata": "{}",
         "name": "loss_percentage",
         "type": "\"double\""
        },
        {
         "metadata": "{}",
         "name": "tie_percentage",
         "type": "\"double\""
        },
        {
         "metadata": "{}",
         "name": "cancelled_percentage",
         "type": "\"double\""
        },
        {
         "metadata": "{}",
         "name": "home_win_percentage",
         "type": "\"double\""
        },
        {
         "metadata": "{}",
         "name": "away_win_percentage",
         "type": "\"double\""
        }
       ],
       "type": "table"
      }
     },
     "output_type": "display_data"
    }
   ],
   "source": [
    "%sql\n",
    "WITH all_match_results AS (\n",
    "    SELECT \n",
    "        team_id AS team, \n",
    "        match_performance_match_id AS match_id, \n",
    "        match_result \n",
    "    FROM match_performance\n",
    "\n",
    "    UNION ALL\n",
    "\n",
    "    SELECT \n",
    "        opponent_team_id AS team, \n",
    "        match_performance_match_id,\n",
    "        CASE \n",
    "            WHEN match_result = 'Win' THEN 'Loss'\n",
    "            WHEN match_result = 'Loss' THEN 'Win'\n",
    "            ELSE match_result\n",
    "        END AS match_result\n",
    "    FROM match_performance\n",
    "),\n",
    "\n",
    "match_with_stadium AS (\n",
    "    SELECT \n",
    "        amr.team,\n",
    "        amr.match_id,\n",
    "        amr.match_result,\n",
    "        t.team_name,\n",
    "        t.home_ground,\n",
    "        s.stadium_name\n",
    "    FROM all_match_results amr\n",
    "    JOIN team t ON amr.team = t.team_id\n",
    "    JOIN match_stadium ms ON amr.match_id = ms.match_id\n",
    "    JOIN stadium s ON ms.stadium_id = s.stadium_id\n",
    "),\n",
    "\n",
    "location_tagged AS (\n",
    "    SELECT *,\n",
    "        CASE \n",
    "            WHEN stadium_name = home_ground THEN 'Home'\n",
    "            ELSE 'Away'\n",
    "        END AS match_location\n",
    "    FROM match_with_stadium\n",
    "),\n",
    "\n",
    "win_stats AS (\n",
    "    SELECT \n",
    "        team_name,\n",
    "        COUNT(*) AS total_matches,\n",
    "\n",
    "        -- Overall counts\n",
    "        COUNT(CASE WHEN match_result = 'Win' THEN 1 END) AS total_wins,\n",
    "        COUNT(CASE WHEN match_result = 'Loss' THEN 1 END) AS total_losses,\n",
    "        COUNT(CASE WHEN match_result = 'Tie' THEN 1 END) AS total_ties,\n",
    "        COUNT(CASE WHEN match_result = 'Cancelled' THEN 1 END) AS total_cancelled,\n",
    "\n",
    "        \n",
    "        COUNT(CASE WHEN match_location = 'Home' THEN 1 END) AS home_matches,\n",
    "        COUNT(CASE WHEN match_location = 'Away' THEN 1 END) AS away_matches,\n",
    "        COUNT(CASE WHEN match_result = 'Win' AND match_location = 'Home' THEN 1 END) AS home_wins,\n",
    "        COUNT(CASE WHEN match_result = 'Win' AND match_location = 'Away' THEN 1 END) AS away_wins\n",
    "    FROM location_tagged\n",
    "    GROUP BY team_name\n",
    ")\n",
    "\n",
    "SELECT \n",
    "    team_name,\n",
    "    total_matches,\n",
    "\n",
    "    \n",
    "    ROUND(CAST(total_wins AS FLOAT) / total_matches * 100, 2) AS win_percentage,\n",
    "    ROUND(CAST(total_losses AS FLOAT) / total_matches * 100, 2) AS loss_percentage,\n",
    "    ROUND(CAST(total_ties AS FLOAT) / total_matches * 100, 2) AS tie_percentage,\n",
    "    ROUND(CAST(total_cancelled AS FLOAT) / total_matches * 100, 2) AS cancelled_percentage,\n",
    "\n",
    "    -- Home and Away win %\n",
    "    ROUND(CAST(home_wins AS FLOAT) / NULLIF(home_matches, 0) * 100, 2) AS home_win_percentage,\n",
    "    ROUND(CAST(away_wins AS FLOAT) / NULLIF(away_matches, 0) * 100, 2) AS away_win_percentage\n",
    "\n",
    "FROM win_stats\n",
    "ORDER BY win_percentage DESC;"
   ]
  },
  {
   "cell_type": "code",
   "execution_count": 0,
   "metadata": {
    "application/vnd.databricks.v1+cell": {
     "cellMetadata": {
      "byteLimit": 2048000,
      "rowLimit": 10000
     },
     "inputWidgets": {},
     "nuid": "99cf2a97-5f8b-4a01-ad53-81b821ff40a0",
     "showTitle": false,
     "tableResultSettingsMap": {},
     "title": ""
    }
   },
   "outputs": [],
   "source": [
    "Additional_Metrics=_sqldf"
   ]
  },
  {
   "cell_type": "code",
   "execution_count": 0,
   "metadata": {
    "application/vnd.databricks.v1+cell": {
     "cellMetadata": {
      "byteLimit": 2048000,
      "rowLimit": 10000
     },
     "inputWidgets": {},
     "nuid": "e145cc7d-ca5d-4dbf-bfbf-0f4a762ec1ca",
     "showTitle": false,
     "tableResultSettingsMap": {},
     "title": ""
    }
   },
   "outputs": [],
   "source": [
    "Additional_Metrics.write \\\n",
    "    .format(\"jdbc\") \\\n",
    "    .option(\"url\", jdbc_url) \\\n",
    "    .option(\"dbtable\", \"gold_db.Additional_Metrics\") \\\n",
    "    .options(**connection_properties) \\\n",
    "    .mode(\"OVERWRITE\") \\\n",
    "    .save()"
   ]
  },
  {
   "cell_type": "code",
   "execution_count": 0,
   "metadata": {
    "application/vnd.databricks.v1+cell": {
     "cellMetadata": {
      "byteLimit": 2048000,
      "implicitDf": true,
      "rowLimit": 10000
     },
     "inputWidgets": {},
     "nuid": "efb74764-f783-4603-88d9-9eba7ebabc95",
     "showTitle": false,
     "tableResultSettingsMap": {},
     "title": ""
    }
   },
   "outputs": [
    {
     "output_type": "display_data",
     "data": {
      "text/html": [
       "<style scoped>\n",
       "  .table-result-container {\n",
       "    max-height: 300px;\n",
       "    overflow: auto;\n",
       "  }\n",
       "  table, th, td {\n",
       "    border: 1px solid black;\n",
       "    border-collapse: collapse;\n",
       "  }\n",
       "  th, td {\n",
       "    padding: 5px;\n",
       "  }\n",
       "  th {\n",
       "    text-align: left;\n",
       "  }\n",
       "</style><div class='table-result-container'><table class='table-result'><thead style='background-color: white'><tr><th>team_name</th><th>player_name</th><th>player_role</th><th>total_runs</th><th>total_wickets</th><th>strike_rate</th><th>contribution_score</th></tr></thead><tbody><tr><td>Chennai Super Kings</td><td>Jared Knox</td><td>Bowler</td><td>94</td><td>4</td><td>188.0</td><td>134</td></tr><tr><td>Chennai Super Kings</td><td>Kevin Conrad</td><td>Bowler</td><td>93</td><td>2</td><td>186.0</td><td>113</td></tr><tr><td>Delhi Capitals</td><td>Michael Martinez</td><td>All-rounder</td><td>80</td><td>1</td><td>160.0</td><td>90</td></tr><tr><td>Delhi Capitals</td><td>Autumn Chang</td><td>All-rounder</td><td>68</td><td>2</td><td>136.0</td><td>88</td></tr><tr><td>Kolkata Knight Riders</td><td>Alan Padilla</td><td>All-rounder</td><td>75</td><td>3</td><td>150.0</td><td>105</td></tr><tr><td>Kolkata Knight Riders</td><td>Breanna Jackson</td><td>All-rounder</td><td>85</td><td>0</td><td>170.0</td><td>85</td></tr><tr><td>Mumbai Indians</td><td>Thomas Mendez</td><td>All-rounder</td><td>82</td><td>2</td><td>164.0</td><td>102</td></tr><tr><td>Mumbai Indians</td><td>Bruce Morales</td><td>All-rounder</td><td>58</td><td>4</td><td>116.0</td><td>98</td></tr><tr><td>Sunrisers Hyderabad</td><td>Laurie Brooks</td><td>Batsman</td><td>97</td><td>2</td><td>194.0</td><td>117</td></tr><tr><td>Sunrisers Hyderabad</td><td>Joseph Meadows</td><td>Batsman</td><td>70</td><td>1</td><td>140.0</td><td>80</td></tr></tbody></table></div>"
      ]
     },
     "metadata": {
      "application/vnd.databricks.v1+output": {
       "addedWidgets": {},
       "aggData": [],
       "aggError": "",
       "aggOverflow": false,
       "aggSchema": [],
       "aggSeriesLimitReached": false,
       "aggType": "",
       "arguments": {},
       "columnCustomDisplayInfos": {},
       "data": [
        [
         "Chennai Super Kings",
         "Jared Knox",
         "Bowler",
         94,
         4,
         188.0,
         134
        ],
        [
         "Chennai Super Kings",
         "Kevin Conrad",
         "Bowler",
         93,
         2,
         186.0,
         113
        ],
        [
         "Delhi Capitals",
         "Michael Martinez",
         "All-rounder",
         80,
         1,
         160.0,
         90
        ],
        [
         "Delhi Capitals",
         "Autumn Chang",
         "All-rounder",
         68,
         2,
         136.0,
         88
        ],
        [
         "Kolkata Knight Riders",
         "Alan Padilla",
         "All-rounder",
         75,
         3,
         150.0,
         105
        ],
        [
         "Kolkata Knight Riders",
         "Breanna Jackson",
         "All-rounder",
         85,
         0,
         170.0,
         85
        ],
        [
         "Mumbai Indians",
         "Thomas Mendez",
         "All-rounder",
         82,
         2,
         164.0,
         102
        ],
        [
         "Mumbai Indians",
         "Bruce Morales",
         "All-rounder",
         58,
         4,
         116.0,
         98
        ],
        [
         "Sunrisers Hyderabad",
         "Laurie Brooks",
         "Batsman",
         97,
         2,
         194.0,
         117
        ],
        [
         "Sunrisers Hyderabad",
         "Joseph Meadows",
         "Batsman",
         70,
         1,
         140.0,
         80
        ]
       ],
       "datasetInfos": [],
       "dbfsResultPath": null,
       "isJsonSchema": true,
       "metadata": {},
       "overflow": false,
       "plotOptions": {
        "customPlotOptions": {},
        "displayType": "table",
        "pivotAggregation": null,
        "pivotColumns": null,
        "xColumns": null,
        "yColumns": null
       },
       "removedWidgets": [],
       "schema": [
        {
         "metadata": "{\"scale\":0}",
         "name": "team_name",
         "type": "\"string\""
        },
        {
         "metadata": "{\"scale\":0}",
         "name": "player_name",
         "type": "\"string\""
        },
        {
         "metadata": "{\"scale\":0}",
         "name": "player_role",
         "type": "\"string\""
        },
        {
         "metadata": "{}",
         "name": "total_runs",
         "type": "\"long\""
        },
        {
         "metadata": "{}",
         "name": "total_wickets",
         "type": "\"long\""
        },
        {
         "metadata": "{}",
         "name": "strike_rate",
         "type": "\"double\""
        },
        {
         "metadata": "{}",
         "name": "contribution_score",
         "type": "\"long\""
        }
       ],
       "type": "table"
      }
     },
     "output_type": "display_data"
    }
   ],
   "source": [
    "%sql\n",
    "WITH player_stats AS (\n",
    "    SELECT \n",
    "        tm.team_name,\n",
    "        pt.player_name,\n",
    "        pt.player_role,\n",
    "        SUM(pp.player_runs_scored) AS total_runs,\n",
    "        SUM(pp.player_wickets_taken) AS total_wickets,\n",
    "        SUM(pp.ball_taken) AS total_balls,\n",
    "        ROUND(\n",
    "            CASE \n",
    "                WHEN SUM(pp.ball_taken) > 0 THEN \n",
    "                    (CAST(SUM(pp.player_runs_scored) AS FLOAT) / SUM(pp.ball_taken)) * 100 \n",
    "                ELSE NULL \n",
    "            END, 2\n",
    "        ) AS strike_rate,\n",
    "        -- Contribution Score: runs + (10 * wickets)\n",
    "        SUM(pp.player_runs_scored) + 10 * SUM(pp.player_wickets_taken) AS contribution_score\n",
    "    FROM player_performance pp\n",
    "    JOIN player_team pt ON pp.player_id = pt.player_id\n",
    "    JOIN team tm ON pt.player_team_id = tm.team_id\n",
    "    GROUP BY tm.team_name, pt.player_name, pt.player_role\n",
    "),\n",
    "ranked_stats AS (\n",
    "    SELECT *,\n",
    "        ROW_NUMBER() OVER (PARTITION BY team_name ORDER BY contribution_score DESC) AS rn\n",
    "    FROM player_stats\n",
    ")\n",
    "SELECT \n",
    "    team_name,\n",
    "    player_name,\n",
    "    player_role,\n",
    "    total_runs,\n",
    "    total_wickets,\n",
    "    strike_rate,\n",
    "    contribution_score\n",
    "FROM ranked_stats\n",
    "WHERE rn <= 2\n",
    "ORDER BY team_name, rn;\n"
   ]
  },
  {
   "cell_type": "code",
   "execution_count": 0,
   "metadata": {
    "application/vnd.databricks.v1+cell": {
     "cellMetadata": {
      "byteLimit": 2048000,
      "rowLimit": 10000
     },
     "inputWidgets": {},
     "nuid": "39f64311-dfc4-48c8-bc10-3cf9882350a5",
     "showTitle": false,
     "tableResultSettingsMap": {},
     "title": ""
    }
   },
   "outputs": [],
   "source": [
    "Player_Contribution=_sqldf"
   ]
  },
  {
   "cell_type": "code",
   "execution_count": 0,
   "metadata": {
    "application/vnd.databricks.v1+cell": {
     "cellMetadata": {
      "byteLimit": 2048000,
      "rowLimit": 10000
     },
     "inputWidgets": {},
     "nuid": "c8fb3e6d-d2ea-4262-8b4c-821b13ca0edb",
     "showTitle": false,
     "tableResultSettingsMap": {},
     "title": ""
    }
   },
   "outputs": [],
   "source": [
    "Player_Contribution.write \\\n",
    "    .format(\"jdbc\") \\\n",
    "    .option(\"url\", jdbc_url) \\\n",
    "    .option(\"dbtable\", \"gold_db.Player_Contribution\") \\\n",
    "    .options(**connection_properties) \\\n",
    "    .mode(\"OVERWRITE\") \\\n",
    "    .save()"
   ]
  }
 ],
 "metadata": {
  "application/vnd.databricks.v1+notebook": {
   "computePreferences": null,
   "dashboards": [],
   "environmentMetadata": {
    "base_environment": "",
    "environment_version": "2"
   },
   "inputWidgetPreferences": null,
   "language": "python",
   "notebookMetadata": {
    "mostRecentlyExecutedCommandWithImplicitDF": {
     "commandId": 6029417832703975,
     "dataframes": [
      "_sqldf"
     ]
    },
    "pythonIndentUnit": 4
   },
   "notebookName": "silver to gold",
   "widgets": {}
  },
  "language_info": {
   "name": "python"
  }
 },
 "nbformat": 4,
 "nbformat_minor": 0
}