{
 "cells": [
  {
   "cell_type": "markdown",
   "metadata": {
    "application/vnd.databricks.v1+cell": {
     "cellMetadata": {},
     "inputWidgets": {},
     "nuid": "ebaf7790-5c15-4395-bd24-ad9bece601f5",
     "showTitle": false,
     "tableResultSettingsMap": {},
     "title": ""
    }
   },
   "source": [
    "#  Bronze Layer Notebook\n",
    "\n",
    "##  Objective:\n",
    "This notebook handles:\n",
    "- Reading raw CSV files from the Azure Blob Storage (`raw` container).\n",
    "- Adding audit columns.\n",
    "- Converting the data into optimized Parquet format.\n",
    "- Writing the processed files to the Bronze layer in ADLS Gen2.\n",
    "\n",
    "---\n",
    "\n",
    "##  Step 1: Start Spark Session\n",
    "Initializes the Spark session required to perform all operations.\n",
    "\n",
    "---\n",
    "\n",
    "##  Step 2: Mount Raw Container\n",
    "Connects Databricks to the Azure Blob storage (`raw`) container using a mount point, enabling access to CSV files.\n",
    "\n",
    "---\n",
    "\n",
    "##  Step 3: List Files\n",
    "Lists all files present in the raw container to verify visibility and structure.\n",
    "\n",
    "---\n",
    "\n",
    "##  Step 4: Read CSV Files into DataFrames\n",
    "Each raw CSV file (e.g., `players.csv`, `matches.csv`, etc.) is read into separate PySpark DataFrames.\n",
    "\n",
    "---\n",
    "\n",
    "##  Step 5: Add Audit Columns\n",
    "Adds:\n",
    "- `ingestion_date`: Timestamp when the file is processed.\n",
    "- `source_file`: Name of the file being read.\n",
    "\n",
    "These help with data lineage and tracking.\n",
    "\n",
    "---\n",
    "\n",
    "##  Step 6: Write to Bronze Layer\n",
    "Data is saved in Parquet format (optimized for analytics) to the Bronze container using `overwrite` mode.\n"
   ]
  },
  {
   "cell_type": "code",
   "execution_count": 0,
   "metadata": {
    "application/vnd.databricks.v1+cell": {
     "cellMetadata": {
      "byteLimit": 2048000,
      "rowLimit": 10000
     },
     "inputWidgets": {},
     "nuid": "9c5e99ad-b7a9-4fb6-b460-1ce4cd9d7a77",
     "showTitle": false,
     "tableResultSettingsMap": {},
     "title": ""
    }
   },
   "outputs": [],
   "source": [
    "from pyspark.sql import SparkSession\n",
    "from pyspark.sql.functions import *\n",
    "\n",
    "spark = SparkSession.builder.appName(\"Statement of Work\").getOrCreate()"
   ]
  },
  {
   "cell_type": "code",
   "execution_count": 0,
   "metadata": {
    "application/vnd.databricks.v1+cell": {
     "cellMetadata": {
      "byteLimit": 2048000,
      "rowLimit": 10000
     },
     "inputWidgets": {},
     "nuid": "a3ea0955-7d1e-49f7-a81a-56cb8fd933b8",
     "showTitle": false,
     "tableResultSettingsMap": {},
     "title": ""
    }
   },
   "outputs": [
    {
     "output_type": "stream",
     "name": "stdout",
     "output_type": "stream",
     "text": [
      "/mnt/blob_storage has been unmounted.\nOut[4]: True"
     ]
    }
   ],
   "source": [
    "dbutils.fs.unmount(\"/mnt/blob_storage\")"
   ]
  },
  {
   "cell_type": "code",
   "execution_count": 0,
   "metadata": {
    "application/vnd.databricks.v1+cell": {
     "cellMetadata": {
      "byteLimit": 2048000,
      "rowLimit": 10000
     },
     "inputWidgets": {},
     "nuid": "62d14e26-5e4a-4967-889d-a5985c122d78",
     "showTitle": false,
     "tableResultSettingsMap": {},
     "title": ""
    }
   },
   "outputs": [
    {
     "output_type": "stream",
     "name": "stdout",
     "output_type": "stream",
     "text": [
      "Out[5]: True"
     ]
    }
   ],
   "source": [
    "dbutils.fs.mount(\n",
    "  source=\"wasbs://raw@iplblob.blob.core.windows.net\",\n",
    "  mount_point=\"/mnt/blob_storage\",\n",
    "  extra_configs={\"fs.azure.account.key.iplblob.blob.core.windows.net\": \"g+DtFx28yRFLrml30yo8yBqpc02Vmc/c/igV+t5ulx46pziXxHEobQUiWvPCROCnrYPqRqLUD+HY+AStg9eUWw==\"}\n",
    ")"
   ]
  },
  {
   "cell_type": "code",
   "execution_count": 0,
   "metadata": {
    "application/vnd.databricks.v1+cell": {
     "cellMetadata": {
      "byteLimit": 2048000,
      "rowLimit": 10000
     },
     "inputWidgets": {},
     "nuid": "de70aeed-f74f-487f-a6a1-f7a6910154e9",
     "showTitle": false,
     "tableResultSettingsMap": {},
     "title": ""
    }
   },
   "outputs": [
    {
     "output_type": "display_data",
     "data": {
      "text/html": [
       "<style scoped>\n",
       "  .table-result-container {\n",
       "    max-height: 300px;\n",
       "    overflow: auto;\n",
       "  }\n",
       "  table, th, td {\n",
       "    border: 1px solid black;\n",
       "    border-collapse: collapse;\n",
       "  }\n",
       "  th, td {\n",
       "    padding: 5px;\n",
       "  }\n",
       "  th {\n",
       "    text-align: left;\n",
       "  }\n",
       "</style><div class='table-result-container'><table class='table-result'><thead style='background-color: white'><tr><th>mountPoint</th><th>source</th><th>encryptionType</th></tr></thead><tbody><tr><td>/databricks-datasets</td><td>databricks-datasets</td><td></td></tr><tr><td>/mnt/blob_storage</td><td>wasbs://raw@iplblob.blob.core.windows.net</td><td></td></tr><tr><td>/Volumes</td><td>UnityCatalogVolumes</td><td></td></tr><tr><td>/databricks/mlflow-tracking</td><td>databricks/mlflow-tracking</td><td></td></tr><tr><td>/mnt/adls_storage/silver</td><td>wasbs://silver-ipl@adlsipl.blob.core.windows.net</td><td></td></tr><tr><td>/databricks-results</td><td>databricks-results</td><td></td></tr><tr><td>/databricks/mlflow-registry</td><td>databricks/mlflow-registry</td><td></td></tr><tr><td>/mnt/adls_storage/bronze</td><td>wasbs://bronze-ipl@adlsipl.blob.core.windows.net</td><td></td></tr><tr><td>/Volume</td><td>DbfsReserved</td><td></td></tr><tr><td>/volumes</td><td>DbfsReserved</td><td></td></tr><tr><td>/</td><td>DatabricksRoot</td><td></td></tr><tr><td>/volume</td><td>DbfsReserved</td><td></td></tr></tbody></table></div>"
      ]
     },
     "metadata": {
      "application/vnd.databricks.v1+output": {
       "addedWidgets": {},
       "aggData": [],
       "aggError": "",
       "aggOverflow": false,
       "aggSchema": [],
       "aggSeriesLimitReached": false,
       "aggType": "",
       "arguments": {},
       "columnCustomDisplayInfos": {},
       "data": [
        [
         "/databricks-datasets",
         "databricks-datasets",
         ""
        ],
        [
         "/mnt/blob_storage",
         "wasbs://raw@iplblob.blob.core.windows.net",
         ""
        ],
        [
         "/Volumes",
         "UnityCatalogVolumes",
         ""
        ],
        [
         "/databricks/mlflow-tracking",
         "databricks/mlflow-tracking",
         ""
        ],
        [
         "/mnt/adls_storage/silver",
         "wasbs://silver-ipl@adlsipl.blob.core.windows.net",
         ""
        ],
        [
         "/databricks-results",
         "databricks-results",
         ""
        ],
        [
         "/databricks/mlflow-registry",
         "databricks/mlflow-registry",
         ""
        ],
        [
         "/mnt/adls_storage/bronze",
         "wasbs://bronze-ipl@adlsipl.blob.core.windows.net",
         ""
        ],
        [
         "/Volume",
         "DbfsReserved",
         ""
        ],
        [
         "/volumes",
         "DbfsReserved",
         ""
        ],
        [
         "/",
         "DatabricksRoot",
         ""
        ],
        [
         "/volume",
         "DbfsReserved",
         ""
        ]
       ],
       "datasetInfos": [],
       "dbfsResultPath": null,
       "isJsonSchema": true,
       "metadata": {},
       "overflow": false,
       "plotOptions": {
        "customPlotOptions": {},
        "displayType": "table",
        "pivotAggregation": null,
        "pivotColumns": null,
        "xColumns": null,
        "yColumns": null
       },
       "removedWidgets": [],
       "schema": [
        {
         "metadata": "{}",
         "name": "mountPoint",
         "type": "\"string\""
        },
        {
         "metadata": "{}",
         "name": "source",
         "type": "\"string\""
        },
        {
         "metadata": "{}",
         "name": "encryptionType",
         "type": "\"string\""
        }
       ],
       "type": "table"
      }
     },
     "output_type": "display_data"
    }
   ],
   "source": [
    "display(dbutils.fs.mounts())"
   ]
  },
  {
   "cell_type": "code",
   "execution_count": 0,
   "metadata": {
    "application/vnd.databricks.v1+cell": {
     "cellMetadata": {
      "byteLimit": 2048000,
      "rowLimit": 10000
     },
     "inputWidgets": {},
     "nuid": "2034daf0-0a8a-4558-a7c2-aee681ccfc12",
     "showTitle": false,
     "tableResultSettingsMap": {},
     "title": ""
    }
   },
   "outputs": [
    {
     "output_type": "display_data",
     "data": {
      "text/html": [
       "<style scoped>\n",
       "  .table-result-container {\n",
       "    max-height: 300px;\n",
       "    overflow: auto;\n",
       "  }\n",
       "  table, th, td {\n",
       "    border: 1px solid black;\n",
       "    border-collapse: collapse;\n",
       "  }\n",
       "  th, td {\n",
       "    padding: 5px;\n",
       "  }\n",
       "  th {\n",
       "    text-align: left;\n",
       "  }\n",
       "</style><div class='table-result-container'><table class='table-result'><thead style='background-color: white'><tr><th>path</th><th>name</th><th>size</th><th>modificationTime</th></tr></thead><tbody><tr><td>dbfs:/mnt/blob_storage/match_performance.csv</td><td>match_performance.csv</td><td>482</td><td>1743689136000</td></tr><tr><td>dbfs:/mnt/blob_storage/match_stadium.csv</td><td>match_stadium.csv</td><td>180</td><td>1743689028000</td></tr><tr><td>dbfs:/mnt/blob_storage/player_performance.csv</td><td>player_performance.csv</td><td>396</td><td>1743689136000</td></tr><tr><td>dbfs:/mnt/blob_storage/player_team.csv</td><td>player_team.csv</td><td>602</td><td>1743689136000</td></tr><tr><td>dbfs:/mnt/blob_storage/stadium.csv</td><td>stadium.csv</td><td>225</td><td>1743689028000</td></tr><tr><td>dbfs:/mnt/blob_storage/team.csv</td><td>team.csv</td><td>281</td><td>1743689028000</td></tr></tbody></table></div>"
      ]
     },
     "metadata": {
      "application/vnd.databricks.v1+output": {
       "addedWidgets": {},
       "aggData": [],
       "aggError": "",
       "aggOverflow": false,
       "aggSchema": [],
       "aggSeriesLimitReached": false,
       "aggType": "",
       "arguments": {},
       "columnCustomDisplayInfos": {},
       "data": [
        [
         "dbfs:/mnt/blob_storage/match_performance.csv",
         "match_performance.csv",
         482,
         1743689136000
        ],
        [
         "dbfs:/mnt/blob_storage/match_stadium.csv",
         "match_stadium.csv",
         180,
         1743689028000
        ],
        [
         "dbfs:/mnt/blob_storage/player_performance.csv",
         "player_performance.csv",
         396,
         1743689136000
        ],
        [
         "dbfs:/mnt/blob_storage/player_team.csv",
         "player_team.csv",
         602,
         1743689136000
        ],
        [
         "dbfs:/mnt/blob_storage/stadium.csv",
         "stadium.csv",
         225,
         1743689028000
        ],
        [
         "dbfs:/mnt/blob_storage/team.csv",
         "team.csv",
         281,
         1743689028000
        ]
       ],
       "datasetInfos": [],
       "dbfsResultPath": null,
       "isJsonSchema": true,
       "metadata": {},
       "overflow": false,
       "plotOptions": {
        "customPlotOptions": {},
        "displayType": "table",
        "pivotAggregation": null,
        "pivotColumns": null,
        "xColumns": null,
        "yColumns": null
       },
       "removedWidgets": [],
       "schema": [
        {
         "metadata": "{}",
         "name": "path",
         "type": "\"string\""
        },
        {
         "metadata": "{}",
         "name": "name",
         "type": "\"string\""
        },
        {
         "metadata": "{}",
         "name": "size",
         "type": "\"long\""
        },
        {
         "metadata": "{}",
         "name": "modificationTime",
         "type": "\"long\""
        }
       ],
       "type": "table"
      }
     },
     "output_type": "display_data"
    }
   ],
   "source": [
    "display(dbutils.fs.ls(\"/mnt/blob_storage\"))"
   ]
  },
  {
   "cell_type": "code",
   "execution_count": 0,
   "metadata": {
    "application/vnd.databricks.v1+cell": {
     "cellMetadata": {
      "byteLimit": 2048000,
      "rowLimit": 10000
     },
     "inputWidgets": {},
     "nuid": "0d12adfa-d759-44c0-a814-b662859c40c0",
     "showTitle": false,
     "tableResultSettingsMap": {},
     "title": ""
    }
   },
   "outputs": [],
   "source": [
    "df_match_performance = spark.read.csv(\"dbfs:/mnt/blob_storage/match_performance.csv\", header=True, inferSchema=True)\\\n",
    "    .withColumn(\"ingestion_date\", current_date()).withColumn(\"source_file\", lit(\"match_performance.csv\"))"
   ]
  },
  {
   "cell_type": "code",
   "execution_count": 0,
   "metadata": {
    "application/vnd.databricks.v1+cell": {
     "cellMetadata": {
      "byteLimit": 2048000,
      "rowLimit": 10000
     },
     "inputWidgets": {},
     "nuid": "21378ee7-10aa-479d-831f-bcc30dc7d139",
     "showTitle": false,
     "tableResultSettingsMap": {},
     "title": ""
    }
   },
   "outputs": [],
   "source": [
    "# df_match_performance.display()"
   ]
  },
  {
   "cell_type": "code",
   "execution_count": 0,
   "metadata": {
    "application/vnd.databricks.v1+cell": {
     "cellMetadata": {
      "byteLimit": 2048000,
      "rowLimit": 10000
     },
     "inputWidgets": {},
     "nuid": "874ef575-ffa9-4a61-85dd-45ad351f13e4",
     "showTitle": false,
     "tableResultSettingsMap": {},
     "title": ""
    }
   },
   "outputs": [],
   "source": [
    "df_match_stadium = spark.read.csv(\"dbfs:/mnt/blob_storage/match_stadium.csv\", header=True, inferSchema=True) \\\n",
    "    .withColumn(\"ingestion_date\", current_date()).withColumn(\"source_file\", lit(\"match_stadium.csv\"))"
   ]
  },
  {
   "cell_type": "code",
   "execution_count": 0,
   "metadata": {
    "application/vnd.databricks.v1+cell": {
     "cellMetadata": {
      "byteLimit": 2048000,
      "rowLimit": 10000
     },
     "inputWidgets": {},
     "nuid": "71385efc-9e10-4d16-9420-9835d32e916b",
     "showTitle": false,
     "tableResultSettingsMap": {},
     "title": ""
    }
   },
   "outputs": [],
   "source": [
    "# df_match_stadium.display()"
   ]
  },
  {
   "cell_type": "code",
   "execution_count": 0,
   "metadata": {
    "application/vnd.databricks.v1+cell": {
     "cellMetadata": {
      "byteLimit": 2048000,
      "rowLimit": 10000
     },
     "inputWidgets": {},
     "nuid": "d1ae877a-03e5-41d1-9f89-9f857b2afef5",
     "showTitle": false,
     "tableResultSettingsMap": {},
     "title": ""
    }
   },
   "outputs": [],
   "source": [
    "df_player_team = spark.read.csv(\"dbfs:/mnt/blob_storage/player_team.csv\", header=True, inferSchema=True) \\\n",
    "    .withColumn(\"ingestion_date\", current_date()).withColumn(\"source_file\", lit(\"player_team.csv\"))"
   ]
  },
  {
   "cell_type": "code",
   "execution_count": 0,
   "metadata": {
    "application/vnd.databricks.v1+cell": {
     "cellMetadata": {
      "byteLimit": 2048000,
      "rowLimit": 10000
     },
     "inputWidgets": {},
     "nuid": "e2200fe6-d92b-4ce2-ac11-0bd4e60c3a50",
     "showTitle": false,
     "tableResultSettingsMap": {},
     "title": ""
    }
   },
   "outputs": [],
   "source": [
    "# df_player_team.display()"
   ]
  },
  {
   "cell_type": "code",
   "execution_count": 0,
   "metadata": {
    "application/vnd.databricks.v1+cell": {
     "cellMetadata": {
      "byteLimit": 2048000,
      "rowLimit": 10000
     },
     "inputWidgets": {},
     "nuid": "867f480b-434b-4bc5-9533-df9be1d57a1a",
     "showTitle": false,
     "tableResultSettingsMap": {},
     "title": ""
    }
   },
   "outputs": [],
   "source": [
    "df_player_performance = spark.read.csv(\"dbfs:/mnt/blob_storage/player_performance.csv\", header=True, inferSchema=True) \\\n",
    "    .withColumn(\"ingestion_date\", current_date()).withColumn(\"source_file\", lit(\"player_performance.csv\"))"
   ]
  },
  {
   "cell_type": "code",
   "execution_count": 0,
   "metadata": {
    "application/vnd.databricks.v1+cell": {
     "cellMetadata": {
      "byteLimit": 2048000,
      "rowLimit": 10000
     },
     "inputWidgets": {},
     "nuid": "e4b911c9-fffc-4cc6-8fb7-399f8fe978e3",
     "showTitle": false,
     "tableResultSettingsMap": {},
     "title": ""
    }
   },
   "outputs": [],
   "source": [
    "# df_player_performance.display()"
   ]
  },
  {
   "cell_type": "code",
   "execution_count": 0,
   "metadata": {
    "application/vnd.databricks.v1+cell": {
     "cellMetadata": {
      "byteLimit": 2048000,
      "rowLimit": 10000
     },
     "inputWidgets": {},
     "nuid": "f92ffe0e-a618-4c13-9e7e-89d41fcc89ae",
     "showTitle": false,
     "tableResultSettingsMap": {},
     "title": ""
    }
   },
   "outputs": [],
   "source": [
    "df_stadium = spark.read.csv(\"dbfs:/mnt/blob_storage/stadium.csv\", header=True, inferSchema=True) \\\n",
    "    .withColumn(\"ingestion_date\", current_date()).withColumn(\"source_file\", lit(\"stadium.csv\"))"
   ]
  },
  {
   "cell_type": "code",
   "execution_count": 0,
   "metadata": {
    "application/vnd.databricks.v1+cell": {
     "cellMetadata": {
      "byteLimit": 2048000,
      "rowLimit": 10000
     },
     "inputWidgets": {},
     "nuid": "e292ad15-611c-4ea2-822c-6168eff830be",
     "showTitle": false,
     "tableResultSettingsMap": {},
     "title": ""
    }
   },
   "outputs": [],
   "source": [
    "# df_stadium.display()"
   ]
  },
  {
   "cell_type": "code",
   "execution_count": 0,
   "metadata": {
    "application/vnd.databricks.v1+cell": {
     "cellMetadata": {
      "byteLimit": 2048000,
      "rowLimit": 10000
     },
     "inputWidgets": {},
     "nuid": "b2568fe0-1925-448b-a223-0456f234ee19",
     "showTitle": false,
     "tableResultSettingsMap": {},
     "title": ""
    }
   },
   "outputs": [],
   "source": [
    "df_team = spark.read.csv(\"dbfs:/mnt/blob_storage/team.csv\", header=True, inferSchema=True) \\\n",
    "    .withColumn(\"ingestion_date\", current_date()).withColumn(\"source_file\", lit(\"team.csv\"))"
   ]
  },
  {
   "cell_type": "code",
   "execution_count": 0,
   "metadata": {
    "application/vnd.databricks.v1+cell": {
     "cellMetadata": {
      "byteLimit": 2048000,
      "rowLimit": 10000
     },
     "inputWidgets": {},
     "nuid": "e0b5d9e8-bc08-4df2-a06f-d5c1ef107526",
     "showTitle": false,
     "tableResultSettingsMap": {},
     "title": ""
    }
   },
   "outputs": [],
   "source": [
    "# df_team.display()"
   ]
  },
  {
   "cell_type": "code",
   "execution_count": 0,
   "metadata": {
    "application/vnd.databricks.v1+cell": {
     "cellMetadata": {
      "byteLimit": 2048000,
      "rowLimit": 10000
     },
     "inputWidgets": {},
     "nuid": "25311d66-8f3c-4b85-92e9-ed69b5af3cf6",
     "showTitle": false,
     "tableResultSettingsMap": {},
     "title": ""
    }
   },
   "outputs": [
    {
     "output_type": "stream",
     "name": "stdout",
     "output_type": "stream",
     "text": [
      "/mnt/adls_storage/bronze has been unmounted.\nOut[22]: True"
     ]
    }
   ],
   "source": [
    "dbutils.fs.unmount(\"/mnt/adls_storage/bronze\")"
   ]
  },
  {
   "cell_type": "code",
   "execution_count": 0,
   "metadata": {
    "application/vnd.databricks.v1+cell": {
     "cellMetadata": {
      "byteLimit": 2048000,
      "rowLimit": 10000
     },
     "inputWidgets": {},
     "nuid": "eff459fc-3ac4-459e-8316-bc1f5d4be042",
     "showTitle": false,
     "tableResultSettingsMap": {},
     "title": ""
    }
   },
   "outputs": [
    {
     "output_type": "stream",
     "name": "stdout",
     "output_type": "stream",
     "text": [
      "Out[23]: True"
     ]
    }
   ],
   "source": [
    "dbutils.fs.mount(\n",
    "  source=\"wasbs://bronze-ipl@adlsipl.blob.core.windows.net\",\n",
    "  mount_point=\"/mnt/adls_storage/bronze\",\n",
    "  extra_configs={\n",
    "      \"fs.azure.account.key.adlsipl.blob.core.windows.net\": \"xwfw4Y9fMPe4mMkfTzU8HckStsCQeSgHxkeyKWeENgpuVE7YYPqRJdYvKbvr+WtUe1GfrtHKRVnF+AStyw9REw==\"\n",
    "  }\n",
    ")\n"
   ]
  },
  {
   "cell_type": "code",
   "execution_count": 0,
   "metadata": {
    "application/vnd.databricks.v1+cell": {
     "cellMetadata": {
      "byteLimit": 2048000,
      "rowLimit": 10000
     },
     "inputWidgets": {},
     "nuid": "a07643f3-0122-4fd0-9e06-f20401ad09d8",
     "showTitle": false,
     "tableResultSettingsMap": {},
     "title": ""
    }
   },
   "outputs": [
    {
     "output_type": "display_data",
     "data": {
      "text/html": [
       "<style scoped>\n",
       "  .table-result-container {\n",
       "    max-height: 300px;\n",
       "    overflow: auto;\n",
       "  }\n",
       "  table, th, td {\n",
       "    border: 1px solid black;\n",
       "    border-collapse: collapse;\n",
       "  }\n",
       "  th, td {\n",
       "    padding: 5px;\n",
       "  }\n",
       "  th {\n",
       "    text-align: left;\n",
       "  }\n",
       "</style><div class='table-result-container'><table class='table-result'><thead style='background-color: white'><tr><th>mountPoint</th><th>source</th><th>encryptionType</th></tr></thead><tbody><tr><td>/databricks-datasets</td><td>databricks-datasets</td><td></td></tr><tr><td>/mnt/blob_storage</td><td>wasbs://raw@iplblob.blob.core.windows.net</td><td></td></tr><tr><td>/Volumes</td><td>UnityCatalogVolumes</td><td></td></tr><tr><td>/databricks/mlflow-tracking</td><td>databricks/mlflow-tracking</td><td></td></tr><tr><td>/mnt/adls_storage/silver</td><td>wasbs://silver-ipl@adlsipl.blob.core.windows.net</td><td></td></tr><tr><td>/databricks-results</td><td>databricks-results</td><td></td></tr><tr><td>/databricks/mlflow-registry</td><td>databricks/mlflow-registry</td><td></td></tr><tr><td>/mnt/adls_storage/bronze</td><td>wasbs://bronze-ipl@adlsipl.blob.core.windows.net</td><td></td></tr><tr><td>/Volume</td><td>DbfsReserved</td><td></td></tr><tr><td>/volumes</td><td>DbfsReserved</td><td></td></tr><tr><td>/</td><td>DatabricksRoot</td><td></td></tr><tr><td>/volume</td><td>DbfsReserved</td><td></td></tr></tbody></table></div>"
      ]
     },
     "metadata": {
      "application/vnd.databricks.v1+output": {
       "addedWidgets": {},
       "aggData": [],
       "aggError": "",
       "aggOverflow": false,
       "aggSchema": [],
       "aggSeriesLimitReached": false,
       "aggType": "",
       "arguments": {},
       "columnCustomDisplayInfos": {},
       "data": [
        [
         "/databricks-datasets",
         "databricks-datasets",
         ""
        ],
        [
         "/mnt/blob_storage",
         "wasbs://raw@iplblob.blob.core.windows.net",
         ""
        ],
        [
         "/Volumes",
         "UnityCatalogVolumes",
         ""
        ],
        [
         "/databricks/mlflow-tracking",
         "databricks/mlflow-tracking",
         ""
        ],
        [
         "/mnt/adls_storage/silver",
         "wasbs://silver-ipl@adlsipl.blob.core.windows.net",
         ""
        ],
        [
         "/databricks-results",
         "databricks-results",
         ""
        ],
        [
         "/databricks/mlflow-registry",
         "databricks/mlflow-registry",
         ""
        ],
        [
         "/mnt/adls_storage/bronze",
         "wasbs://bronze-ipl@adlsipl.blob.core.windows.net",
         ""
        ],
        [
         "/Volume",
         "DbfsReserved",
         ""
        ],
        [
         "/volumes",
         "DbfsReserved",
         ""
        ],
        [
         "/",
         "DatabricksRoot",
         ""
        ],
        [
         "/volume",
         "DbfsReserved",
         ""
        ]
       ],
       "datasetInfos": [],
       "dbfsResultPath": null,
       "isJsonSchema": true,
       "metadata": {},
       "overflow": false,
       "plotOptions": {
        "customPlotOptions": {},
        "displayType": "table",
        "pivotAggregation": null,
        "pivotColumns": null,
        "xColumns": null,
        "yColumns": null
       },
       "removedWidgets": [],
       "schema": [
        {
         "metadata": "{}",
         "name": "mountPoint",
         "type": "\"string\""
        },
        {
         "metadata": "{}",
         "name": "source",
         "type": "\"string\""
        },
        {
         "metadata": "{}",
         "name": "encryptionType",
         "type": "\"string\""
        }
       ],
       "type": "table"
      }
     },
     "output_type": "display_data"
    }
   ],
   "source": [
    "display(dbutils.fs.mounts())"
   ]
  },
  {
   "cell_type": "code",
   "execution_count": 0,
   "metadata": {
    "application/vnd.databricks.v1+cell": {
     "cellMetadata": {
      "byteLimit": 2048000,
      "rowLimit": 10000
     },
     "inputWidgets": {},
     "nuid": "813f35bb-9ad2-4309-868e-3d6d54561133",
     "showTitle": false,
     "tableResultSettingsMap": {},
     "title": ""
    }
   },
   "outputs": [
    {
     "output_type": "display_data",
     "data": {
      "text/html": [
       "<style scoped>\n",
       "  .table-result-container {\n",
       "    max-height: 300px;\n",
       "    overflow: auto;\n",
       "  }\n",
       "  table, th, td {\n",
       "    border: 1px solid black;\n",
       "    border-collapse: collapse;\n",
       "  }\n",
       "  th, td {\n",
       "    padding: 5px;\n",
       "  }\n",
       "  th {\n",
       "    text-align: left;\n",
       "  }\n",
       "</style><div class='table-result-container'><table class='table-result'><thead style='background-color: white'><tr><th>path</th><th>name</th><th>size</th><th>modificationTime</th></tr></thead><tbody><tr><td>dbfs:/mnt/adls_storage/bronze/match_performance_bronze.parquet/</td><td>match_performance_bronze.parquet/</td><td>0</td><td>0</td></tr><tr><td>dbfs:/mnt/adls_storage/bronze/match_stadium_bronze.parquet/</td><td>match_stadium_bronze.parquet/</td><td>0</td><td>0</td></tr><tr><td>dbfs:/mnt/adls_storage/bronze/player_performance_bronze.parquet/</td><td>player_performance_bronze.parquet/</td><td>0</td><td>0</td></tr><tr><td>dbfs:/mnt/adls_storage/bronze/player_team_bronze.parquet/</td><td>player_team_bronze.parquet/</td><td>0</td><td>0</td></tr><tr><td>dbfs:/mnt/adls_storage/bronze/stadium_bronze.parquet/</td><td>stadium_bronze.parquet/</td><td>0</td><td>0</td></tr><tr><td>dbfs:/mnt/adls_storage/bronze/team_bronze.parquet/</td><td>team_bronze.parquet/</td><td>0</td><td>0</td></tr></tbody></table></div>"
      ]
     },
     "metadata": {
      "application/vnd.databricks.v1+output": {
       "addedWidgets": {},
       "aggData": [],
       "aggError": "",
       "aggOverflow": false,
       "aggSchema": [],
       "aggSeriesLimitReached": false,
       "aggType": "",
       "arguments": {},
       "columnCustomDisplayInfos": {},
       "data": [
        [
         "dbfs:/mnt/adls_storage/bronze/match_performance_bronze.parquet/",
         "match_performance_bronze.parquet/",
         0,
         0
        ],
        [
         "dbfs:/mnt/adls_storage/bronze/match_stadium_bronze.parquet/",
         "match_stadium_bronze.parquet/",
         0,
         0
        ],
        [
         "dbfs:/mnt/adls_storage/bronze/player_performance_bronze.parquet/",
         "player_performance_bronze.parquet/",
         0,
         0
        ],
        [
         "dbfs:/mnt/adls_storage/bronze/player_team_bronze.parquet/",
         "player_team_bronze.parquet/",
         0,
         0
        ],
        [
         "dbfs:/mnt/adls_storage/bronze/stadium_bronze.parquet/",
         "stadium_bronze.parquet/",
         0,
         0
        ],
        [
         "dbfs:/mnt/adls_storage/bronze/team_bronze.parquet/",
         "team_bronze.parquet/",
         0,
         0
        ]
       ],
       "datasetInfos": [],
       "dbfsResultPath": null,
       "isJsonSchema": true,
       "metadata": {},
       "overflow": false,
       "plotOptions": {
        "customPlotOptions": {},
        "displayType": "table",
        "pivotAggregation": null,
        "pivotColumns": null,
        "xColumns": null,
        "yColumns": null
       },
       "removedWidgets": [],
       "schema": [
        {
         "metadata": "{}",
         "name": "path",
         "type": "\"string\""
        },
        {
         "metadata": "{}",
         "name": "name",
         "type": "\"string\""
        },
        {
         "metadata": "{}",
         "name": "size",
         "type": "\"long\""
        },
        {
         "metadata": "{}",
         "name": "modificationTime",
         "type": "\"long\""
        }
       ],
       "type": "table"
      }
     },
     "output_type": "display_data"
    }
   ],
   "source": [
    "display(dbutils.fs.ls(\"/mnt/adls_storage/bronze\"))"
   ]
  },
  {
   "cell_type": "code",
   "execution_count": 0,
   "metadata": {
    "application/vnd.databricks.v1+cell": {
     "cellMetadata": {
      "byteLimit": 2048000,
      "rowLimit": 10000
     },
     "inputWidgets": {},
     "nuid": "620704d9-635f-4e5f-88cd-86c10593b157",
     "showTitle": false,
     "tableResultSettingsMap": {},
     "title": ""
    }
   },
   "outputs": [],
   "source": [
    "df_match_performance.write.format(\"parquet\").mode(\"overwrite\").save(\"/mnt/adls_storage/bronze/match_performance_bronze.parquet\")\n",
    "df_match_stadium.write.format(\"parquet\").mode(\"overwrite\").save(\"/mnt/adls_storage/bronze/match_stadium_bronze.parquet\")\n",
    "df_player_performance.write.format(\"parquet\").mode(\"overwrite\").save(\"/mnt/adls_storage/bronze/player_performance_bronze.parquet\")\n",
    "df_player_team.write.format(\"parquet\").mode(\"overwrite\").save(\"/mnt/adls_storage/bronze/player_team_bronze.parquet\")\n",
    "df_stadium.write.format(\"parquet\").mode(\"overwrite\").save(\"/mnt/adls_storage/bronze/stadium_bronze.parquet\")\n",
    "df_team.write.format(\"parquet\").mode(\"overwrite\").save(\"/mnt/adls_storage/bronze/team_bronze.parquet\") "
   ]
  },
  {
   "cell_type": "code",
   "execution_count": 0,
   "metadata": {
    "application/vnd.databricks.v1+cell": {
     "cellMetadata": {
      "byteLimit": 2048000,
      "rowLimit": 10000
     },
     "inputWidgets": {},
     "nuid": "edeb8aef-6dae-4212-8d87-fd491019f760",
     "showTitle": false,
     "tableResultSettingsMap": {},
     "title": ""
    }
   },
   "outputs": [],
   "source": []
  }
 ],
 "metadata": {
  "application/vnd.databricks.v1+notebook": {
   "computePreferences": null,
   "dashboards": [],
   "environmentMetadata": {
    "base_environment": "",
    "environment_version": "2"
   },
   "inputWidgetPreferences": null,
   "language": "python",
   "notebookMetadata": {
    "pythonIndentUnit": 4
   },
   "notebookName": "Bronze_Raw",
   "widgets": {}
  },
  "language_info": {
   "name": "python"
  }
 },
 "nbformat": 4,
 "nbformat_minor": 0
}