{
 "cells": [
  {
   "cell_type": "markdown",
   "metadata": {
    "application/vnd.databricks.v1+cell": {
     "cellMetadata": {},
     "inputWidgets": {},
     "nuid": "129cb851-d9dd-40a5-922a-8a1b2fe4c268",
     "showTitle": false,
     "tableResultSettingsMap": {},
     "title": ""
    }
   },
   "source": [
    "#  Bronze to Silver Layer Notebook\n",
    "\n",
    "##  Objective:\n",
    "This notebook reads data from the Bronze layer, performs cleaning operations, joins relevant datasets, and stores the cleaned data in the Silver layer.\n",
    "\n",
    "---\n",
    "\n",
    "##  Step 1: Start Spark Session\n",
    "Required to perform data operations in PySpark.\n",
    "\n",
    "---\n",
    "\n",
    "##  Step 2: Read Parquet Files from Bronze\n",
    "Parquet files written in the Bronze container are now read into DataFrames.\n",
    "\n",
    "---\n",
    "\n",
    "##  Step 3: Data Cleaning\n",
    "- Dropping null or irrelevant records.\n",
    "- Renaming columns for consistency.\n",
    "- Filling missing values (e.g., NA → 0 or default).\n",
    "\n",
    "---\n",
    "\n",
    "##  Step 4: Joining Datasets\n",
    "Joins are performed between:\n",
    "- Matches + Players\n",
    "- Player-Team + Player Performance\n",
    "- Stadium + Match\n",
    "\n",
    "This creates a unified data view.\n",
    "\n",
    "---\n",
    "\n",
    "##  Step 5: Write to Silver Container\n",
    "The cleaned and enriched data is written to the Silver container using `overwrite` mode in Parquet format for further analytics.\n"
   ]
  },
  {
   "cell_type": "code",
   "execution_count": 0,
   "metadata": {
    "application/vnd.databricks.v1+cell": {
     "cellMetadata": {
      "byteLimit": 2048000,
      "rowLimit": 10000
     },
     "inputWidgets": {},
     "nuid": "01078f73-7ade-48af-af07-e574057e41db",
     "showTitle": false,
     "tableResultSettingsMap": {},
     "title": ""
    }
   },
   "outputs": [],
   "source": [
    "from pyspark.sql import SparkSession\n",
    "from pyspark.sql.functions import *\n",
    "\n",
    "spark = SparkSession.builder.appName(\"Statement of Work\").getOrCreate()"
   ]
  },
  {
   "cell_type": "code",
   "execution_count": 0,
   "metadata": {
    "application/vnd.databricks.v1+cell": {
     "cellMetadata": {
      "byteLimit": 2048000,
      "rowLimit": 10000
     },
     "inputWidgets": {},
     "nuid": "d62fa253-ba7a-4342-a264-2e167317463a",
     "showTitle": false,
     "tableResultSettingsMap": {},
     "title": ""
    }
   },
   "outputs": [
    {
     "output_type": "display_data",
     "data": {
      "text/html": [
       "<style scoped>\n",
       "  .table-result-container {\n",
       "    max-height: 300px;\n",
       "    overflow: auto;\n",
       "  }\n",
       "  table, th, td {\n",
       "    border: 1px solid black;\n",
       "    border-collapse: collapse;\n",
       "  }\n",
       "  th, td {\n",
       "    padding: 5px;\n",
       "  }\n",
       "  th {\n",
       "    text-align: left;\n",
       "  }\n",
       "</style><div class='table-result-container'><table class='table-result'><thead style='background-color: white'><tr><th>mountPoint</th><th>source</th><th>encryptionType</th></tr></thead><tbody><tr><td>/databricks-datasets</td><td>databricks-datasets</td><td></td></tr><tr><td>/mnt/blob_storage</td><td>wasbs://raw@iplblob.blob.core.windows.net</td><td></td></tr><tr><td>/Volumes</td><td>UnityCatalogVolumes</td><td></td></tr><tr><td>/databricks/mlflow-tracking</td><td>databricks/mlflow-tracking</td><td></td></tr><tr><td>/mnt/adls_storage/silver</td><td>wasbs://silver-ipl@adlsipl.blob.core.windows.net</td><td></td></tr><tr><td>/databricks-results</td><td>databricks-results</td><td></td></tr><tr><td>/databricks/mlflow-registry</td><td>databricks/mlflow-registry</td><td></td></tr><tr><td>/mnt/adls_storage/bronze</td><td>wasbs://bronze-ipl@adlsipl.blob.core.windows.net</td><td></td></tr><tr><td>/Volume</td><td>DbfsReserved</td><td></td></tr><tr><td>/volumes</td><td>DbfsReserved</td><td></td></tr><tr><td>/</td><td>DatabricksRoot</td><td></td></tr><tr><td>/volume</td><td>DbfsReserved</td><td></td></tr></tbody></table></div>"
      ]
     },
     "metadata": {
      "application/vnd.databricks.v1+output": {
       "addedWidgets": {},
       "aggData": [],
       "aggError": "",
       "aggOverflow": false,
       "aggSchema": [],
       "aggSeriesLimitReached": false,
       "aggType": "",
       "arguments": {},
       "columnCustomDisplayInfos": {},
       "data": [
        [
         "/databricks-datasets",
         "databricks-datasets",
         ""
        ],
        [
         "/mnt/blob_storage",
         "wasbs://raw@iplblob.blob.core.windows.net",
         ""
        ],
        [
         "/Volumes",
         "UnityCatalogVolumes",
         ""
        ],
        [
         "/databricks/mlflow-tracking",
         "databricks/mlflow-tracking",
         ""
        ],
        [
         "/mnt/adls_storage/silver",
         "wasbs://silver-ipl@adlsipl.blob.core.windows.net",
         ""
        ],
        [
         "/databricks-results",
         "databricks-results",
         ""
        ],
        [
         "/databricks/mlflow-registry",
         "databricks/mlflow-registry",
         ""
        ],
        [
         "/mnt/adls_storage/bronze",
         "wasbs://bronze-ipl@adlsipl.blob.core.windows.net",
         ""
        ],
        [
         "/Volume",
         "DbfsReserved",
         ""
        ],
        [
         "/volumes",
         "DbfsReserved",
         ""
        ],
        [
         "/",
         "DatabricksRoot",
         ""
        ],
        [
         "/volume",
         "DbfsReserved",
         ""
        ]
       ],
       "datasetInfos": [],
       "dbfsResultPath": null,
       "isJsonSchema": true,
       "metadata": {},
       "overflow": false,
       "plotOptions": {
        "customPlotOptions": {},
        "displayType": "table",
        "pivotAggregation": null,
        "pivotColumns": null,
        "xColumns": null,
        "yColumns": null
       },
       "removedWidgets": [],
       "schema": [
        {
         "metadata": "{}",
         "name": "mountPoint",
         "type": "\"string\""
        },
        {
         "metadata": "{}",
         "name": "source",
         "type": "\"string\""
        },
        {
         "metadata": "{}",
         "name": "encryptionType",
         "type": "\"string\""
        }
       ],
       "type": "table"
      }
     },
     "output_type": "display_data"
    }
   ],
   "source": [
    "display(dbutils.fs.mounts())"
   ]
  },
  {
   "cell_type": "code",
   "execution_count": 0,
   "metadata": {
    "application/vnd.databricks.v1+cell": {
     "cellMetadata": {
      "byteLimit": 2048000,
      "rowLimit": 10000
     },
     "inputWidgets": {},
     "nuid": "cfd84308-555a-4bc1-afa2-8d4948dd0b66",
     "showTitle": false,
     "tableResultSettingsMap": {},
     "title": ""
    }
   },
   "outputs": [
    {
     "output_type": "display_data",
     "data": {
      "text/html": [
       "<style scoped>\n",
       "  .table-result-container {\n",
       "    max-height: 300px;\n",
       "    overflow: auto;\n",
       "  }\n",
       "  table, th, td {\n",
       "    border: 1px solid black;\n",
       "    border-collapse: collapse;\n",
       "  }\n",
       "  th, td {\n",
       "    padding: 5px;\n",
       "  }\n",
       "  th {\n",
       "    text-align: left;\n",
       "  }\n",
       "</style><div class='table-result-container'><table class='table-result'><thead style='background-color: white'><tr><th>path</th><th>name</th><th>size</th><th>modificationTime</th></tr></thead><tbody><tr><td>dbfs:/mnt/adls_storage/bronze/match_performance_bronze.parquet/</td><td>match_performance_bronze.parquet/</td><td>0</td><td>0</td></tr><tr><td>dbfs:/mnt/adls_storage/bronze/match_stadium_bronze.parquet/</td><td>match_stadium_bronze.parquet/</td><td>0</td><td>0</td></tr><tr><td>dbfs:/mnt/adls_storage/bronze/player_performance_bronze.parquet/</td><td>player_performance_bronze.parquet/</td><td>0</td><td>0</td></tr><tr><td>dbfs:/mnt/adls_storage/bronze/player_team_bronze.parquet/</td><td>player_team_bronze.parquet/</td><td>0</td><td>0</td></tr><tr><td>dbfs:/mnt/adls_storage/bronze/stadium_bronze.parquet/</td><td>stadium_bronze.parquet/</td><td>0</td><td>0</td></tr><tr><td>dbfs:/mnt/adls_storage/bronze/team_bronze.parquet/</td><td>team_bronze.parquet/</td><td>0</td><td>0</td></tr></tbody></table></div>"
      ]
     },
     "metadata": {
      "application/vnd.databricks.v1+output": {
       "addedWidgets": {},
       "aggData": [],
       "aggError": "",
       "aggOverflow": false,
       "aggSchema": [],
       "aggSeriesLimitReached": false,
       "aggType": "",
       "arguments": {},
       "columnCustomDisplayInfos": {},
       "data": [
        [
         "dbfs:/mnt/adls_storage/bronze/match_performance_bronze.parquet/",
         "match_performance_bronze.parquet/",
         0,
         0
        ],
        [
         "dbfs:/mnt/adls_storage/bronze/match_stadium_bronze.parquet/",
         "match_stadium_bronze.parquet/",
         0,
         0
        ],
        [
         "dbfs:/mnt/adls_storage/bronze/player_performance_bronze.parquet/",
         "player_performance_bronze.parquet/",
         0,
         0
        ],
        [
         "dbfs:/mnt/adls_storage/bronze/player_team_bronze.parquet/",
         "player_team_bronze.parquet/",
         0,
         0
        ],
        [
         "dbfs:/mnt/adls_storage/bronze/stadium_bronze.parquet/",
         "stadium_bronze.parquet/",
         0,
         0
        ],
        [
         "dbfs:/mnt/adls_storage/bronze/team_bronze.parquet/",
         "team_bronze.parquet/",
         0,
         0
        ]
       ],
       "datasetInfos": [],
       "dbfsResultPath": null,
       "isJsonSchema": true,
       "metadata": {},
       "overflow": false,
       "plotOptions": {
        "customPlotOptions": {},
        "displayType": "table",
        "pivotAggregation": null,
        "pivotColumns": null,
        "xColumns": null,
        "yColumns": null
       },
       "removedWidgets": [],
       "schema": [
        {
         "metadata": "{}",
         "name": "path",
         "type": "\"string\""
        },
        {
         "metadata": "{}",
         "name": "name",
         "type": "\"string\""
        },
        {
         "metadata": "{}",
         "name": "size",
         "type": "\"long\""
        },
        {
         "metadata": "{}",
         "name": "modificationTime",
         "type": "\"long\""
        }
       ],
       "type": "table"
      }
     },
     "output_type": "display_data"
    }
   ],
   "source": [
    "display(dbutils.fs.ls(\"/mnt/adls_storage/bronze\"))"
   ]
  },
  {
   "cell_type": "code",
   "execution_count": 0,
   "metadata": {
    "application/vnd.databricks.v1+cell": {
     "cellMetadata": {
      "byteLimit": 2048000,
      "rowLimit": 10000
     },
     "inputWidgets": {},
     "nuid": "f89b2b0e-6e9b-47a1-8a2d-55d3d1528803",
     "showTitle": false,
     "tableResultSettingsMap": {},
     "title": ""
    }
   },
   "outputs": [],
   "source": [
    "df_match_performance = spark.read.parquet(\"/mnt/adls_storage/bronze/match_performance_bronze.parquet\")\n",
    "df_match_stadium = spark.read.parquet(\"/mnt/adls_storage/bronze/match_stadium_bronze.parquet\")\n",
    "df_player_performance = spark.read.parquet(\"/mnt/adls_storage/bronze/player_performance_bronze.parquet\")\n",
    "df_player_team = spark.read.parquet(\"/mnt/adls_storage/bronze/player_team_bronze.parquet\")\n",
    "df_stadium = spark.read.parquet(\"/mnt/adls_storage/bronze/stadium_bronze.parquet\")\n",
    "df_team = spark.read.parquet(\"/mnt/adls_storage/bronze/team_bronze.parquet\")"
   ]
  },
  {
   "cell_type": "code",
   "execution_count": 0,
   "metadata": {
    "application/vnd.databricks.v1+cell": {
     "cellMetadata": {
      "byteLimit": 2048000,
      "rowLimit": 10000
     },
     "inputWidgets": {},
     "nuid": "5dbd2d83-8fa1-4ebd-97f0-d3ee9925a74d",
     "showTitle": false,
     "tableResultSettingsMap": {},
     "title": ""
    }
   },
   "outputs": [
    {
     "output_type": "display_data",
     "data": {
      "text/html": [
       "<style scoped>\n",
       "  .table-result-container {\n",
       "    max-height: 300px;\n",
       "    overflow: auto;\n",
       "  }\n",
       "  table, th, td {\n",
       "    border: 1px solid black;\n",
       "    border-collapse: collapse;\n",
       "  }\n",
       "  th, td {\n",
       "    padding: 5px;\n",
       "  }\n",
       "  th {\n",
       "    text-align: left;\n",
       "  }\n",
       "</style><div class='table-result-container'><table class='table-result'><thead style='background-color: white'><tr><th>match_id</th><th>team_id</th><th>opponent_team_id</th><th>runs_scored</th><th>wickets_taken</th><th>match_result</th><th>ingestion_date</th><th>source_file</th></tr></thead><tbody><tr><td>201</td><td>4</td><td>1</td><td>213.0</td><td>7</td><td>Tie</td><td>2025-04-05</td><td>match_performance.csv</td></tr><tr><td>202</td><td>1</td><td>3</td><td>202.0</td><td>10</td><td>Loss</td><td>2025-04-05</td><td>match_performance.csv</td></tr><tr><td>203</td><td>2</td><td>3</td><td>238.0</td><td>8</td><td>Win</td><td>2025-04-05</td><td>match_performance.csv</td></tr><tr><td>204</td><td>4</td><td>3</td><td>null</td><td>9</td><td>Loss</td><td>2025-04-05</td><td>match_performance.csv</td></tr><tr><td>205</td><td>4</td><td>3</td><td>123.0</td><td>8</td><td>Tie</td><td>2025-04-05</td><td>match_performance.csv</td></tr><tr><td>206</td><td>1</td><td>2</td><td>215.0</td><td>6</td><td>Loss</td><td>2025-04-05</td><td>match_performance.csv</td></tr><tr><td>207</td><td>5</td><td>3</td><td>211.0</td><td>5</td><td>Win</td><td>2025-04-05</td><td>match_performance.csv</td></tr><tr><td>208</td><td>3</td><td>5</td><td>171.0</td><td>6</td><td>Unknown</td><td>2025-04-05</td><td>match_performance.csv</td></tr><tr><td>209</td><td>4</td><td>1</td><td>201.0</td><td>5</td><td>Tie</td><td>2025-04-05</td><td>match_performance.csv</td></tr><tr><td>210</td><td>4</td><td>3</td><td>233.0</td><td>7</td><td>Win</td><td>2025-04-05</td><td>match_performance.csv</td></tr><tr><td>211</td><td>5</td><td>1</td><td>144.0</td><td>10</td><td>Loss</td><td>2025-04-05</td><td>match_performance.csv</td></tr><tr><td>212</td><td>1</td><td>5</td><td>227.0</td><td>6</td><td>Win</td><td>2025-04-05</td><td>match_performance.csv</td></tr><tr><td>213</td><td>4</td><td>2</td><td>190.0</td><td>9</td><td>Loss</td><td>2025-04-05</td><td>match_performance.csv</td></tr><tr><td>214</td><td>1</td><td>3</td><td>201.0</td><td>8</td><td>Win</td><td>2025-04-05</td><td>match_performance.csv</td></tr><tr><td>215</td><td>1</td><td>3</td><td>242.0</td><td>8</td><td>Win</td><td>2025-04-05</td><td>match_performance.csv</td></tr><tr><td>216</td><td>4</td><td>1</td><td>139.0</td><td>8</td><td>Win</td><td>2025-04-05</td><td>match_performance.csv</td></tr><tr><td>217</td><td>5</td><td>4</td><td>238.0</td><td>6</td><td>Loss</td><td>2025-04-05</td><td>match_performance.csv</td></tr><tr><td>218</td><td>2</td><td>1</td><td>190.0</td><td>5</td><td>Tie</td><td>2025-04-05</td><td>match_performance.csv</td></tr><tr><td>219</td><td>2</td><td>3</td><td>194.0</td><td>7</td><td>Loss</td><td>2025-04-05</td><td>match_performance.csv</td></tr><tr><td>220</td><td>3</td><td>1</td><td>130.0</td><td>9</td><td>Loss</td><td>2025-04-05</td><td>match_performance.csv</td></tr></tbody></table></div>"
      ]
     },
     "metadata": {
      "application/vnd.databricks.v1+output": {
       "addedWidgets": {},
       "aggData": [],
       "aggError": "",
       "aggOverflow": false,
       "aggSchema": [],
       "aggSeriesLimitReached": false,
       "aggType": "",
       "arguments": {},
       "columnCustomDisplayInfos": {},
       "data": [
        [
         201,
         4,
         1,
         213.0,
         7,
         "Tie",
         "2025-04-05",
         "match_performance.csv"
        ],
        [
         202,
         1,
         3,
         202.0,
         10,
         "Loss",
         "2025-04-05",
         "match_performance.csv"
        ],
        [
         203,
         2,
         3,
         238.0,
         8,
         "Win",
         "2025-04-05",
         "match_performance.csv"
        ],
        [
         204,
         4,
         3,
         null,
         9,
         "Loss",
         "2025-04-05",
         "match_performance.csv"
        ],
        [
         205,
         4,
         3,
         123.0,
         8,
         "Tie",
         "2025-04-05",
         "match_performance.csv"
        ],
        [
         206,
         1,
         2,
         215.0,
         6,
         "Loss",
         "2025-04-05",
         "match_performance.csv"
        ],
        [
         207,
         5,
         3,
         211.0,
         5,
         "Win",
         "2025-04-05",
         "match_performance.csv"
        ],
        [
         208,
         3,
         5,
         171.0,
         6,
         "Unknown",
         "2025-04-05",
         "match_performance.csv"
        ],
        [
         209,
         4,
         1,
         201.0,
         5,
         "Tie",
         "2025-04-05",
         "match_performance.csv"
        ],
        [
         210,
         4,
         3,
         233.0,
         7,
         "Win",
         "2025-04-05",
         "match_performance.csv"
        ],
        [
         211,
         5,
         1,
         144.0,
         10,
         "Loss",
         "2025-04-05",
         "match_performance.csv"
        ],
        [
         212,
         1,
         5,
         227.0,
         6,
         "Win",
         "2025-04-05",
         "match_performance.csv"
        ],
        [
         213,
         4,
         2,
         190.0,
         9,
         "Loss",
         "2025-04-05",
         "match_performance.csv"
        ],
        [
         214,
         1,
         3,
         201.0,
         8,
         "Win",
         "2025-04-05",
         "match_performance.csv"
        ],
        [
         215,
         1,
         3,
         242.0,
         8,
         "Win",
         "2025-04-05",
         "match_performance.csv"
        ],
        [
         216,
         4,
         1,
         139.0,
         8,
         "Win",
         "2025-04-05",
         "match_performance.csv"
        ],
        [
         217,
         5,
         4,
         238.0,
         6,
         "Loss",
         "2025-04-05",
         "match_performance.csv"
        ],
        [
         218,
         2,
         1,
         190.0,
         5,
         "Tie",
         "2025-04-05",
         "match_performance.csv"
        ],
        [
         219,
         2,
         3,
         194.0,
         7,
         "Loss",
         "2025-04-05",
         "match_performance.csv"
        ],
        [
         220,
         3,
         1,
         130.0,
         9,
         "Loss",
         "2025-04-05",
         "match_performance.csv"
        ]
       ],
       "datasetInfos": [],
       "dbfsResultPath": null,
       "isJsonSchema": true,
       "metadata": {},
       "overflow": false,
       "plotOptions": {
        "customPlotOptions": {},
        "displayType": "table",
        "pivotAggregation": null,
        "pivotColumns": null,
        "xColumns": null,
        "yColumns": null
       },
       "removedWidgets": [],
       "schema": [
        {
         "metadata": "{}",
         "name": "match_id",
         "type": "\"integer\""
        },
        {
         "metadata": "{}",
         "name": "team_id",
         "type": "\"integer\""
        },
        {
         "metadata": "{}",
         "name": "opponent_team_id",
         "type": "\"integer\""
        },
        {
         "metadata": "{}",
         "name": "runs_scored",
         "type": "\"double\""
        },
        {
         "metadata": "{}",
         "name": "wickets_taken",
         "type": "\"integer\""
        },
        {
         "metadata": "{}",
         "name": "match_result",
         "type": "\"string\""
        },
        {
         "metadata": "{}",
         "name": "ingestion_date",
         "type": "\"date\""
        },
        {
         "metadata": "{}",
         "name": "source_file",
         "type": "\"string\""
        }
       ],
       "type": "table"
      }
     },
     "output_type": "display_data"
    }
   ],
   "source": [
    "display(df_match_performance)\n"
   ]
  },
  {
   "cell_type": "code",
   "execution_count": 0,
   "metadata": {
    "application/vnd.databricks.v1+cell": {
     "cellMetadata": {
      "byteLimit": 2048000,
      "rowLimit": 10000
     },
     "inputWidgets": {},
     "nuid": "f282bc3c-d721-4338-8c1f-9bb9e99952ea",
     "showTitle": false,
     "tableResultSettingsMap": {},
     "title": ""
    }
   },
   "outputs": [
    {
     "output_type": "display_data",
     "data": {
      "text/html": [
       "<style scoped>\n",
       "  .table-result-container {\n",
       "    max-height: 300px;\n",
       "    overflow: auto;\n",
       "  }\n",
       "  table, th, td {\n",
       "    border: 1px solid black;\n",
       "    border-collapse: collapse;\n",
       "  }\n",
       "  th, td {\n",
       "    padding: 5px;\n",
       "  }\n",
       "  th {\n",
       "    text-align: left;\n",
       "  }\n",
       "</style><div class='table-result-container'><table class='table-result'><thead style='background-color: white'><tr><th>match_id</th><th>stadium_id</th><th>ingestion_date</th><th>source_file</th></tr></thead><tbody><tr><td>201</td><td>301</td><td>2025-04-05</td><td>match_stadium.csv</td></tr><tr><td>202</td><td>304</td><td>2025-04-05</td><td>match_stadium.csv</td></tr><tr><td>203</td><td>302</td><td>2025-04-05</td><td>match_stadium.csv</td></tr><tr><td>204</td><td>304</td><td>2025-04-05</td><td>match_stadium.csv</td></tr><tr><td>205</td><td>304</td><td>2025-04-05</td><td>match_stadium.csv</td></tr><tr><td>206</td><td>305</td><td>2025-04-05</td><td>match_stadium.csv</td></tr><tr><td>207</td><td>305</td><td>2025-04-05</td><td>match_stadium.csv</td></tr><tr><td>208</td><td>302</td><td>2025-04-05</td><td>match_stadium.csv</td></tr><tr><td>209</td><td>301</td><td>2025-04-05</td><td>match_stadium.csv</td></tr><tr><td>210</td><td>305</td><td>2025-04-05</td><td>match_stadium.csv</td></tr><tr><td>211</td><td>301</td><td>2025-04-05</td><td>match_stadium.csv</td></tr><tr><td>212</td><td>303</td><td>2025-04-05</td><td>match_stadium.csv</td></tr><tr><td>213</td><td>302</td><td>2025-04-05</td><td>match_stadium.csv</td></tr><tr><td>214</td><td>302</td><td>2025-04-05</td><td>match_stadium.csv</td></tr><tr><td>215</td><td>305</td><td>2025-04-05</td><td>match_stadium.csv</td></tr><tr><td>216</td><td>303</td><td>2025-04-05</td><td>match_stadium.csv</td></tr><tr><td>217</td><td>303</td><td>2025-04-05</td><td>match_stadium.csv</td></tr><tr><td>218</td><td>304</td><td>2025-04-05</td><td>match_stadium.csv</td></tr><tr><td>219</td><td>303</td><td>2025-04-05</td><td>match_stadium.csv</td></tr><tr><td>220</td><td>304</td><td>2025-04-05</td><td>match_stadium.csv</td></tr></tbody></table></div>"
      ]
     },
     "metadata": {
      "application/vnd.databricks.v1+output": {
       "addedWidgets": {},
       "aggData": [],
       "aggError": "",
       "aggOverflow": false,
       "aggSchema": [],
       "aggSeriesLimitReached": false,
       "aggType": "",
       "arguments": {},
       "columnCustomDisplayInfos": {},
       "data": [
        [
         201,
         301,
         "2025-04-05",
         "match_stadium.csv"
        ],
        [
         202,
         304,
         "2025-04-05",
         "match_stadium.csv"
        ],
        [
         203,
         302,
         "2025-04-05",
         "match_stadium.csv"
        ],
        [
         204,
         304,
         "2025-04-05",
         "match_stadium.csv"
        ],
        [
         205,
         304,
         "2025-04-05",
         "match_stadium.csv"
        ],
        [
         206,
         305,
         "2025-04-05",
         "match_stadium.csv"
        ],
        [
         207,
         305,
         "2025-04-05",
         "match_stadium.csv"
        ],
        [
         208,
         302,
         "2025-04-05",
         "match_stadium.csv"
        ],
        [
         209,
         301,
         "2025-04-05",
         "match_stadium.csv"
        ],
        [
         210,
         305,
         "2025-04-05",
         "match_stadium.csv"
        ],
        [
         211,
         301,
         "2025-04-05",
         "match_stadium.csv"
        ],
        [
         212,
         303,
         "2025-04-05",
         "match_stadium.csv"
        ],
        [
         213,
         302,
         "2025-04-05",
         "match_stadium.csv"
        ],
        [
         214,
         302,
         "2025-04-05",
         "match_stadium.csv"
        ],
        [
         215,
         305,
         "2025-04-05",
         "match_stadium.csv"
        ],
        [
         216,
         303,
         "2025-04-05",
         "match_stadium.csv"
        ],
        [
         217,
         303,
         "2025-04-05",
         "match_stadium.csv"
        ],
        [
         218,
         304,
         "2025-04-05",
         "match_stadium.csv"
        ],
        [
         219,
         303,
         "2025-04-05",
         "match_stadium.csv"
        ],
        [
         220,
         304,
         "2025-04-05",
         "match_stadium.csv"
        ]
       ],
       "datasetInfos": [],
       "dbfsResultPath": null,
       "isJsonSchema": true,
       "metadata": {},
       "overflow": false,
       "plotOptions": {
        "customPlotOptions": {},
        "displayType": "table",
        "pivotAggregation": null,
        "pivotColumns": null,
        "xColumns": null,
        "yColumns": null
       },
       "removedWidgets": [],
       "schema": [
        {
         "metadata": "{}",
         "name": "match_id",
         "type": "\"integer\""
        },
        {
         "metadata": "{}",
         "name": "stadium_id",
         "type": "\"integer\""
        },
        {
         "metadata": "{}",
         "name": "ingestion_date",
         "type": "\"date\""
        },
        {
         "metadata": "{}",
         "name": "source_file",
         "type": "\"string\""
        }
       ],
       "type": "table"
      }
     },
     "output_type": "display_data"
    }
   ],
   "source": [
    "display(df_match_stadium)"
   ]
  },
  {
   "cell_type": "code",
   "execution_count": 0,
   "metadata": {
    "application/vnd.databricks.v1+cell": {
     "cellMetadata": {
      "byteLimit": 2048000,
      "rowLimit": 10000
     },
     "inputWidgets": {},
     "nuid": "b8f4d372-fd14-449f-a58e-777a16cca1bc",
     "showTitle": false,
     "tableResultSettingsMap": {},
     "title": ""
    }
   },
   "outputs": [
    {
     "output_type": "display_data",
     "data": {
      "text/html": [
       "<style scoped>\n",
       "  .table-result-container {\n",
       "    max-height: 300px;\n",
       "    overflow: auto;\n",
       "  }\n",
       "  table, th, td {\n",
       "    border: 1px solid black;\n",
       "    border-collapse: collapse;\n",
       "  }\n",
       "  th, td {\n",
       "    padding: 5px;\n",
       "  }\n",
       "  th {\n",
       "    text-align: left;\n",
       "  }\n",
       "</style><div class='table-result-container'><table class='table-result'><thead style='background-color: white'><tr><th>match_id</th><th>player_id</th><th>runs_scored</th><th>wickets_taken</th><th>ball_taken</th><th>ingestion_date</th><th>source_file</th></tr></thead><tbody><tr><td>214</td><td>101</td><td>82</td><td>2</td><td>50</td><td>2025-04-05</td><td>player_performance.csv</td></tr><tr><td>211</td><td>102</td><td>97</td><td>2</td><td>50</td><td>2025-04-05</td><td>player_performance.csv</td></tr><tr><td>207</td><td>103</td><td>29</td><td>2</td><td>50</td><td>2025-04-05</td><td>player_performance.csv</td></tr><tr><td>218</td><td>104</td><td>14</td><td>3</td><td>50</td><td>2025-04-05</td><td>player_performance.csv</td></tr><tr><td>209</td><td>105</td><td>5</td><td>1</td><td>50</td><td>2025-04-05</td><td>player_performance.csv</td></tr><tr><td>218</td><td>106</td><td>44</td><td>1</td><td>50</td><td>2025-04-05</td><td>player_performance.csv</td></tr><tr><td>202</td><td>107</td><td>68</td><td>2</td><td>50</td><td>2025-04-05</td><td>player_performance.csv</td></tr><tr><td>213</td><td>108</td><td>94</td><td>4</td><td>50</td><td>2025-04-05</td><td>player_performance.csv</td></tr><tr><td>215</td><td>109</td><td>93</td><td>2</td><td>50</td><td>2025-04-05</td><td>player_performance.csv</td></tr><tr><td>219</td><td>110</td><td>75</td><td>3</td><td>50</td><td>2025-04-05</td><td>player_performance.csv</td></tr><tr><td>204</td><td>111</td><td>38</td><td>2</td><td>50</td><td>2025-04-05</td><td>player_performance.csv</td></tr><tr><td>215</td><td>112</td><td>15</td><td>0</td><td>50</td><td>2025-04-05</td><td>player_performance.csv</td></tr><tr><td>217</td><td>113</td><td>70</td><td>1</td><td>50</td><td>2025-04-05</td><td>player_performance.csv</td></tr><tr><td>218</td><td>114</td><td>81</td><td>1</td><td>50</td><td>2025-04-05</td><td>player_performance.csv</td></tr><tr><td>205</td><td>115</td><td>85</td><td>0</td><td>50</td><td>2025-04-05</td><td>player_performance.csv</td></tr><tr><td>214</td><td>116</td><td>58</td><td>4</td><td>50</td><td>2025-04-05</td><td>player_performance.csv</td></tr><tr><td>208</td><td>117</td><td>35</td><td>4</td><td>50</td><td>2025-04-05</td><td>player_performance.csv</td></tr><tr><td>203</td><td>118</td><td>80</td><td>1</td><td>50</td><td>2025-04-05</td><td>player_performance.csv</td></tr><tr><td>213</td><td>119</td><td>21</td><td>3</td><td>50</td><td>2025-04-05</td><td>player_performance.csv</td></tr><tr><td>216</td><td>120</td><td>75</td><td>0</td><td>50</td><td>2025-04-05</td><td>player_performance.csv</td></tr></tbody></table></div>"
      ]
     },
     "metadata": {
      "application/vnd.databricks.v1+output": {
       "addedWidgets": {},
       "aggData": [],
       "aggError": "",
       "aggOverflow": false,
       "aggSchema": [],
       "aggSeriesLimitReached": false,
       "aggType": "",
       "arguments": {},
       "columnCustomDisplayInfos": {},
       "data": [
        [
         214,
         101,
         82,
         2,
         50,
         "2025-04-05",
         "player_performance.csv"
        ],
        [
         211,
         102,
         97,
         2,
         50,
         "2025-04-05",
         "player_performance.csv"
        ],
        [
         207,
         103,
         29,
         2,
         50,
         "2025-04-05",
         "player_performance.csv"
        ],
        [
         218,
         104,
         14,
         3,
         50,
         "2025-04-05",
         "player_performance.csv"
        ],
        [
         209,
         105,
         5,
         1,
         50,
         "2025-04-05",
         "player_performance.csv"
        ],
        [
         218,
         106,
         44,
         1,
         50,
         "2025-04-05",
         "player_performance.csv"
        ],
        [
         202,
         107,
         68,
         2,
         50,
         "2025-04-05",
         "player_performance.csv"
        ],
        [
         213,
         108,
         94,
         4,
         50,
         "2025-04-05",
         "player_performance.csv"
        ],
        [
         215,
         109,
         93,
         2,
         50,
         "2025-04-05",
         "player_performance.csv"
        ],
        [
         219,
         110,
         75,
         3,
         50,
         "2025-04-05",
         "player_performance.csv"
        ],
        [
         204,
         111,
         38,
         2,
         50,
         "2025-04-05",
         "player_performance.csv"
        ],
        [
         215,
         112,
         15,
         0,
         50,
         "2025-04-05",
         "player_performance.csv"
        ],
        [
         217,
         113,
         70,
         1,
         50,
         "2025-04-05",
         "player_performance.csv"
        ],
        [
         218,
         114,
         81,
         1,
         50,
         "2025-04-05",
         "player_performance.csv"
        ],
        [
         205,
         115,
         85,
         0,
         50,
         "2025-04-05",
         "player_performance.csv"
        ],
        [
         214,
         116,
         58,
         4,
         50,
         "2025-04-05",
         "player_performance.csv"
        ],
        [
         208,
         117,
         35,
         4,
         50,
         "2025-04-05",
         "player_performance.csv"
        ],
        [
         203,
         118,
         80,
         1,
         50,
         "2025-04-05",
         "player_performance.csv"
        ],
        [
         213,
         119,
         21,
         3,
         50,
         "2025-04-05",
         "player_performance.csv"
        ],
        [
         216,
         120,
         75,
         0,
         50,
         "2025-04-05",
         "player_performance.csv"
        ]
       ],
       "datasetInfos": [],
       "dbfsResultPath": null,
       "isJsonSchema": true,
       "metadata": {},
       "overflow": false,
       "plotOptions": {
        "customPlotOptions": {},
        "displayType": "table",
        "pivotAggregation": null,
        "pivotColumns": null,
        "xColumns": null,
        "yColumns": null
       },
       "removedWidgets": [],
       "schema": [
        {
         "metadata": "{}",
         "name": "match_id",
         "type": "\"integer\""
        },
        {
         "metadata": "{}",
         "name": "player_id",
         "type": "\"integer\""
        },
        {
         "metadata": "{}",
         "name": "runs_scored",
         "type": "\"integer\""
        },
        {
         "metadata": "{}",
         "name": "wickets_taken",
         "type": "\"integer\""
        },
        {
         "metadata": "{}",
         "name": "ball_taken",
         "type": "\"integer\""
        },
        {
         "metadata": "{}",
         "name": "ingestion_date",
         "type": "\"date\""
        },
        {
         "metadata": "{}",
         "name": "source_file",
         "type": "\"string\""
        }
       ],
       "type": "table"
      }
     },
     "output_type": "display_data"
    }
   ],
   "source": [
    "display(df_player_performance)"
   ]
  },
  {
   "cell_type": "code",
   "execution_count": 0,
   "metadata": {
    "application/vnd.databricks.v1+cell": {
     "cellMetadata": {
      "byteLimit": 2048000,
      "rowLimit": 10000
     },
     "inputWidgets": {},
     "nuid": "ab6defbc-e427-441e-9d16-4a6510ea1a26",
     "showTitle": false,
     "tableResultSettingsMap": {},
     "title": ""
    }
   },
   "outputs": [
    {
     "output_type": "display_data",
     "data": {
      "text/html": [
       "<style scoped>\n",
       "  .table-result-container {\n",
       "    max-height: 300px;\n",
       "    overflow: auto;\n",
       "  }\n",
       "  table, th, td {\n",
       "    border: 1px solid black;\n",
       "    border-collapse: collapse;\n",
       "  }\n",
       "  th, td {\n",
       "    padding: 5px;\n",
       "  }\n",
       "  th {\n",
       "    text-align: left;\n",
       "  }\n",
       "</style><div class='table-result-container'><table class='table-result'><thead style='background-color: white'><tr><th>player_id</th><th>player_name</th><th>team_id</th><th>player_role</th><th>ingestion_date</th><th>source_file</th></tr></thead><tbody><tr><td>101</td><td>Thomas Mendez</td><td>1</td><td>All-rounder</td><td>2025-04-05</td><td>player_team.csv</td></tr><tr><td>102</td><td>Laurie Brooks</td><td>5</td><td>Batsman</td><td>2025-04-05</td><td>player_team.csv</td></tr><tr><td>103</td><td>Warren Morgan</td><td>5</td><td>All-rounder</td><td>2025-04-05</td><td>player_team.csv</td></tr><tr><td>104</td><td>Amber Bell</td><td>2</td><td>Bowler</td><td>2025-04-05</td><td>player_team.csv</td></tr><tr><td>105</td><td>Shawn Bowers</td><td>1</td><td>Batsman</td><td>2025-04-05</td><td>player_team.csv</td></tr><tr><td>106</td><td>null</td><td>2</td><td>Bowler</td><td>2025-04-05</td><td>player_team.csv</td></tr><tr><td>107</td><td>Autumn Chang</td><td>3</td><td>All-rounder</td><td>2025-04-05</td><td>player_team.csv</td></tr><tr><td>108</td><td>Jared Knox</td><td>2</td><td>Bowler</td><td>2025-04-05</td><td>player_team.csv</td></tr><tr><td>109</td><td>Kevin Conrad</td><td>2</td><td>Bowler</td><td>2025-04-05</td><td>player_team.csv</td></tr><tr><td>110</td><td>Alan Padilla</td><td>4</td><td>All-rounder</td><td>2025-04-05</td><td>player_team.csv</td></tr><tr><td>111</td><td>Tim Powers</td><td>4</td><td>null</td><td>2025-04-05</td><td>player_team.csv</td></tr><tr><td>112</td><td>Brian Berry</td><td>3</td><td>Bowler</td><td>2025-04-05</td><td>player_team.csv</td></tr><tr><td>113</td><td>Joseph Meadows</td><td>5</td><td>Batsman</td><td>2025-04-05</td><td>player_team.csv</td></tr><tr><td>114</td><td>Joshua Baird</td><td>2</td><td>Bowler</td><td>2025-04-05</td><td>player_team.csv</td></tr><tr><td>115</td><td>Breanna Jackson</td><td>4</td><td>All-rounder</td><td>2025-04-05</td><td>player_team.csv</td></tr><tr><td>116</td><td>Bruce Morales</td><td>1</td><td>All-rounder</td><td>2025-04-05</td><td>player_team.csv</td></tr><tr><td>117</td><td>Craig Daniels</td><td>5</td><td>All-rounder</td><td>2025-04-05</td><td>player_team.csv</td></tr><tr><td>118</td><td>Michael Martinez</td><td>3</td><td>All-rounder</td><td>2025-04-05</td><td>player_team.csv</td></tr><tr><td>119</td><td>Brooke Jenkins</td><td>5</td><td>All-rounder</td><td>2025-04-05</td><td>player_team.csv</td></tr><tr><td>120</td><td>Justin White</td><td>1</td><td>Batsman</td><td>2025-04-05</td><td>player_team.csv</td></tr></tbody></table></div>"
      ]
     },
     "metadata": {
      "application/vnd.databricks.v1+output": {
       "addedWidgets": {},
       "aggData": [],
       "aggError": "",
       "aggOverflow": false,
       "aggSchema": [],
       "aggSeriesLimitReached": false,
       "aggType": "",
       "arguments": {},
       "columnCustomDisplayInfos": {},
       "data": [
        [
         101,
         "Thomas Mendez",
         1,
         "All-rounder",
         "2025-04-05",
         "player_team.csv"
        ],
        [
         102,
         "Laurie Brooks",
         5,
         "Batsman",
         "2025-04-05",
         "player_team.csv"
        ],
        [
         103,
         "Warren Morgan",
         5,
         "All-rounder",
         "2025-04-05",
         "player_team.csv"
        ],
        [
         104,
         "Amber Bell",
         2,
         "Bowler",
         "2025-04-05",
         "player_team.csv"
        ],
        [
         105,
         "Shawn Bowers",
         1,
         "Batsman",
         "2025-04-05",
         "player_team.csv"
        ],
        [
         106,
         null,
         2,
         "Bowler",
         "2025-04-05",
         "player_team.csv"
        ],
        [
         107,
         "Autumn Chang",
         3,
         "All-rounder",
         "2025-04-05",
         "player_team.csv"
        ],
        [
         108,
         "Jared Knox",
         2,
         "Bowler",
         "2025-04-05",
         "player_team.csv"
        ],
        [
         109,
         "Kevin Conrad",
         2,
         "Bowler",
         "2025-04-05",
         "player_team.csv"
        ],
        [
         110,
         "Alan Padilla",
         4,
         "All-rounder",
         "2025-04-05",
         "player_team.csv"
        ],
        [
         111,
         "Tim Powers",
         4,
         null,
         "2025-04-05",
         "player_team.csv"
        ],
        [
         112,
         "Brian Berry",
         3,
         "Bowler",
         "2025-04-05",
         "player_team.csv"
        ],
        [
         113,
         "Joseph Meadows",
         5,
         "Batsman",
         "2025-04-05",
         "player_team.csv"
        ],
        [
         114,
         "Joshua Baird",
         2,
         "Bowler",
         "2025-04-05",
         "player_team.csv"
        ],
        [
         115,
         "Breanna Jackson",
         4,
         "All-rounder",
         "2025-04-05",
         "player_team.csv"
        ],
        [
         116,
         "Bruce Morales",
         1,
         "All-rounder",
         "2025-04-05",
         "player_team.csv"
        ],
        [
         117,
         "Craig Daniels",
         5,
         "All-rounder",
         "2025-04-05",
         "player_team.csv"
        ],
        [
         118,
         "Michael Martinez",
         3,
         "All-rounder",
         "2025-04-05",
         "player_team.csv"
        ],
        [
         119,
         "Brooke Jenkins",
         5,
         "All-rounder",
         "2025-04-05",
         "player_team.csv"
        ],
        [
         120,
         "Justin White",
         1,
         "Batsman",
         "2025-04-05",
         "player_team.csv"
        ]
       ],
       "datasetInfos": [],
       "dbfsResultPath": null,
       "isJsonSchema": true,
       "metadata": {},
       "overflow": false,
       "plotOptions": {
        "customPlotOptions": {},
        "displayType": "table",
        "pivotAggregation": null,
        "pivotColumns": null,
        "xColumns": null,
        "yColumns": null
       },
       "removedWidgets": [],
       "schema": [
        {
         "metadata": "{}",
         "name": "player_id",
         "type": "\"integer\""
        },
        {
         "metadata": "{}",
         "name": "player_name",
         "type": "\"string\""
        },
        {
         "metadata": "{}",
         "name": "team_id",
         "type": "\"integer\""
        },
        {
         "metadata": "{}",
         "name": "player_role",
         "type": "\"string\""
        },
        {
         "metadata": "{}",
         "name": "ingestion_date",
         "type": "\"date\""
        },
        {
         "metadata": "{}",
         "name": "source_file",
         "type": "\"string\""
        }
       ],
       "type": "table"
      }
     },
     "output_type": "display_data"
    }
   ],
   "source": [
    "display(df_player_team)"
   ]
  },
  {
   "cell_type": "code",
   "execution_count": 0,
   "metadata": {
    "application/vnd.databricks.v1+cell": {
     "cellMetadata": {
      "byteLimit": 2048000,
      "rowLimit": 10000
     },
     "inputWidgets": {},
     "nuid": "02255de7-70e9-47ae-9029-e277712fa7a7",
     "showTitle": false,
     "tableResultSettingsMap": {},
     "title": ""
    }
   },
   "outputs": [
    {
     "output_type": "display_data",
     "data": {
      "text/html": [
       "<style scoped>\n",
       "  .table-result-container {\n",
       "    max-height: 300px;\n",
       "    overflow: auto;\n",
       "  }\n",
       "  table, th, td {\n",
       "    border: 1px solid black;\n",
       "    border-collapse: collapse;\n",
       "  }\n",
       "  th, td {\n",
       "    padding: 5px;\n",
       "  }\n",
       "  th {\n",
       "    text-align: left;\n",
       "  }\n",
       "</style><div class='table-result-container'><table class='table-result'><thead style='background-color: white'><tr><th>stadium_id</th><th>stadium_name</th><th>city</th><th>capacity</th><th>ingestion_date</th><th>source_file</th></tr></thead><tbody><tr><td>301</td><td>Wankhede Stadium</td><td>Mumbai</td><td>33108</td><td>2025-04-05</td><td>stadium.csv</td></tr><tr><td>302</td><td>M. A. Chidambaram Stadium</td><td>Chennai</td><td>null</td><td>2025-04-05</td><td>stadium.csv</td></tr><tr><td>303</td><td>Arun Jaitley Stadium</td><td>Delhi</td><td>41820</td><td>2025-04-05</td><td>stadium.csv</td></tr><tr><td>304</td><td>Eden Gardens</td><td>Kolkata</td><td>66000</td><td>2025-04-05</td><td>stadium.csv</td></tr><tr><td>305</td><td>Rajiv Gandhi Intl. Cricket Stadium</td><td>null</td><td>55000</td><td>2025-04-05</td><td>stadium.csv</td></tr></tbody></table></div>"
      ]
     },
     "metadata": {
      "application/vnd.databricks.v1+output": {
       "addedWidgets": {},
       "aggData": [],
       "aggError": "",
       "aggOverflow": false,
       "aggSchema": [],
       "aggSeriesLimitReached": false,
       "aggType": "",
       "arguments": {},
       "columnCustomDisplayInfos": {},
       "data": [
        [
         301,
         "Wankhede Stadium",
         "Mumbai",
         33108,
         "2025-04-05",
         "stadium.csv"
        ],
        [
         302,
         "M. A. Chidambaram Stadium",
         "Chennai",
         null,
         "2025-04-05",
         "stadium.csv"
        ],
        [
         303,
         "Arun Jaitley Stadium",
         "Delhi",
         41820,
         "2025-04-05",
         "stadium.csv"
        ],
        [
         304,
         "Eden Gardens",
         "Kolkata",
         66000,
         "2025-04-05",
         "stadium.csv"
        ],
        [
         305,
         "Rajiv Gandhi Intl. Cricket Stadium",
         null,
         55000,
         "2025-04-05",
         "stadium.csv"
        ]
       ],
       "datasetInfos": [],
       "dbfsResultPath": null,
       "isJsonSchema": true,
       "metadata": {},
       "overflow": false,
       "plotOptions": {
        "customPlotOptions": {},
        "displayType": "table",
        "pivotAggregation": null,
        "pivotColumns": null,
        "xColumns": null,
        "yColumns": null
       },
       "removedWidgets": [],
       "schema": [
        {
         "metadata": "{}",
         "name": "stadium_id",
         "type": "\"integer\""
        },
        {
         "metadata": "{}",
         "name": "stadium_name",
         "type": "\"string\""
        },
        {
         "metadata": "{}",
         "name": "city",
         "type": "\"string\""
        },
        {
         "metadata": "{}",
         "name": "capacity",
         "type": "\"integer\""
        },
        {
         "metadata": "{}",
         "name": "ingestion_date",
         "type": "\"date\""
        },
        {
         "metadata": "{}",
         "name": "source_file",
         "type": "\"string\""
        }
       ],
       "type": "table"
      }
     },
     "output_type": "display_data"
    }
   ],
   "source": [
    "display(df_stadium)"
   ]
  },
  {
   "cell_type": "code",
   "execution_count": 0,
   "metadata": {
    "application/vnd.databricks.v1+cell": {
     "cellMetadata": {
      "byteLimit": 2048000,
      "rowLimit": 10000
     },
     "inputWidgets": {},
     "nuid": "f7205bc1-9c67-49ac-872e-3f897b25a05c",
     "showTitle": false,
     "tableResultSettingsMap": {},
     "title": ""
    }
   },
   "outputs": [
    {
     "output_type": "display_data",
     "data": {
      "text/html": [
       "<style scoped>\n",
       "  .table-result-container {\n",
       "    max-height: 300px;\n",
       "    overflow: auto;\n",
       "  }\n",
       "  table, th, td {\n",
       "    border: 1px solid black;\n",
       "    border-collapse: collapse;\n",
       "  }\n",
       "  th, td {\n",
       "    padding: 5px;\n",
       "  }\n",
       "  th {\n",
       "    text-align: left;\n",
       "  }\n",
       "</style><div class='table-result-container'><table class='table-result'><thead style='background-color: white'><tr><th>team_id</th><th>team_name</th><th>home_ground</th><th>captain</th><th>ingestion_date</th><th>source_file</th></tr></thead><tbody><tr><td>1</td><td>Mumbai Indians</td><td>Wankhede Stadium</td><td>Rohit Sharma</td><td>2025-04-05</td><td>team.csv</td></tr><tr><td>2</td><td>Chennai Super Kings</td><td>M. A. Chidambaram Stadium</td><td>MS Dhoni</td><td>2025-04-05</td><td>team.csv</td></tr><tr><td>3</td><td>Delhi Capitals</td><td>null</td><td>Rishabh Pant</td><td>2025-04-05</td><td>team.csv</td></tr><tr><td>4</td><td>Kolkata Knight Riders</td><td>Eden Gardens</td><td>Shreyas Iyer</td><td>2025-04-05</td><td>team.csv</td></tr><tr><td>5</td><td>Sunrisers Hyderabad</td><td>Rajiv Gandhi Intl. Cricket Stadium</td><td>null</td><td>2025-04-05</td><td>team.csv</td></tr></tbody></table></div>"
      ]
     },
     "metadata": {
      "application/vnd.databricks.v1+output": {
       "addedWidgets": {},
       "aggData": [],
       "aggError": "",
       "aggOverflow": false,
       "aggSchema": [],
       "aggSeriesLimitReached": false,
       "aggType": "",
       "arguments": {},
       "columnCustomDisplayInfos": {},
       "data": [
        [
         1,
         "Mumbai Indians",
         "Wankhede Stadium",
         "Rohit Sharma",
         "2025-04-05",
         "team.csv"
        ],
        [
         2,
         "Chennai Super Kings",
         "M. A. Chidambaram Stadium",
         "MS Dhoni",
         "2025-04-05",
         "team.csv"
        ],
        [
         3,
         "Delhi Capitals",
         null,
         "Rishabh Pant",
         "2025-04-05",
         "team.csv"
        ],
        [
         4,
         "Kolkata Knight Riders",
         "Eden Gardens",
         "Shreyas Iyer",
         "2025-04-05",
         "team.csv"
        ],
        [
         5,
         "Sunrisers Hyderabad",
         "Rajiv Gandhi Intl. Cricket Stadium",
         null,
         "2025-04-05",
         "team.csv"
        ]
       ],
       "datasetInfos": [],
       "dbfsResultPath": null,
       "isJsonSchema": true,
       "metadata": {},
       "overflow": false,
       "plotOptions": {
        "customPlotOptions": {},
        "displayType": "table",
        "pivotAggregation": null,
        "pivotColumns": null,
        "xColumns": null,
        "yColumns": null
       },
       "removedWidgets": [],
       "schema": [
        {
         "metadata": "{}",
         "name": "team_id",
         "type": "\"integer\""
        },
        {
         "metadata": "{}",
         "name": "team_name",
         "type": "\"string\""
        },
        {
         "metadata": "{}",
         "name": "home_ground",
         "type": "\"string\""
        },
        {
         "metadata": "{}",
         "name": "captain",
         "type": "\"string\""
        },
        {
         "metadata": "{}",
         "name": "ingestion_date",
         "type": "\"date\""
        },
        {
         "metadata": "{}",
         "name": "source_file",
         "type": "\"string\""
        }
       ],
       "type": "table"
      }
     },
     "output_type": "display_data"
    }
   ],
   "source": [
    "display(df_team)"
   ]
  },
  {
   "cell_type": "code",
   "execution_count": 0,
   "metadata": {
    "application/vnd.databricks.v1+cell": {
     "cellMetadata": {
      "byteLimit": 2048000,
      "rowLimit": 10000
     },
     "inputWidgets": {},
     "nuid": "ab2bdac2-08d4-4719-821d-f53d6df27ccb",
     "showTitle": false,
     "tableResultSettingsMap": {},
     "title": ""
    }
   },
   "outputs": [
    {
     "output_type": "stream",
     "name": "stdout",
     "output_type": "stream",
     "text": [
      "match_id 0\nteam_id 0\nopponent_team_id 0\nruns_scored 1\nwickets_taken 0\nmatch_result 0\ningestion_date 0\nsource_file 0\n"
     ]
    }
   ],
   "source": [
    "for i in df_match_performance.columns:\n",
    "  print(i, df_match_performance.filter(df_match_performance[i].isNull()).count())"
   ]
  },
  {
   "cell_type": "code",
   "execution_count": 0,
   "metadata": {
    "application/vnd.databricks.v1+cell": {
     "cellMetadata": {
      "byteLimit": 2048000,
      "rowLimit": 10000
     },
     "inputWidgets": {},
     "nuid": "9b67fd2c-ee8f-4ed1-b028-b958243459c7",
     "showTitle": false,
     "tableResultSettingsMap": {},
     "title": ""
    }
   },
   "outputs": [],
   "source": [
    "df_match_performance_cleaned = df_match_performance.fillna({'runs_scored': 0}).na.replace('Unknown', 'Cancelled').withColumnRenamed('match_id', 'match_performance_match_id')\n"
   ]
  },
  {
   "cell_type": "code",
   "execution_count": 0,
   "metadata": {
    "application/vnd.databricks.v1+cell": {
     "cellMetadata": {
      "byteLimit": 2048000,
      "rowLimit": 10000
     },
     "inputWidgets": {},
     "nuid": "bca601a3-1b46-4ea0-9dda-19e29c4f3bb7",
     "showTitle": false,
     "tableResultSettingsMap": {},
     "title": ""
    }
   },
   "outputs": [
    {
     "output_type": "display_data",
     "data": {
      "text/html": [
       "<style scoped>\n",
       "  .table-result-container {\n",
       "    max-height: 300px;\n",
       "    overflow: auto;\n",
       "  }\n",
       "  table, th, td {\n",
       "    border: 1px solid black;\n",
       "    border-collapse: collapse;\n",
       "  }\n",
       "  th, td {\n",
       "    padding: 5px;\n",
       "  }\n",
       "  th {\n",
       "    text-align: left;\n",
       "  }\n",
       "</style><div class='table-result-container'><table class='table-result'><thead style='background-color: white'><tr><th>match_performance_match_id</th><th>team_id</th><th>opponent_team_id</th><th>runs_scored</th><th>wickets_taken</th><th>match_result</th><th>ingestion_date</th><th>source_file</th></tr></thead><tbody><tr><td>201</td><td>4</td><td>1</td><td>213.0</td><td>7</td><td>Tie</td><td>2025-04-05</td><td>match_performance.csv</td></tr><tr><td>202</td><td>1</td><td>3</td><td>202.0</td><td>10</td><td>Loss</td><td>2025-04-05</td><td>match_performance.csv</td></tr><tr><td>203</td><td>2</td><td>3</td><td>238.0</td><td>8</td><td>Win</td><td>2025-04-05</td><td>match_performance.csv</td></tr><tr><td>204</td><td>4</td><td>3</td><td>0.0</td><td>9</td><td>Loss</td><td>2025-04-05</td><td>match_performance.csv</td></tr><tr><td>205</td><td>4</td><td>3</td><td>123.0</td><td>8</td><td>Tie</td><td>2025-04-05</td><td>match_performance.csv</td></tr><tr><td>206</td><td>1</td><td>2</td><td>215.0</td><td>6</td><td>Loss</td><td>2025-04-05</td><td>match_performance.csv</td></tr><tr><td>207</td><td>5</td><td>3</td><td>211.0</td><td>5</td><td>Win</td><td>2025-04-05</td><td>match_performance.csv</td></tr><tr><td>208</td><td>3</td><td>5</td><td>171.0</td><td>6</td><td>Cancelled</td><td>2025-04-05</td><td>match_performance.csv</td></tr><tr><td>209</td><td>4</td><td>1</td><td>201.0</td><td>5</td><td>Tie</td><td>2025-04-05</td><td>match_performance.csv</td></tr><tr><td>210</td><td>4</td><td>3</td><td>233.0</td><td>7</td><td>Win</td><td>2025-04-05</td><td>match_performance.csv</td></tr><tr><td>211</td><td>5</td><td>1</td><td>144.0</td><td>10</td><td>Loss</td><td>2025-04-05</td><td>match_performance.csv</td></tr><tr><td>212</td><td>1</td><td>5</td><td>227.0</td><td>6</td><td>Win</td><td>2025-04-05</td><td>match_performance.csv</td></tr><tr><td>213</td><td>4</td><td>2</td><td>190.0</td><td>9</td><td>Loss</td><td>2025-04-05</td><td>match_performance.csv</td></tr><tr><td>214</td><td>1</td><td>3</td><td>201.0</td><td>8</td><td>Win</td><td>2025-04-05</td><td>match_performance.csv</td></tr><tr><td>215</td><td>1</td><td>3</td><td>242.0</td><td>8</td><td>Win</td><td>2025-04-05</td><td>match_performance.csv</td></tr><tr><td>216</td><td>4</td><td>1</td><td>139.0</td><td>8</td><td>Win</td><td>2025-04-05</td><td>match_performance.csv</td></tr><tr><td>217</td><td>5</td><td>4</td><td>238.0</td><td>6</td><td>Loss</td><td>2025-04-05</td><td>match_performance.csv</td></tr><tr><td>218</td><td>2</td><td>1</td><td>190.0</td><td>5</td><td>Tie</td><td>2025-04-05</td><td>match_performance.csv</td></tr><tr><td>219</td><td>2</td><td>3</td><td>194.0</td><td>7</td><td>Loss</td><td>2025-04-05</td><td>match_performance.csv</td></tr><tr><td>220</td><td>3</td><td>1</td><td>130.0</td><td>9</td><td>Loss</td><td>2025-04-05</td><td>match_performance.csv</td></tr></tbody></table></div>"
      ]
     },
     "metadata": {
      "application/vnd.databricks.v1+output": {
       "addedWidgets": {},
       "aggData": [],
       "aggError": "",
       "aggOverflow": false,
       "aggSchema": [],
       "aggSeriesLimitReached": false,
       "aggType": "",
       "arguments": {},
       "columnCustomDisplayInfos": {},
       "data": [
        [
         201,
         4,
         1,
         213.0,
         7,
         "Tie",
         "2025-04-05",
         "match_performance.csv"
        ],
        [
         202,
         1,
         3,
         202.0,
         10,
         "Loss",
         "2025-04-05",
         "match_performance.csv"
        ],
        [
         203,
         2,
         3,
         238.0,
         8,
         "Win",
         "2025-04-05",
         "match_performance.csv"
        ],
        [
         204,
         4,
         3,
         0.0,
         9,
         "Loss",
         "2025-04-05",
         "match_performance.csv"
        ],
        [
         205,
         4,
         3,
         123.0,
         8,
         "Tie",
         "2025-04-05",
         "match_performance.csv"
        ],
        [
         206,
         1,
         2,
         215.0,
         6,
         "Loss",
         "2025-04-05",
         "match_performance.csv"
        ],
        [
         207,
         5,
         3,
         211.0,
         5,
         "Win",
         "2025-04-05",
         "match_performance.csv"
        ],
        [
         208,
         3,
         5,
         171.0,
         6,
         "Cancelled",
         "2025-04-05",
         "match_performance.csv"
        ],
        [
         209,
         4,
         1,
         201.0,
         5,
         "Tie",
         "2025-04-05",
         "match_performance.csv"
        ],
        [
         210,
         4,
         3,
         233.0,
         7,
         "Win",
         "2025-04-05",
         "match_performance.csv"
        ],
        [
         211,
         5,
         1,
         144.0,
         10,
         "Loss",
         "2025-04-05",
         "match_performance.csv"
        ],
        [
         212,
         1,
         5,
         227.0,
         6,
         "Win",
         "2025-04-05",
         "match_performance.csv"
        ],
        [
         213,
         4,
         2,
         190.0,
         9,
         "Loss",
         "2025-04-05",
         "match_performance.csv"
        ],
        [
         214,
         1,
         3,
         201.0,
         8,
         "Win",
         "2025-04-05",
         "match_performance.csv"
        ],
        [
         215,
         1,
         3,
         242.0,
         8,
         "Win",
         "2025-04-05",
         "match_performance.csv"
        ],
        [
         216,
         4,
         1,
         139.0,
         8,
         "Win",
         "2025-04-05",
         "match_performance.csv"
        ],
        [
         217,
         5,
         4,
         238.0,
         6,
         "Loss",
         "2025-04-05",
         "match_performance.csv"
        ],
        [
         218,
         2,
         1,
         190.0,
         5,
         "Tie",
         "2025-04-05",
         "match_performance.csv"
        ],
        [
         219,
         2,
         3,
         194.0,
         7,
         "Loss",
         "2025-04-05",
         "match_performance.csv"
        ],
        [
         220,
         3,
         1,
         130.0,
         9,
         "Loss",
         "2025-04-05",
         "match_performance.csv"
        ]
       ],
       "datasetInfos": [],
       "dbfsResultPath": null,
       "isJsonSchema": true,
       "metadata": {},
       "overflow": false,
       "plotOptions": {
        "customPlotOptions": {},
        "displayType": "table",
        "pivotAggregation": null,
        "pivotColumns": null,
        "xColumns": null,
        "yColumns": null
       },
       "removedWidgets": [],
       "schema": [
        {
         "metadata": "{}",
         "name": "match_performance_match_id",
         "type": "\"integer\""
        },
        {
         "metadata": "{}",
         "name": "team_id",
         "type": "\"integer\""
        },
        {
         "metadata": "{}",
         "name": "opponent_team_id",
         "type": "\"integer\""
        },
        {
         "metadata": "{}",
         "name": "runs_scored",
         "type": "\"double\""
        },
        {
         "metadata": "{}",
         "name": "wickets_taken",
         "type": "\"integer\""
        },
        {
         "metadata": "{}",
         "name": "match_result",
         "type": "\"string\""
        },
        {
         "metadata": "{}",
         "name": "ingestion_date",
         "type": "\"date\""
        },
        {
         "metadata": "{}",
         "name": "source_file",
         "type": "\"string\""
        }
       ],
       "type": "table"
      }
     },
     "output_type": "display_data"
    }
   ],
   "source": [
    "df_match_performance_cleaned.display()"
   ]
  },
  {
   "cell_type": "code",
   "execution_count": 0,
   "metadata": {
    "application/vnd.databricks.v1+cell": {
     "cellMetadata": {
      "byteLimit": 2048000,
      "rowLimit": 10000
     },
     "inputWidgets": {},
     "nuid": "44c838fa-0747-43fe-a8b1-67368e95d6ea",
     "showTitle": false,
     "tableResultSettingsMap": {},
     "title": ""
    }
   },
   "outputs": [
    {
     "output_type": "stream",
     "name": "stdout",
     "output_type": "stream",
     "text": [
      "match_id 0\nstadium_id 0\ningestion_date 0\nsource_file 0\n"
     ]
    }
   ],
   "source": [
    "for i in df_match_stadium.columns:\n",
    "    print(i, df_match_stadium.filter(df_match_stadium[i].isNull()).count())"
   ]
  },
  {
   "cell_type": "code",
   "execution_count": 0,
   "metadata": {
    "application/vnd.databricks.v1+cell": {
     "cellMetadata": {
      "byteLimit": 2048000,
      "rowLimit": 10000
     },
     "inputWidgets": {},
     "nuid": "791e07c0-7cee-4e00-a933-d2de7beafd89",
     "showTitle": false,
     "tableResultSettingsMap": {},
     "title": ""
    }
   },
   "outputs": [],
   "source": [
    "df_match_stadium_cleaned = df_match_stadium.dropna(subset=['stadium_id'])"
   ]
  },
  {
   "cell_type": "code",
   "execution_count": 0,
   "metadata": {
    "application/vnd.databricks.v1+cell": {
     "cellMetadata": {
      "byteLimit": 2048000,
      "rowLimit": 10000
     },
     "inputWidgets": {},
     "nuid": "2481ea0e-8f6e-43c5-b536-2fa71c163020",
     "showTitle": false,
     "tableResultSettingsMap": {},
     "title": ""
    }
   },
   "outputs": [
    {
     "output_type": "display_data",
     "data": {
      "text/html": [
       "<style scoped>\n",
       "  .table-result-container {\n",
       "    max-height: 300px;\n",
       "    overflow: auto;\n",
       "  }\n",
       "  table, th, td {\n",
       "    border: 1px solid black;\n",
       "    border-collapse: collapse;\n",
       "  }\n",
       "  th, td {\n",
       "    padding: 5px;\n",
       "  }\n",
       "  th {\n",
       "    text-align: left;\n",
       "  }\n",
       "</style><div class='table-result-container'><table class='table-result'><thead style='background-color: white'><tr><th>match_id</th><th>stadium_id</th><th>ingestion_date</th><th>source_file</th></tr></thead><tbody><tr><td>201</td><td>301</td><td>2025-04-05</td><td>match_stadium.csv</td></tr><tr><td>202</td><td>304</td><td>2025-04-05</td><td>match_stadium.csv</td></tr><tr><td>203</td><td>302</td><td>2025-04-05</td><td>match_stadium.csv</td></tr><tr><td>204</td><td>304</td><td>2025-04-05</td><td>match_stadium.csv</td></tr><tr><td>205</td><td>304</td><td>2025-04-05</td><td>match_stadium.csv</td></tr><tr><td>206</td><td>305</td><td>2025-04-05</td><td>match_stadium.csv</td></tr><tr><td>207</td><td>305</td><td>2025-04-05</td><td>match_stadium.csv</td></tr><tr><td>208</td><td>302</td><td>2025-04-05</td><td>match_stadium.csv</td></tr><tr><td>209</td><td>301</td><td>2025-04-05</td><td>match_stadium.csv</td></tr><tr><td>210</td><td>305</td><td>2025-04-05</td><td>match_stadium.csv</td></tr><tr><td>211</td><td>301</td><td>2025-04-05</td><td>match_stadium.csv</td></tr><tr><td>212</td><td>303</td><td>2025-04-05</td><td>match_stadium.csv</td></tr><tr><td>213</td><td>302</td><td>2025-04-05</td><td>match_stadium.csv</td></tr><tr><td>214</td><td>302</td><td>2025-04-05</td><td>match_stadium.csv</td></tr><tr><td>215</td><td>305</td><td>2025-04-05</td><td>match_stadium.csv</td></tr><tr><td>216</td><td>303</td><td>2025-04-05</td><td>match_stadium.csv</td></tr><tr><td>217</td><td>303</td><td>2025-04-05</td><td>match_stadium.csv</td></tr><tr><td>218</td><td>304</td><td>2025-04-05</td><td>match_stadium.csv</td></tr><tr><td>219</td><td>303</td><td>2025-04-05</td><td>match_stadium.csv</td></tr><tr><td>220</td><td>304</td><td>2025-04-05</td><td>match_stadium.csv</td></tr></tbody></table></div>"
      ]
     },
     "metadata": {
      "application/vnd.databricks.v1+output": {
       "addedWidgets": {},
       "aggData": [],
       "aggError": "",
       "aggOverflow": false,
       "aggSchema": [],
       "aggSeriesLimitReached": false,
       "aggType": "",
       "arguments": {},
       "columnCustomDisplayInfos": {},
       "data": [
        [
         201,
         301,
         "2025-04-05",
         "match_stadium.csv"
        ],
        [
         202,
         304,
         "2025-04-05",
         "match_stadium.csv"
        ],
        [
         203,
         302,
         "2025-04-05",
         "match_stadium.csv"
        ],
        [
         204,
         304,
         "2025-04-05",
         "match_stadium.csv"
        ],
        [
         205,
         304,
         "2025-04-05",
         "match_stadium.csv"
        ],
        [
         206,
         305,
         "2025-04-05",
         "match_stadium.csv"
        ],
        [
         207,
         305,
         "2025-04-05",
         "match_stadium.csv"
        ],
        [
         208,
         302,
         "2025-04-05",
         "match_stadium.csv"
        ],
        [
         209,
         301,
         "2025-04-05",
         "match_stadium.csv"
        ],
        [
         210,
         305,
         "2025-04-05",
         "match_stadium.csv"
        ],
        [
         211,
         301,
         "2025-04-05",
         "match_stadium.csv"
        ],
        [
         212,
         303,
         "2025-04-05",
         "match_stadium.csv"
        ],
        [
         213,
         302,
         "2025-04-05",
         "match_stadium.csv"
        ],
        [
         214,
         302,
         "2025-04-05",
         "match_stadium.csv"
        ],
        [
         215,
         305,
         "2025-04-05",
         "match_stadium.csv"
        ],
        [
         216,
         303,
         "2025-04-05",
         "match_stadium.csv"
        ],
        [
         217,
         303,
         "2025-04-05",
         "match_stadium.csv"
        ],
        [
         218,
         304,
         "2025-04-05",
         "match_stadium.csv"
        ],
        [
         219,
         303,
         "2025-04-05",
         "match_stadium.csv"
        ],
        [
         220,
         304,
         "2025-04-05",
         "match_stadium.csv"
        ]
       ],
       "datasetInfos": [],
       "dbfsResultPath": null,
       "isJsonSchema": true,
       "metadata": {},
       "overflow": false,
       "plotOptions": {
        "customPlotOptions": {},
        "displayType": "table",
        "pivotAggregation": null,
        "pivotColumns": null,
        "xColumns": null,
        "yColumns": null
       },
       "removedWidgets": [],
       "schema": [
        {
         "metadata": "{}",
         "name": "match_id",
         "type": "\"integer\""
        },
        {
         "metadata": "{}",
         "name": "stadium_id",
         "type": "\"integer\""
        },
        {
         "metadata": "{}",
         "name": "ingestion_date",
         "type": "\"date\""
        },
        {
         "metadata": "{}",
         "name": "source_file",
         "type": "\"string\""
        }
       ],
       "type": "table"
      }
     },
     "output_type": "display_data"
    }
   ],
   "source": [
    "df_match_stadium_cleaned.display()"
   ]
  },
  {
   "cell_type": "code",
   "execution_count": 0,
   "metadata": {
    "application/vnd.databricks.v1+cell": {
     "cellMetadata": {
      "byteLimit": 2048000,
      "rowLimit": 10000
     },
     "inputWidgets": {},
     "nuid": "53d27fab-e92f-4b16-bf30-7b6dfeba08f6",
     "showTitle": false,
     "tableResultSettingsMap": {},
     "title": ""
    }
   },
   "outputs": [
    {
     "output_type": "stream",
     "name": "stdout",
     "output_type": "stream",
     "text": [
      "match_id 0\nplayer_id 0\nruns_scored 0\nwickets_taken 0\nball_taken 0\ningestion_date 0\nsource_file 0\n"
     ]
    }
   ],
   "source": [
    "for i in df_player_performance.columns:\n",
    "    print(i, df_player_performance.filter(df_player_performance[i].isNull()).count())"
   ]
  },
  {
   "cell_type": "code",
   "execution_count": 0,
   "metadata": {
    "application/vnd.databricks.v1+cell": {
     "cellMetadata": {
      "byteLimit": 2048000,
      "rowLimit": 10000
     },
     "inputWidgets": {},
     "nuid": "bbfc7f3b-1670-41b4-a39d-dc1119a14358",
     "showTitle": false,
     "tableResultSettingsMap": {},
     "title": ""
    }
   },
   "outputs": [],
   "source": [
    "df_player_performance_cleaned = df_player_performance.fillna({'runs_scored': 0, 'wickets_taken': 0, 'ball_taken': 0}).dropna(subset=['match_id','player_id']).withColumnRenamed('runs_scored', 'player_runs_scored').withColumnRenamed('wickets_taken', 'player_wickets_taken')"
   ]
  },
  {
   "cell_type": "code",
   "execution_count": 0,
   "metadata": {
    "application/vnd.databricks.v1+cell": {
     "cellMetadata": {
      "byteLimit": 2048000,
      "rowLimit": 10000
     },
     "inputWidgets": {},
     "nuid": "c96b0146-12a3-49d4-b8c2-72ad8dc83499",
     "showTitle": false,
     "tableResultSettingsMap": {},
     "title": ""
    }
   },
   "outputs": [
    {
     "output_type": "display_data",
     "data": {
      "text/html": [
       "<style scoped>\n",
       "  .table-result-container {\n",
       "    max-height: 300px;\n",
       "    overflow: auto;\n",
       "  }\n",
       "  table, th, td {\n",
       "    border: 1px solid black;\n",
       "    border-collapse: collapse;\n",
       "  }\n",
       "  th, td {\n",
       "    padding: 5px;\n",
       "  }\n",
       "  th {\n",
       "    text-align: left;\n",
       "  }\n",
       "</style><div class='table-result-container'><table class='table-result'><thead style='background-color: white'><tr><th>match_id</th><th>player_id</th><th>player_runs_scored</th><th>player_wickets_taken</th><th>ball_taken</th><th>ingestion_date</th><th>source_file</th></tr></thead><tbody><tr><td>214</td><td>101</td><td>82</td><td>2</td><td>50</td><td>2025-04-05</td><td>player_performance.csv</td></tr><tr><td>211</td><td>102</td><td>97</td><td>2</td><td>50</td><td>2025-04-05</td><td>player_performance.csv</td></tr><tr><td>207</td><td>103</td><td>29</td><td>2</td><td>50</td><td>2025-04-05</td><td>player_performance.csv</td></tr><tr><td>218</td><td>104</td><td>14</td><td>3</td><td>50</td><td>2025-04-05</td><td>player_performance.csv</td></tr><tr><td>209</td><td>105</td><td>5</td><td>1</td><td>50</td><td>2025-04-05</td><td>player_performance.csv</td></tr><tr><td>218</td><td>106</td><td>44</td><td>1</td><td>50</td><td>2025-04-05</td><td>player_performance.csv</td></tr><tr><td>202</td><td>107</td><td>68</td><td>2</td><td>50</td><td>2025-04-05</td><td>player_performance.csv</td></tr><tr><td>213</td><td>108</td><td>94</td><td>4</td><td>50</td><td>2025-04-05</td><td>player_performance.csv</td></tr><tr><td>215</td><td>109</td><td>93</td><td>2</td><td>50</td><td>2025-04-05</td><td>player_performance.csv</td></tr><tr><td>219</td><td>110</td><td>75</td><td>3</td><td>50</td><td>2025-04-05</td><td>player_performance.csv</td></tr><tr><td>204</td><td>111</td><td>38</td><td>2</td><td>50</td><td>2025-04-05</td><td>player_performance.csv</td></tr><tr><td>215</td><td>112</td><td>15</td><td>0</td><td>50</td><td>2025-04-05</td><td>player_performance.csv</td></tr><tr><td>217</td><td>113</td><td>70</td><td>1</td><td>50</td><td>2025-04-05</td><td>player_performance.csv</td></tr><tr><td>218</td><td>114</td><td>81</td><td>1</td><td>50</td><td>2025-04-05</td><td>player_performance.csv</td></tr><tr><td>205</td><td>115</td><td>85</td><td>0</td><td>50</td><td>2025-04-05</td><td>player_performance.csv</td></tr><tr><td>214</td><td>116</td><td>58</td><td>4</td><td>50</td><td>2025-04-05</td><td>player_performance.csv</td></tr><tr><td>208</td><td>117</td><td>35</td><td>4</td><td>50</td><td>2025-04-05</td><td>player_performance.csv</td></tr><tr><td>203</td><td>118</td><td>80</td><td>1</td><td>50</td><td>2025-04-05</td><td>player_performance.csv</td></tr><tr><td>213</td><td>119</td><td>21</td><td>3</td><td>50</td><td>2025-04-05</td><td>player_performance.csv</td></tr><tr><td>216</td><td>120</td><td>75</td><td>0</td><td>50</td><td>2025-04-05</td><td>player_performance.csv</td></tr></tbody></table></div>"
      ]
     },
     "metadata": {
      "application/vnd.databricks.v1+output": {
       "addedWidgets": {},
       "aggData": [],
       "aggError": "",
       "aggOverflow": false,
       "aggSchema": [],
       "aggSeriesLimitReached": false,
       "aggType": "",
       "arguments": {},
       "columnCustomDisplayInfos": {},
       "data": [
        [
         214,
         101,
         82,
         2,
         50,
         "2025-04-05",
         "player_performance.csv"
        ],
        [
         211,
         102,
         97,
         2,
         50,
         "2025-04-05",
         "player_performance.csv"
        ],
        [
         207,
         103,
         29,
         2,
         50,
         "2025-04-05",
         "player_performance.csv"
        ],
        [
         218,
         104,
         14,
         3,
         50,
         "2025-04-05",
         "player_performance.csv"
        ],
        [
         209,
         105,
         5,
         1,
         50,
         "2025-04-05",
         "player_performance.csv"
        ],
        [
         218,
         106,
         44,
         1,
         50,
         "2025-04-05",
         "player_performance.csv"
        ],
        [
         202,
         107,
         68,
         2,
         50,
         "2025-04-05",
         "player_performance.csv"
        ],
        [
         213,
         108,
         94,
         4,
         50,
         "2025-04-05",
         "player_performance.csv"
        ],
        [
         215,
         109,
         93,
         2,
         50,
         "2025-04-05",
         "player_performance.csv"
        ],
        [
         219,
         110,
         75,
         3,
         50,
         "2025-04-05",
         "player_performance.csv"
        ],
        [
         204,
         111,
         38,
         2,
         50,
         "2025-04-05",
         "player_performance.csv"
        ],
        [
         215,
         112,
         15,
         0,
         50,
         "2025-04-05",
         "player_performance.csv"
        ],
        [
         217,
         113,
         70,
         1,
         50,
         "2025-04-05",
         "player_performance.csv"
        ],
        [
         218,
         114,
         81,
         1,
         50,
         "2025-04-05",
         "player_performance.csv"
        ],
        [
         205,
         115,
         85,
         0,
         50,
         "2025-04-05",
         "player_performance.csv"
        ],
        [
         214,
         116,
         58,
         4,
         50,
         "2025-04-05",
         "player_performance.csv"
        ],
        [
         208,
         117,
         35,
         4,
         50,
         "2025-04-05",
         "player_performance.csv"
        ],
        [
         203,
         118,
         80,
         1,
         50,
         "2025-04-05",
         "player_performance.csv"
        ],
        [
         213,
         119,
         21,
         3,
         50,
         "2025-04-05",
         "player_performance.csv"
        ],
        [
         216,
         120,
         75,
         0,
         50,
         "2025-04-05",
         "player_performance.csv"
        ]
       ],
       "datasetInfos": [],
       "dbfsResultPath": null,
       "isJsonSchema": true,
       "metadata": {},
       "overflow": false,
       "plotOptions": {
        "customPlotOptions": {},
        "displayType": "table",
        "pivotAggregation": null,
        "pivotColumns": null,
        "xColumns": null,
        "yColumns": null
       },
       "removedWidgets": [],
       "schema": [
        {
         "metadata": "{}",
         "name": "match_id",
         "type": "\"integer\""
        },
        {
         "metadata": "{}",
         "name": "player_id",
         "type": "\"integer\""
        },
        {
         "metadata": "{}",
         "name": "player_runs_scored",
         "type": "\"integer\""
        },
        {
         "metadata": "{}",
         "name": "player_wickets_taken",
         "type": "\"integer\""
        },
        {
         "metadata": "{}",
         "name": "ball_taken",
         "type": "\"integer\""
        },
        {
         "metadata": "{}",
         "name": "ingestion_date",
         "type": "\"date\""
        },
        {
         "metadata": "{}",
         "name": "source_file",
         "type": "\"string\""
        }
       ],
       "type": "table"
      }
     },
     "output_type": "display_data"
    }
   ],
   "source": [
    "df_player_performance_cleaned.display()"
   ]
  },
  {
   "cell_type": "code",
   "execution_count": 0,
   "metadata": {
    "application/vnd.databricks.v1+cell": {
     "cellMetadata": {
      "byteLimit": 2048000,
      "rowLimit": 10000
     },
     "inputWidgets": {},
     "nuid": "580c9148-9ea5-42f7-9033-87f115c02077",
     "showTitle": false,
     "tableResultSettingsMap": {},
     "title": ""
    }
   },
   "outputs": [
    {
     "output_type": "display_data",
     "data": {
      "text/html": [
       "<style scoped>\n",
       "  .table-result-container {\n",
       "    max-height: 300px;\n",
       "    overflow: auto;\n",
       "  }\n",
       "  table, th, td {\n",
       "    border: 1px solid black;\n",
       "    border-collapse: collapse;\n",
       "  }\n",
       "  th, td {\n",
       "    padding: 5px;\n",
       "  }\n",
       "  th {\n",
       "    text-align: left;\n",
       "  }\n",
       "</style><div class='table-result-container'><table class='table-result'><thead style='background-color: white'><tr><th>player_id</th><th>player_name</th><th>team_id</th><th>player_role</th><th>ingestion_date</th><th>source_file</th></tr></thead><tbody><tr><td>101</td><td>Thomas Mendez</td><td>1</td><td>All-rounder</td><td>2025-04-05</td><td>player_team.csv</td></tr><tr><td>102</td><td>Laurie Brooks</td><td>5</td><td>Batsman</td><td>2025-04-05</td><td>player_team.csv</td></tr><tr><td>103</td><td>Warren Morgan</td><td>5</td><td>All-rounder</td><td>2025-04-05</td><td>player_team.csv</td></tr><tr><td>104</td><td>Amber Bell</td><td>2</td><td>Bowler</td><td>2025-04-05</td><td>player_team.csv</td></tr><tr><td>105</td><td>Shawn Bowers</td><td>1</td><td>Batsman</td><td>2025-04-05</td><td>player_team.csv</td></tr><tr><td>106</td><td>null</td><td>2</td><td>Bowler</td><td>2025-04-05</td><td>player_team.csv</td></tr><tr><td>107</td><td>Autumn Chang</td><td>3</td><td>All-rounder</td><td>2025-04-05</td><td>player_team.csv</td></tr><tr><td>108</td><td>Jared Knox</td><td>2</td><td>Bowler</td><td>2025-04-05</td><td>player_team.csv</td></tr><tr><td>109</td><td>Kevin Conrad</td><td>2</td><td>Bowler</td><td>2025-04-05</td><td>player_team.csv</td></tr><tr><td>110</td><td>Alan Padilla</td><td>4</td><td>All-rounder</td><td>2025-04-05</td><td>player_team.csv</td></tr><tr><td>111</td><td>Tim Powers</td><td>4</td><td>null</td><td>2025-04-05</td><td>player_team.csv</td></tr><tr><td>112</td><td>Brian Berry</td><td>3</td><td>Bowler</td><td>2025-04-05</td><td>player_team.csv</td></tr><tr><td>113</td><td>Joseph Meadows</td><td>5</td><td>Batsman</td><td>2025-04-05</td><td>player_team.csv</td></tr><tr><td>114</td><td>Joshua Baird</td><td>2</td><td>Bowler</td><td>2025-04-05</td><td>player_team.csv</td></tr><tr><td>115</td><td>Breanna Jackson</td><td>4</td><td>All-rounder</td><td>2025-04-05</td><td>player_team.csv</td></tr><tr><td>116</td><td>Bruce Morales</td><td>1</td><td>All-rounder</td><td>2025-04-05</td><td>player_team.csv</td></tr><tr><td>117</td><td>Craig Daniels</td><td>5</td><td>All-rounder</td><td>2025-04-05</td><td>player_team.csv</td></tr><tr><td>118</td><td>Michael Martinez</td><td>3</td><td>All-rounder</td><td>2025-04-05</td><td>player_team.csv</td></tr><tr><td>119</td><td>Brooke Jenkins</td><td>5</td><td>All-rounder</td><td>2025-04-05</td><td>player_team.csv</td></tr><tr><td>120</td><td>Justin White</td><td>1</td><td>Batsman</td><td>2025-04-05</td><td>player_team.csv</td></tr></tbody></table></div>"
      ]
     },
     "metadata": {
      "application/vnd.databricks.v1+output": {
       "addedWidgets": {},
       "aggData": [],
       "aggError": "",
       "aggOverflow": false,
       "aggSchema": [],
       "aggSeriesLimitReached": false,
       "aggType": "",
       "arguments": {},
       "columnCustomDisplayInfos": {},
       "data": [
        [
         101,
         "Thomas Mendez",
         1,
         "All-rounder",
         "2025-04-05",
         "player_team.csv"
        ],
        [
         102,
         "Laurie Brooks",
         5,
         "Batsman",
         "2025-04-05",
         "player_team.csv"
        ],
        [
         103,
         "Warren Morgan",
         5,
         "All-rounder",
         "2025-04-05",
         "player_team.csv"
        ],
        [
         104,
         "Amber Bell",
         2,
         "Bowler",
         "2025-04-05",
         "player_team.csv"
        ],
        [
         105,
         "Shawn Bowers",
         1,
         "Batsman",
         "2025-04-05",
         "player_team.csv"
        ],
        [
         106,
         null,
         2,
         "Bowler",
         "2025-04-05",
         "player_team.csv"
        ],
        [
         107,
         "Autumn Chang",
         3,
         "All-rounder",
         "2025-04-05",
         "player_team.csv"
        ],
        [
         108,
         "Jared Knox",
         2,
         "Bowler",
         "2025-04-05",
         "player_team.csv"
        ],
        [
         109,
         "Kevin Conrad",
         2,
         "Bowler",
         "2025-04-05",
         "player_team.csv"
        ],
        [
         110,
         "Alan Padilla",
         4,
         "All-rounder",
         "2025-04-05",
         "player_team.csv"
        ],
        [
         111,
         "Tim Powers",
         4,
         null,
         "2025-04-05",
         "player_team.csv"
        ],
        [
         112,
         "Brian Berry",
         3,
         "Bowler",
         "2025-04-05",
         "player_team.csv"
        ],
        [
         113,
         "Joseph Meadows",
         5,
         "Batsman",
         "2025-04-05",
         "player_team.csv"
        ],
        [
         114,
         "Joshua Baird",
         2,
         "Bowler",
         "2025-04-05",
         "player_team.csv"
        ],
        [
         115,
         "Breanna Jackson",
         4,
         "All-rounder",
         "2025-04-05",
         "player_team.csv"
        ],
        [
         116,
         "Bruce Morales",
         1,
         "All-rounder",
         "2025-04-05",
         "player_team.csv"
        ],
        [
         117,
         "Craig Daniels",
         5,
         "All-rounder",
         "2025-04-05",
         "player_team.csv"
        ],
        [
         118,
         "Michael Martinez",
         3,
         "All-rounder",
         "2025-04-05",
         "player_team.csv"
        ],
        [
         119,
         "Brooke Jenkins",
         5,
         "All-rounder",
         "2025-04-05",
         "player_team.csv"
        ],
        [
         120,
         "Justin White",
         1,
         "Batsman",
         "2025-04-05",
         "player_team.csv"
        ]
       ],
       "datasetInfos": [],
       "dbfsResultPath": null,
       "isJsonSchema": true,
       "metadata": {},
       "overflow": false,
       "plotOptions": {
        "customPlotOptions": {},
        "displayType": "table",
        "pivotAggregation": null,
        "pivotColumns": null,
        "xColumns": null,
        "yColumns": null
       },
       "removedWidgets": [],
       "schema": [
        {
         "metadata": "{}",
         "name": "player_id",
         "type": "\"integer\""
        },
        {
         "metadata": "{}",
         "name": "player_name",
         "type": "\"string\""
        },
        {
         "metadata": "{}",
         "name": "team_id",
         "type": "\"integer\""
        },
        {
         "metadata": "{}",
         "name": "player_role",
         "type": "\"string\""
        },
        {
         "metadata": "{}",
         "name": "ingestion_date",
         "type": "\"date\""
        },
        {
         "metadata": "{}",
         "name": "source_file",
         "type": "\"string\""
        }
       ],
       "type": "table"
      }
     },
     "output_type": "display_data"
    }
   ],
   "source": [
    "df_player_team.display()"
   ]
  },
  {
   "cell_type": "code",
   "execution_count": 0,
   "metadata": {
    "application/vnd.databricks.v1+cell": {
     "cellMetadata": {
      "byteLimit": 2048000,
      "rowLimit": 10000
     },
     "inputWidgets": {},
     "nuid": "2a7099ae-ee1c-450c-8c67-b50e68a6471a",
     "showTitle": false,
     "tableResultSettingsMap": {},
     "title": ""
    }
   },
   "outputs": [],
   "source": [
    "df_player_team_cleaned = df_player_team.dropna(subset=['player_id', 'team_id']).fillna({'player_name': 'Unknown', 'player_role': 'Unknown'}).withColumnRenamed('team_id', 'player_team_id')"
   ]
  },
  {
   "cell_type": "code",
   "execution_count": 0,
   "metadata": {
    "application/vnd.databricks.v1+cell": {
     "cellMetadata": {
      "byteLimit": 2048000,
      "rowLimit": 10000
     },
     "inputWidgets": {},
     "nuid": "d6522c06-e6b8-4bf0-a496-6ab1af6c0f1f",
     "showTitle": false,
     "tableResultSettingsMap": {},
     "title": ""
    }
   },
   "outputs": [
    {
     "output_type": "display_data",
     "data": {
      "text/html": [
       "<style scoped>\n",
       "  .table-result-container {\n",
       "    max-height: 300px;\n",
       "    overflow: auto;\n",
       "  }\n",
       "  table, th, td {\n",
       "    border: 1px solid black;\n",
       "    border-collapse: collapse;\n",
       "  }\n",
       "  th, td {\n",
       "    padding: 5px;\n",
       "  }\n",
       "  th {\n",
       "    text-align: left;\n",
       "  }\n",
       "</style><div class='table-result-container'><table class='table-result'><thead style='background-color: white'><tr><th>player_id</th><th>player_name</th><th>player_team_id</th><th>player_role</th><th>ingestion_date</th><th>source_file</th></tr></thead><tbody><tr><td>101</td><td>Thomas Mendez</td><td>1</td><td>All-rounder</td><td>2025-04-05</td><td>player_team.csv</td></tr><tr><td>102</td><td>Laurie Brooks</td><td>5</td><td>Batsman</td><td>2025-04-05</td><td>player_team.csv</td></tr><tr><td>103</td><td>Warren Morgan</td><td>5</td><td>All-rounder</td><td>2025-04-05</td><td>player_team.csv</td></tr><tr><td>104</td><td>Amber Bell</td><td>2</td><td>Bowler</td><td>2025-04-05</td><td>player_team.csv</td></tr><tr><td>105</td><td>Shawn Bowers</td><td>1</td><td>Batsman</td><td>2025-04-05</td><td>player_team.csv</td></tr><tr><td>106</td><td>Unknown</td><td>2</td><td>Bowler</td><td>2025-04-05</td><td>player_team.csv</td></tr><tr><td>107</td><td>Autumn Chang</td><td>3</td><td>All-rounder</td><td>2025-04-05</td><td>player_team.csv</td></tr><tr><td>108</td><td>Jared Knox</td><td>2</td><td>Bowler</td><td>2025-04-05</td><td>player_team.csv</td></tr><tr><td>109</td><td>Kevin Conrad</td><td>2</td><td>Bowler</td><td>2025-04-05</td><td>player_team.csv</td></tr><tr><td>110</td><td>Alan Padilla</td><td>4</td><td>All-rounder</td><td>2025-04-05</td><td>player_team.csv</td></tr><tr><td>111</td><td>Tim Powers</td><td>4</td><td>Unknown</td><td>2025-04-05</td><td>player_team.csv</td></tr><tr><td>112</td><td>Brian Berry</td><td>3</td><td>Bowler</td><td>2025-04-05</td><td>player_team.csv</td></tr><tr><td>113</td><td>Joseph Meadows</td><td>5</td><td>Batsman</td><td>2025-04-05</td><td>player_team.csv</td></tr><tr><td>114</td><td>Joshua Baird</td><td>2</td><td>Bowler</td><td>2025-04-05</td><td>player_team.csv</td></tr><tr><td>115</td><td>Breanna Jackson</td><td>4</td><td>All-rounder</td><td>2025-04-05</td><td>player_team.csv</td></tr><tr><td>116</td><td>Bruce Morales</td><td>1</td><td>All-rounder</td><td>2025-04-05</td><td>player_team.csv</td></tr><tr><td>117</td><td>Craig Daniels</td><td>5</td><td>All-rounder</td><td>2025-04-05</td><td>player_team.csv</td></tr><tr><td>118</td><td>Michael Martinez</td><td>3</td><td>All-rounder</td><td>2025-04-05</td><td>player_team.csv</td></tr><tr><td>119</td><td>Brooke Jenkins</td><td>5</td><td>All-rounder</td><td>2025-04-05</td><td>player_team.csv</td></tr><tr><td>120</td><td>Justin White</td><td>1</td><td>Batsman</td><td>2025-04-05</td><td>player_team.csv</td></tr></tbody></table></div>"
      ]
     },
     "metadata": {
      "application/vnd.databricks.v1+output": {
       "addedWidgets": {},
       "aggData": [],
       "aggError": "",
       "aggOverflow": false,
       "aggSchema": [],
       "aggSeriesLimitReached": false,
       "aggType": "",
       "arguments": {},
       "columnCustomDisplayInfos": {},
       "data": [
        [
         101,
         "Thomas Mendez",
         1,
         "All-rounder",
         "2025-04-05",
         "player_team.csv"
        ],
        [
         102,
         "Laurie Brooks",
         5,
         "Batsman",
         "2025-04-05",
         "player_team.csv"
        ],
        [
         103,
         "Warren Morgan",
         5,
         "All-rounder",
         "2025-04-05",
         "player_team.csv"
        ],
        [
         104,
         "Amber Bell",
         2,
         "Bowler",
         "2025-04-05",
         "player_team.csv"
        ],
        [
         105,
         "Shawn Bowers",
         1,
         "Batsman",
         "2025-04-05",
         "player_team.csv"
        ],
        [
         106,
         "Unknown",
         2,
         "Bowler",
         "2025-04-05",
         "player_team.csv"
        ],
        [
         107,
         "Autumn Chang",
         3,
         "All-rounder",
         "2025-04-05",
         "player_team.csv"
        ],
        [
         108,
         "Jared Knox",
         2,
         "Bowler",
         "2025-04-05",
         "player_team.csv"
        ],
        [
         109,
         "Kevin Conrad",
         2,
         "Bowler",
         "2025-04-05",
         "player_team.csv"
        ],
        [
         110,
         "Alan Padilla",
         4,
         "All-rounder",
         "2025-04-05",
         "player_team.csv"
        ],
        [
         111,
         "Tim Powers",
         4,
         "Unknown",
         "2025-04-05",
         "player_team.csv"
        ],
        [
         112,
         "Brian Berry",
         3,
         "Bowler",
         "2025-04-05",
         "player_team.csv"
        ],
        [
         113,
         "Joseph Meadows",
         5,
         "Batsman",
         "2025-04-05",
         "player_team.csv"
        ],
        [
         114,
         "Joshua Baird",
         2,
         "Bowler",
         "2025-04-05",
         "player_team.csv"
        ],
        [
         115,
         "Breanna Jackson",
         4,
         "All-rounder",
         "2025-04-05",
         "player_team.csv"
        ],
        [
         116,
         "Bruce Morales",
         1,
         "All-rounder",
         "2025-04-05",
         "player_team.csv"
        ],
        [
         117,
         "Craig Daniels",
         5,
         "All-rounder",
         "2025-04-05",
         "player_team.csv"
        ],
        [
         118,
         "Michael Martinez",
         3,
         "All-rounder",
         "2025-04-05",
         "player_team.csv"
        ],
        [
         119,
         "Brooke Jenkins",
         5,
         "All-rounder",
         "2025-04-05",
         "player_team.csv"
        ],
        [
         120,
         "Justin White",
         1,
         "Batsman",
         "2025-04-05",
         "player_team.csv"
        ]
       ],
       "datasetInfos": [],
       "dbfsResultPath": null,
       "isJsonSchema": true,
       "metadata": {},
       "overflow": false,
       "plotOptions": {
        "customPlotOptions": {},
        "displayType": "table",
        "pivotAggregation": null,
        "pivotColumns": null,
        "xColumns": null,
        "yColumns": null
       },
       "removedWidgets": [],
       "schema": [
        {
         "metadata": "{}",
         "name": "player_id",
         "type": "\"integer\""
        },
        {
         "metadata": "{}",
         "name": "player_name",
         "type": "\"string\""
        },
        {
         "metadata": "{}",
         "name": "player_team_id",
         "type": "\"integer\""
        },
        {
         "metadata": "{}",
         "name": "player_role",
         "type": "\"string\""
        },
        {
         "metadata": "{}",
         "name": "ingestion_date",
         "type": "\"date\""
        },
        {
         "metadata": "{}",
         "name": "source_file",
         "type": "\"string\""
        }
       ],
       "type": "table"
      }
     },
     "output_type": "display_data"
    }
   ],
   "source": [
    "df_player_team_cleaned.display()"
   ]
  },
  {
   "cell_type": "code",
   "execution_count": 0,
   "metadata": {
    "application/vnd.databricks.v1+cell": {
     "cellMetadata": {
      "byteLimit": 2048000,
      "rowLimit": 10000
     },
     "inputWidgets": {},
     "nuid": "168169be-83c5-48f3-a4df-38966aa43d35",
     "showTitle": false,
     "tableResultSettingsMap": {},
     "title": ""
    }
   },
   "outputs": [
    {
     "output_type": "display_data",
     "data": {
      "text/html": [
       "<style scoped>\n",
       "  .table-result-container {\n",
       "    max-height: 300px;\n",
       "    overflow: auto;\n",
       "  }\n",
       "  table, th, td {\n",
       "    border: 1px solid black;\n",
       "    border-collapse: collapse;\n",
       "  }\n",
       "  th, td {\n",
       "    padding: 5px;\n",
       "  }\n",
       "  th {\n",
       "    text-align: left;\n",
       "  }\n",
       "</style><div class='table-result-container'><table class='table-result'><thead style='background-color: white'><tr><th>stadium_id</th><th>stadium_name</th><th>city</th><th>capacity</th><th>ingestion_date</th><th>source_file</th></tr></thead><tbody><tr><td>301</td><td>Wankhede Stadium</td><td>Mumbai</td><td>33108</td><td>2025-04-05</td><td>stadium.csv</td></tr><tr><td>302</td><td>M. A. Chidambaram Stadium</td><td>Chennai</td><td>null</td><td>2025-04-05</td><td>stadium.csv</td></tr><tr><td>303</td><td>Arun Jaitley Stadium</td><td>Delhi</td><td>41820</td><td>2025-04-05</td><td>stadium.csv</td></tr><tr><td>304</td><td>Eden Gardens</td><td>Kolkata</td><td>66000</td><td>2025-04-05</td><td>stadium.csv</td></tr><tr><td>305</td><td>Rajiv Gandhi Intl. Cricket Stadium</td><td>null</td><td>55000</td><td>2025-04-05</td><td>stadium.csv</td></tr></tbody></table></div>"
      ]
     },
     "metadata": {
      "application/vnd.databricks.v1+output": {
       "addedWidgets": {},
       "aggData": [],
       "aggError": "",
       "aggOverflow": false,
       "aggSchema": [],
       "aggSeriesLimitReached": false,
       "aggType": "",
       "arguments": {},
       "columnCustomDisplayInfos": {},
       "data": [
        [
         301,
         "Wankhede Stadium",
         "Mumbai",
         33108,
         "2025-04-05",
         "stadium.csv"
        ],
        [
         302,
         "M. A. Chidambaram Stadium",
         "Chennai",
         null,
         "2025-04-05",
         "stadium.csv"
        ],
        [
         303,
         "Arun Jaitley Stadium",
         "Delhi",
         41820,
         "2025-04-05",
         "stadium.csv"
        ],
        [
         304,
         "Eden Gardens",
         "Kolkata",
         66000,
         "2025-04-05",
         "stadium.csv"
        ],
        [
         305,
         "Rajiv Gandhi Intl. Cricket Stadium",
         null,
         55000,
         "2025-04-05",
         "stadium.csv"
        ]
       ],
       "datasetInfos": [],
       "dbfsResultPath": null,
       "isJsonSchema": true,
       "metadata": {},
       "overflow": false,
       "plotOptions": {
        "customPlotOptions": {},
        "displayType": "table",
        "pivotAggregation": null,
        "pivotColumns": null,
        "xColumns": null,
        "yColumns": null
       },
       "removedWidgets": [],
       "schema": [
        {
         "metadata": "{}",
         "name": "stadium_id",
         "type": "\"integer\""
        },
        {
         "metadata": "{}",
         "name": "stadium_name",
         "type": "\"string\""
        },
        {
         "metadata": "{}",
         "name": "city",
         "type": "\"string\""
        },
        {
         "metadata": "{}",
         "name": "capacity",
         "type": "\"integer\""
        },
        {
         "metadata": "{}",
         "name": "ingestion_date",
         "type": "\"date\""
        },
        {
         "metadata": "{}",
         "name": "source_file",
         "type": "\"string\""
        }
       ],
       "type": "table"
      }
     },
     "output_type": "display_data"
    }
   ],
   "source": [
    "df_stadium.display()"
   ]
  },
  {
   "cell_type": "code",
   "execution_count": 0,
   "metadata": {
    "application/vnd.databricks.v1+cell": {
     "cellMetadata": {
      "byteLimit": 2048000,
      "rowLimit": 10000
     },
     "inputWidgets": {},
     "nuid": "daa4c59c-1222-4695-8c12-e4e0014bd12c",
     "showTitle": false,
     "tableResultSettingsMap": {},
     "title": ""
    }
   },
   "outputs": [],
   "source": [
    "from pyspark.sql.functions import when, col\n",
    "\n",
    "df_stadium_cleaned = (\n",
    "    df_stadium\n",
    "    .dropna(subset=['stadium_id'])  # Remove rows where stadium_id is NULL\n",
    "    .fillna({'stadium_name': 'Unknown', 'city': 'Unknown', 'capacity': 30000})  # Fill missing values\n",
    "    .withColumn(\n",
    "        \"city\",\n",
    "        when(col(\"stadium_name\") == \"Rajiv Gandhi Intl. Cricket Stadium\", \"Hyderabad\")\n",
    "        .otherwise(col(\"city\"))  # Use col() instead of df_stadium['city']\n",
    "    )\n",
    ")"
   ]
  },
  {
   "cell_type": "code",
   "execution_count": 0,
   "metadata": {
    "application/vnd.databricks.v1+cell": {
     "cellMetadata": {
      "byteLimit": 2048000,
      "rowLimit": 10000
     },
     "inputWidgets": {},
     "nuid": "31b79e61-bc44-4d2a-8259-93f2eca24e1e",
     "showTitle": false,
     "tableResultSettingsMap": {},
     "title": ""
    }
   },
   "outputs": [
    {
     "output_type": "display_data",
     "data": {
      "text/html": [
       "<style scoped>\n",
       "  .table-result-container {\n",
       "    max-height: 300px;\n",
       "    overflow: auto;\n",
       "  }\n",
       "  table, th, td {\n",
       "    border: 1px solid black;\n",
       "    border-collapse: collapse;\n",
       "  }\n",
       "  th, td {\n",
       "    padding: 5px;\n",
       "  }\n",
       "  th {\n",
       "    text-align: left;\n",
       "  }\n",
       "</style><div class='table-result-container'><table class='table-result'><thead style='background-color: white'><tr><th>stadium_id</th><th>stadium_name</th><th>city</th><th>capacity</th><th>ingestion_date</th><th>source_file</th></tr></thead><tbody><tr><td>301</td><td>Wankhede Stadium</td><td>Mumbai</td><td>33108</td><td>2025-04-05</td><td>stadium.csv</td></tr><tr><td>302</td><td>M. A. Chidambaram Stadium</td><td>Chennai</td><td>30000</td><td>2025-04-05</td><td>stadium.csv</td></tr><tr><td>303</td><td>Arun Jaitley Stadium</td><td>Delhi</td><td>41820</td><td>2025-04-05</td><td>stadium.csv</td></tr><tr><td>304</td><td>Eden Gardens</td><td>Kolkata</td><td>66000</td><td>2025-04-05</td><td>stadium.csv</td></tr><tr><td>305</td><td>Rajiv Gandhi Intl. Cricket Stadium</td><td>Hyderabad</td><td>55000</td><td>2025-04-05</td><td>stadium.csv</td></tr></tbody></table></div>"
      ]
     },
     "metadata": {
      "application/vnd.databricks.v1+output": {
       "addedWidgets": {},
       "aggData": [],
       "aggError": "",
       "aggOverflow": false,
       "aggSchema": [],
       "aggSeriesLimitReached": false,
       "aggType": "",
       "arguments": {},
       "columnCustomDisplayInfos": {},
       "data": [
        [
         301,
         "Wankhede Stadium",
         "Mumbai",
         33108,
         "2025-04-05",
         "stadium.csv"
        ],
        [
         302,
         "M. A. Chidambaram Stadium",
         "Chennai",
         30000,
         "2025-04-05",
         "stadium.csv"
        ],
        [
         303,
         "Arun Jaitley Stadium",
         "Delhi",
         41820,
         "2025-04-05",
         "stadium.csv"
        ],
        [
         304,
         "Eden Gardens",
         "Kolkata",
         66000,
         "2025-04-05",
         "stadium.csv"
        ],
        [
         305,
         "Rajiv Gandhi Intl. Cricket Stadium",
         "Hyderabad",
         55000,
         "2025-04-05",
         "stadium.csv"
        ]
       ],
       "datasetInfos": [],
       "dbfsResultPath": null,
       "isJsonSchema": true,
       "metadata": {},
       "overflow": false,
       "plotOptions": {
        "customPlotOptions": {},
        "displayType": "table",
        "pivotAggregation": null,
        "pivotColumns": null,
        "xColumns": null,
        "yColumns": null
       },
       "removedWidgets": [],
       "schema": [
        {
         "metadata": "{}",
         "name": "stadium_id",
         "type": "\"integer\""
        },
        {
         "metadata": "{}",
         "name": "stadium_name",
         "type": "\"string\""
        },
        {
         "metadata": "{}",
         "name": "city",
         "type": "\"string\""
        },
        {
         "metadata": "{}",
         "name": "capacity",
         "type": "\"integer\""
        },
        {
         "metadata": "{}",
         "name": "ingestion_date",
         "type": "\"date\""
        },
        {
         "metadata": "{}",
         "name": "source_file",
         "type": "\"string\""
        }
       ],
       "type": "table"
      }
     },
     "output_type": "display_data"
    }
   ],
   "source": [
    "df_stadium_cleaned.display()"
   ]
  },
  {
   "cell_type": "code",
   "execution_count": 0,
   "metadata": {
    "application/vnd.databricks.v1+cell": {
     "cellMetadata": {
      "byteLimit": 2048000,
      "rowLimit": 10000
     },
     "inputWidgets": {},
     "nuid": "e80e273f-bbbc-4fd2-bee3-a8fb85dbc1c4",
     "showTitle": false,
     "tableResultSettingsMap": {},
     "title": ""
    }
   },
   "outputs": [
    {
     "output_type": "display_data",
     "data": {
      "text/html": [
       "<style scoped>\n",
       "  .table-result-container {\n",
       "    max-height: 300px;\n",
       "    overflow: auto;\n",
       "  }\n",
       "  table, th, td {\n",
       "    border: 1px solid black;\n",
       "    border-collapse: collapse;\n",
       "  }\n",
       "  th, td {\n",
       "    padding: 5px;\n",
       "  }\n",
       "  th {\n",
       "    text-align: left;\n",
       "  }\n",
       "</style><div class='table-result-container'><table class='table-result'><thead style='background-color: white'><tr><th>team_id</th><th>team_name</th><th>home_ground</th><th>captain</th><th>ingestion_date</th><th>source_file</th></tr></thead><tbody><tr><td>1</td><td>Mumbai Indians</td><td>Wankhede Stadium</td><td>Rohit Sharma</td><td>2025-04-05</td><td>team.csv</td></tr><tr><td>2</td><td>Chennai Super Kings</td><td>M. A. Chidambaram Stadium</td><td>MS Dhoni</td><td>2025-04-05</td><td>team.csv</td></tr><tr><td>3</td><td>Delhi Capitals</td><td>null</td><td>Rishabh Pant</td><td>2025-04-05</td><td>team.csv</td></tr><tr><td>4</td><td>Kolkata Knight Riders</td><td>Eden Gardens</td><td>Shreyas Iyer</td><td>2025-04-05</td><td>team.csv</td></tr><tr><td>5</td><td>Sunrisers Hyderabad</td><td>Rajiv Gandhi Intl. Cricket Stadium</td><td>null</td><td>2025-04-05</td><td>team.csv</td></tr></tbody></table></div>"
      ]
     },
     "metadata": {
      "application/vnd.databricks.v1+output": {
       "addedWidgets": {},
       "aggData": [],
       "aggError": "",
       "aggOverflow": false,
       "aggSchema": [],
       "aggSeriesLimitReached": false,
       "aggType": "",
       "arguments": {},
       "columnCustomDisplayInfos": {},
       "data": [
        [
         1,
         "Mumbai Indians",
         "Wankhede Stadium",
         "Rohit Sharma",
         "2025-04-05",
         "team.csv"
        ],
        [
         2,
         "Chennai Super Kings",
         "M. A. Chidambaram Stadium",
         "MS Dhoni",
         "2025-04-05",
         "team.csv"
        ],
        [
         3,
         "Delhi Capitals",
         null,
         "Rishabh Pant",
         "2025-04-05",
         "team.csv"
        ],
        [
         4,
         "Kolkata Knight Riders",
         "Eden Gardens",
         "Shreyas Iyer",
         "2025-04-05",
         "team.csv"
        ],
        [
         5,
         "Sunrisers Hyderabad",
         "Rajiv Gandhi Intl. Cricket Stadium",
         null,
         "2025-04-05",
         "team.csv"
        ]
       ],
       "datasetInfos": [],
       "dbfsResultPath": null,
       "isJsonSchema": true,
       "metadata": {},
       "overflow": false,
       "plotOptions": {
        "customPlotOptions": {},
        "displayType": "table",
        "pivotAggregation": null,
        "pivotColumns": null,
        "xColumns": null,
        "yColumns": null
       },
       "removedWidgets": [],
       "schema": [
        {
         "metadata": "{}",
         "name": "team_id",
         "type": "\"integer\""
        },
        {
         "metadata": "{}",
         "name": "team_name",
         "type": "\"string\""
        },
        {
         "metadata": "{}",
         "name": "home_ground",
         "type": "\"string\""
        },
        {
         "metadata": "{}",
         "name": "captain",
         "type": "\"string\""
        },
        {
         "metadata": "{}",
         "name": "ingestion_date",
         "type": "\"date\""
        },
        {
         "metadata": "{}",
         "name": "source_file",
         "type": "\"string\""
        }
       ],
       "type": "table"
      }
     },
     "output_type": "display_data"
    }
   ],
   "source": [
    "df_team.display()"
   ]
  },
  {
   "cell_type": "code",
   "execution_count": 0,
   "metadata": {
    "application/vnd.databricks.v1+cell": {
     "cellMetadata": {
      "byteLimit": 2048000,
      "rowLimit": 10000
     },
     "inputWidgets": {},
     "nuid": "9f3745e4-63b7-409c-9fa8-45c8e6353d44",
     "showTitle": false,
     "tableResultSettingsMap": {},
     "title": ""
    }
   },
   "outputs": [],
   "source": [
    "%python\n",
    "from pyspark.sql.functions import col, when\n",
    "\n",
    "df_team_cleaned = (\n",
    "    df_team\n",
    "    .dropna(subset=['team_id'])  # Remove rows where team_id is NULL\n",
    "    .fillna({'captain': 'Unknown'})  # Fill missing values\n",
    "    .withColumn(\n",
    "        \"home_ground\",\n",
    "        when(col(\"team_name\") == \"Delhi Capitals\", \"Arun Jaitley Stadium\")\n",
    "        .otherwise(col(\"home_ground\"))  # Use col() instead of df_stadium\n",
    "    )\n",
    ")"
   ]
  },
  {
   "cell_type": "code",
   "execution_count": 0,
   "metadata": {
    "application/vnd.databricks.v1+cell": {
     "cellMetadata": {
      "byteLimit": 2048000,
      "rowLimit": 10000
     },
     "inputWidgets": {},
     "nuid": "9e8ed2ca-813f-4f46-be2a-3ee034801eab",
     "showTitle": false,
     "tableResultSettingsMap": {},
     "title": ""
    }
   },
   "outputs": [
    {
     "output_type": "display_data",
     "data": {
      "text/html": [
       "<style scoped>\n",
       "  .table-result-container {\n",
       "    max-height: 300px;\n",
       "    overflow: auto;\n",
       "  }\n",
       "  table, th, td {\n",
       "    border: 1px solid black;\n",
       "    border-collapse: collapse;\n",
       "  }\n",
       "  th, td {\n",
       "    padding: 5px;\n",
       "  }\n",
       "  th {\n",
       "    text-align: left;\n",
       "  }\n",
       "</style><div class='table-result-container'><table class='table-result'><thead style='background-color: white'><tr><th>team_id</th><th>team_name</th><th>home_ground</th><th>captain</th><th>ingestion_date</th><th>source_file</th></tr></thead><tbody><tr><td>1</td><td>Mumbai Indians</td><td>Wankhede Stadium</td><td>Rohit Sharma</td><td>2025-04-05</td><td>team.csv</td></tr><tr><td>2</td><td>Chennai Super Kings</td><td>M. A. Chidambaram Stadium</td><td>MS Dhoni</td><td>2025-04-05</td><td>team.csv</td></tr><tr><td>3</td><td>Delhi Capitals</td><td>Arun Jaitley Stadium</td><td>Rishabh Pant</td><td>2025-04-05</td><td>team.csv</td></tr><tr><td>4</td><td>Kolkata Knight Riders</td><td>Eden Gardens</td><td>Shreyas Iyer</td><td>2025-04-05</td><td>team.csv</td></tr><tr><td>5</td><td>Sunrisers Hyderabad</td><td>Rajiv Gandhi Intl. Cricket Stadium</td><td>Unknown</td><td>2025-04-05</td><td>team.csv</td></tr></tbody></table></div>"
      ]
     },
     "metadata": {
      "application/vnd.databricks.v1+output": {
       "addedWidgets": {},
       "aggData": [],
       "aggError": "",
       "aggOverflow": false,
       "aggSchema": [],
       "aggSeriesLimitReached": false,
       "aggType": "",
       "arguments": {},
       "columnCustomDisplayInfos": {},
       "data": [
        [
         1,
         "Mumbai Indians",
         "Wankhede Stadium",
         "Rohit Sharma",
         "2025-04-05",
         "team.csv"
        ],
        [
         2,
         "Chennai Super Kings",
         "M. A. Chidambaram Stadium",
         "MS Dhoni",
         "2025-04-05",
         "team.csv"
        ],
        [
         3,
         "Delhi Capitals",
         "Arun Jaitley Stadium",
         "Rishabh Pant",
         "2025-04-05",
         "team.csv"
        ],
        [
         4,
         "Kolkata Knight Riders",
         "Eden Gardens",
         "Shreyas Iyer",
         "2025-04-05",
         "team.csv"
        ],
        [
         5,
         "Sunrisers Hyderabad",
         "Rajiv Gandhi Intl. Cricket Stadium",
         "Unknown",
         "2025-04-05",
         "team.csv"
        ]
       ],
       "datasetInfos": [],
       "dbfsResultPath": null,
       "isJsonSchema": true,
       "metadata": {},
       "overflow": false,
       "plotOptions": {
        "customPlotOptions": {},
        "displayType": "table",
        "pivotAggregation": null,
        "pivotColumns": null,
        "xColumns": null,
        "yColumns": null
       },
       "removedWidgets": [],
       "schema": [
        {
         "metadata": "{}",
         "name": "team_id",
         "type": "\"integer\""
        },
        {
         "metadata": "{}",
         "name": "team_name",
         "type": "\"string\""
        },
        {
         "metadata": "{}",
         "name": "home_ground",
         "type": "\"string\""
        },
        {
         "metadata": "{}",
         "name": "captain",
         "type": "\"string\""
        },
        {
         "metadata": "{}",
         "name": "ingestion_date",
         "type": "\"date\""
        },
        {
         "metadata": "{}",
         "name": "source_file",
         "type": "\"string\""
        }
       ],
       "type": "table"
      }
     },
     "output_type": "display_data"
    }
   ],
   "source": [
    "display(df_team_cleaned)"
   ]
  },
  {
   "cell_type": "code",
   "execution_count": 0,
   "metadata": {
    "application/vnd.databricks.v1+cell": {
     "cellMetadata": {
      "byteLimit": 2048000,
      "rowLimit": 10000
     },
     "inputWidgets": {},
     "nuid": "9ad82374-de95-434a-b7b4-8d9c831718f0",
     "showTitle": false,
     "tableResultSettingsMap": {},
     "title": ""
    }
   },
   "outputs": [],
   "source": [
    "df_join = df_player_performance_cleaned.join(df_match_performance_cleaned, df_match_performance_cleaned.match_performance_match_id == df_player_performance_cleaned.match_id, how='inner')\\\n",
    "        .withColumn('Process_Date', current_timestamp())"
   ]
  },
  {
   "cell_type": "code",
   "execution_count": 0,
   "metadata": {
    "application/vnd.databricks.v1+cell": {
     "cellMetadata": {
      "byteLimit": 2048000,
      "rowLimit": 10000
     },
     "inputWidgets": {},
     "nuid": "47273ce9-a039-4141-9c77-518baf02e91f",
     "showTitle": false,
     "tableResultSettingsMap": {},
     "title": ""
    }
   },
   "outputs": [],
   "source": [
    "df_join = df_join.drop('ingestion_date', 'source_file')"
   ]
  },
  {
   "cell_type": "code",
   "execution_count": 0,
   "metadata": {
    "application/vnd.databricks.v1+cell": {
     "cellMetadata": {
      "byteLimit": 2048000,
      "rowLimit": 10000
     },
     "inputWidgets": {},
     "nuid": "fd289740-21b1-48fa-b9a4-9131b74f9018",
     "showTitle": false,
     "tableResultSettingsMap": {},
     "title": ""
    }
   },
   "outputs": [
    {
     "output_type": "display_data",
     "data": {
      "text/html": [
       "<style scoped>\n",
       "  .table-result-container {\n",
       "    max-height: 300px;\n",
       "    overflow: auto;\n",
       "  }\n",
       "  table, th, td {\n",
       "    border: 1px solid black;\n",
       "    border-collapse: collapse;\n",
       "  }\n",
       "  th, td {\n",
       "    padding: 5px;\n",
       "  }\n",
       "  th {\n",
       "    text-align: left;\n",
       "  }\n",
       "</style><div class='table-result-container'><table class='table-result'><thead style='background-color: white'><tr><th>match_id</th><th>player_id</th><th>player_runs_scored</th><th>player_wickets_taken</th><th>ball_taken</th><th>match_performance_match_id</th><th>team_id</th><th>opponent_team_id</th><th>runs_scored</th><th>wickets_taken</th><th>match_result</th><th>Process_Date</th></tr></thead><tbody><tr><td>202</td><td>107</td><td>68</td><td>2</td><td>50</td><td>202</td><td>1</td><td>3</td><td>202.0</td><td>10</td><td>Loss</td><td>2025-04-05T06:16:16.232+0000</td></tr><tr><td>203</td><td>118</td><td>80</td><td>1</td><td>50</td><td>203</td><td>2</td><td>3</td><td>238.0</td><td>8</td><td>Win</td><td>2025-04-05T06:16:16.232+0000</td></tr><tr><td>204</td><td>111</td><td>38</td><td>2</td><td>50</td><td>204</td><td>4</td><td>3</td><td>0.0</td><td>9</td><td>Loss</td><td>2025-04-05T06:16:16.232+0000</td></tr><tr><td>205</td><td>115</td><td>85</td><td>0</td><td>50</td><td>205</td><td>4</td><td>3</td><td>123.0</td><td>8</td><td>Tie</td><td>2025-04-05T06:16:16.232+0000</td></tr><tr><td>207</td><td>103</td><td>29</td><td>2</td><td>50</td><td>207</td><td>5</td><td>3</td><td>211.0</td><td>5</td><td>Win</td><td>2025-04-05T06:16:16.232+0000</td></tr><tr><td>208</td><td>117</td><td>35</td><td>4</td><td>50</td><td>208</td><td>3</td><td>5</td><td>171.0</td><td>6</td><td>Cancelled</td><td>2025-04-05T06:16:16.232+0000</td></tr><tr><td>209</td><td>105</td><td>5</td><td>1</td><td>50</td><td>209</td><td>4</td><td>1</td><td>201.0</td><td>5</td><td>Tie</td><td>2025-04-05T06:16:16.232+0000</td></tr><tr><td>211</td><td>102</td><td>97</td><td>2</td><td>50</td><td>211</td><td>5</td><td>1</td><td>144.0</td><td>10</td><td>Loss</td><td>2025-04-05T06:16:16.232+0000</td></tr><tr><td>213</td><td>119</td><td>21</td><td>3</td><td>50</td><td>213</td><td>4</td><td>2</td><td>190.0</td><td>9</td><td>Loss</td><td>2025-04-05T06:16:16.232+0000</td></tr><tr><td>213</td><td>108</td><td>94</td><td>4</td><td>50</td><td>213</td><td>4</td><td>2</td><td>190.0</td><td>9</td><td>Loss</td><td>2025-04-05T06:16:16.232+0000</td></tr><tr><td>214</td><td>116</td><td>58</td><td>4</td><td>50</td><td>214</td><td>1</td><td>3</td><td>201.0</td><td>8</td><td>Win</td><td>2025-04-05T06:16:16.232+0000</td></tr><tr><td>214</td><td>101</td><td>82</td><td>2</td><td>50</td><td>214</td><td>1</td><td>3</td><td>201.0</td><td>8</td><td>Win</td><td>2025-04-05T06:16:16.232+0000</td></tr><tr><td>215</td><td>112</td><td>15</td><td>0</td><td>50</td><td>215</td><td>1</td><td>3</td><td>242.0</td><td>8</td><td>Win</td><td>2025-04-05T06:16:16.232+0000</td></tr><tr><td>215</td><td>109</td><td>93</td><td>2</td><td>50</td><td>215</td><td>1</td><td>3</td><td>242.0</td><td>8</td><td>Win</td><td>2025-04-05T06:16:16.232+0000</td></tr><tr><td>216</td><td>120</td><td>75</td><td>0</td><td>50</td><td>216</td><td>4</td><td>1</td><td>139.0</td><td>8</td><td>Win</td><td>2025-04-05T06:16:16.232+0000</td></tr><tr><td>217</td><td>113</td><td>70</td><td>1</td><td>50</td><td>217</td><td>5</td><td>4</td><td>238.0</td><td>6</td><td>Loss</td><td>2025-04-05T06:16:16.232+0000</td></tr><tr><td>218</td><td>114</td><td>81</td><td>1</td><td>50</td><td>218</td><td>2</td><td>1</td><td>190.0</td><td>5</td><td>Tie</td><td>2025-04-05T06:16:16.232+0000</td></tr><tr><td>218</td><td>106</td><td>44</td><td>1</td><td>50</td><td>218</td><td>2</td><td>1</td><td>190.0</td><td>5</td><td>Tie</td><td>2025-04-05T06:16:16.232+0000</td></tr><tr><td>218</td><td>104</td><td>14</td><td>3</td><td>50</td><td>218</td><td>2</td><td>1</td><td>190.0</td><td>5</td><td>Tie</td><td>2025-04-05T06:16:16.232+0000</td></tr><tr><td>219</td><td>110</td><td>75</td><td>3</td><td>50</td><td>219</td><td>2</td><td>3</td><td>194.0</td><td>7</td><td>Loss</td><td>2025-04-05T06:16:16.232+0000</td></tr></tbody></table></div>"
      ]
     },
     "metadata": {
      "application/vnd.databricks.v1+output": {
       "addedWidgets": {},
       "aggData": [],
       "aggError": "",
       "aggOverflow": false,
       "aggSchema": [],
       "aggSeriesLimitReached": false,
       "aggType": "",
       "arguments": {},
       "columnCustomDisplayInfos": {},
       "data": [
        [
         202,
         107,
         68,
         2,
         50,
         202,
         1,
         3,
         202.0,
         10,
         "Loss",
         "2025-04-05T06:16:16.232+0000"
        ],
        [
         203,
         118,
         80,
         1,
         50,
         203,
         2,
         3,
         238.0,
         8,
         "Win",
         "2025-04-05T06:16:16.232+0000"
        ],
        [
         204,
         111,
         38,
         2,
         50,
         204,
         4,
         3,
         0.0,
         9,
         "Loss",
         "2025-04-05T06:16:16.232+0000"
        ],
        [
         205,
         115,
         85,
         0,
         50,
         205,
         4,
         3,
         123.0,
         8,
         "Tie",
         "2025-04-05T06:16:16.232+0000"
        ],
        [
         207,
         103,
         29,
         2,
         50,
         207,
         5,
         3,
         211.0,
         5,
         "Win",
         "2025-04-05T06:16:16.232+0000"
        ],
        [
         208,
         117,
         35,
         4,
         50,
         208,
         3,
         5,
         171.0,
         6,
         "Cancelled",
         "2025-04-05T06:16:16.232+0000"
        ],
        [
         209,
         105,
         5,
         1,
         50,
         209,
         4,
         1,
         201.0,
         5,
         "Tie",
         "2025-04-05T06:16:16.232+0000"
        ],
        [
         211,
         102,
         97,
         2,
         50,
         211,
         5,
         1,
         144.0,
         10,
         "Loss",
         "2025-04-05T06:16:16.232+0000"
        ],
        [
         213,
         119,
         21,
         3,
         50,
         213,
         4,
         2,
         190.0,
         9,
         "Loss",
         "2025-04-05T06:16:16.232+0000"
        ],
        [
         213,
         108,
         94,
         4,
         50,
         213,
         4,
         2,
         190.0,
         9,
         "Loss",
         "2025-04-05T06:16:16.232+0000"
        ],
        [
         214,
         116,
         58,
         4,
         50,
         214,
         1,
         3,
         201.0,
         8,
         "Win",
         "2025-04-05T06:16:16.232+0000"
        ],
        [
         214,
         101,
         82,
         2,
         50,
         214,
         1,
         3,
         201.0,
         8,
         "Win",
         "2025-04-05T06:16:16.232+0000"
        ],
        [
         215,
         112,
         15,
         0,
         50,
         215,
         1,
         3,
         242.0,
         8,
         "Win",
         "2025-04-05T06:16:16.232+0000"
        ],
        [
         215,
         109,
         93,
         2,
         50,
         215,
         1,
         3,
         242.0,
         8,
         "Win",
         "2025-04-05T06:16:16.232+0000"
        ],
        [
         216,
         120,
         75,
         0,
         50,
         216,
         4,
         1,
         139.0,
         8,
         "Win",
         "2025-04-05T06:16:16.232+0000"
        ],
        [
         217,
         113,
         70,
         1,
         50,
         217,
         5,
         4,
         238.0,
         6,
         "Loss",
         "2025-04-05T06:16:16.232+0000"
        ],
        [
         218,
         114,
         81,
         1,
         50,
         218,
         2,
         1,
         190.0,
         5,
         "Tie",
         "2025-04-05T06:16:16.232+0000"
        ],
        [
         218,
         106,
         44,
         1,
         50,
         218,
         2,
         1,
         190.0,
         5,
         "Tie",
         "2025-04-05T06:16:16.232+0000"
        ],
        [
         218,
         104,
         14,
         3,
         50,
         218,
         2,
         1,
         190.0,
         5,
         "Tie",
         "2025-04-05T06:16:16.232+0000"
        ],
        [
         219,
         110,
         75,
         3,
         50,
         219,
         2,
         3,
         194.0,
         7,
         "Loss",
         "2025-04-05T06:16:16.232+0000"
        ]
       ],
       "datasetInfos": [],
       "dbfsResultPath": null,
       "isJsonSchema": true,
       "metadata": {},
       "overflow": false,
       "plotOptions": {
        "customPlotOptions": {},
        "displayType": "table",
        "pivotAggregation": null,
        "pivotColumns": null,
        "xColumns": null,
        "yColumns": null
       },
       "removedWidgets": [],
       "schema": [
        {
         "metadata": "{}",
         "name": "match_id",
         "type": "\"integer\""
        },
        {
         "metadata": "{}",
         "name": "player_id",
         "type": "\"integer\""
        },
        {
         "metadata": "{}",
         "name": "player_runs_scored",
         "type": "\"integer\""
        },
        {
         "metadata": "{}",
         "name": "player_wickets_taken",
         "type": "\"integer\""
        },
        {
         "metadata": "{}",
         "name": "ball_taken",
         "type": "\"integer\""
        },
        {
         "metadata": "{}",
         "name": "match_performance_match_id",
         "type": "\"integer\""
        },
        {
         "metadata": "{}",
         "name": "team_id",
         "type": "\"integer\""
        },
        {
         "metadata": "{}",
         "name": "opponent_team_id",
         "type": "\"integer\""
        },
        {
         "metadata": "{}",
         "name": "runs_scored",
         "type": "\"double\""
        },
        {
         "metadata": "{}",
         "name": "wickets_taken",
         "type": "\"integer\""
        },
        {
         "metadata": "{}",
         "name": "match_result",
         "type": "\"string\""
        },
        {
         "metadata": "{}",
         "name": "Process_Date",
         "type": "\"timestamp\""
        }
       ],
       "type": "table"
      }
     },
     "output_type": "display_data"
    }
   ],
   "source": [
    "df_join.display()"
   ]
  },
  {
   "cell_type": "code",
   "execution_count": 0,
   "metadata": {
    "application/vnd.databricks.v1+cell": {
     "cellMetadata": {
      "byteLimit": 2048000,
      "rowLimit": 10000
     },
     "inputWidgets": {},
     "nuid": "aa5eb687-2efc-44a4-8e48-9aa6ff755896",
     "showTitle": false,
     "tableResultSettingsMap": {},
     "title": ""
    }
   },
   "outputs": [
    {
     "output_type": "stream",
     "name": "stdout",
     "output_type": "stream",
     "text": [
      "/mnt/adls_storage/silver has been unmounted.\nOut[33]: True"
     ]
    }
   ],
   "source": [
    "dbutils.fs.unmount(\"/mnt/adls_storage/silver\")"
   ]
  },
  {
   "cell_type": "code",
   "execution_count": 0,
   "metadata": {
    "application/vnd.databricks.v1+cell": {
     "cellMetadata": {
      "byteLimit": 2048000,
      "rowLimit": 10000
     },
     "inputWidgets": {},
     "nuid": "f9ce5c5c-35c9-482b-a347-a26fc0a08e3e",
     "showTitle": false,
     "tableResultSettingsMap": {},
     "title": ""
    }
   },
   "outputs": [
    {
     "output_type": "stream",
     "name": "stdout",
     "output_type": "stream",
     "text": [
      "Out[34]: True"
     ]
    }
   ],
   "source": [
    "dbutils.fs.mount(\n",
    "  source=\"wasbs://silver-ipl@adlsipl.blob.core.windows.net\",\n",
    "  mount_point=\"/mnt/adls_storage/silver\",\n",
    "  extra_configs={\n",
    "      \"fs.azure.account.key.adlsipl.blob.core.windows.net\": \"xwfw4Y9fMPe4mMkfTzU8HckStsCQeSgHxkeyKWeENgpuVE7YYPqRJdYvKbvr+WtUe1GfrtHKRVnF+AStyw9REw==\"\n",
    "  }\n",
    ")"
   ]
  },
  {
   "cell_type": "code",
   "execution_count": 0,
   "metadata": {
    "application/vnd.databricks.v1+cell": {
     "cellMetadata": {
      "byteLimit": 2048000,
      "rowLimit": 10000
     },
     "inputWidgets": {},
     "nuid": "92e95c9b-f20d-4988-93ee-9aac840560f5",
     "showTitle": false,
     "tableResultSettingsMap": {},
     "title": ""
    }
   },
   "outputs": [
    {
     "output_type": "display_data",
     "data": {
      "text/html": [
       "<style scoped>\n",
       "  .table-result-container {\n",
       "    max-height: 300px;\n",
       "    overflow: auto;\n",
       "  }\n",
       "  table, th, td {\n",
       "    border: 1px solid black;\n",
       "    border-collapse: collapse;\n",
       "  }\n",
       "  th, td {\n",
       "    padding: 5px;\n",
       "  }\n",
       "  th {\n",
       "    text-align: left;\n",
       "  }\n",
       "</style><div class='table-result-container'><table class='table-result'><thead style='background-color: white'><tr><th>mountPoint</th><th>source</th><th>encryptionType</th></tr></thead><tbody><tr><td>/databricks-datasets</td><td>databricks-datasets</td><td></td></tr><tr><td>/mnt/blob_storage</td><td>wasbs://raw@iplblob.blob.core.windows.net</td><td></td></tr><tr><td>/Volumes</td><td>UnityCatalogVolumes</td><td></td></tr><tr><td>/databricks/mlflow-tracking</td><td>databricks/mlflow-tracking</td><td></td></tr><tr><td>/mnt/adls_storage/silver</td><td>wasbs://silver-ipl@adlsipl.blob.core.windows.net</td><td></td></tr><tr><td>/databricks-results</td><td>databricks-results</td><td></td></tr><tr><td>/databricks/mlflow-registry</td><td>databricks/mlflow-registry</td><td></td></tr><tr><td>/mnt/adls_storage/bronze</td><td>wasbs://bronze-ipl@adlsipl.blob.core.windows.net</td><td></td></tr><tr><td>/Volume</td><td>DbfsReserved</td><td></td></tr><tr><td>/volumes</td><td>DbfsReserved</td><td></td></tr><tr><td>/</td><td>DatabricksRoot</td><td></td></tr><tr><td>/volume</td><td>DbfsReserved</td><td></td></tr></tbody></table></div>"
      ]
     },
     "metadata": {
      "application/vnd.databricks.v1+output": {
       "addedWidgets": {},
       "aggData": [],
       "aggError": "",
       "aggOverflow": false,
       "aggSchema": [],
       "aggSeriesLimitReached": false,
       "aggType": "",
       "arguments": {},
       "columnCustomDisplayInfos": {},
       "data": [
        [
         "/databricks-datasets",
         "databricks-datasets",
         ""
        ],
        [
         "/mnt/blob_storage",
         "wasbs://raw@iplblob.blob.core.windows.net",
         ""
        ],
        [
         "/Volumes",
         "UnityCatalogVolumes",
         ""
        ],
        [
         "/databricks/mlflow-tracking",
         "databricks/mlflow-tracking",
         ""
        ],
        [
         "/mnt/adls_storage/silver",
         "wasbs://silver-ipl@adlsipl.blob.core.windows.net",
         ""
        ],
        [
         "/databricks-results",
         "databricks-results",
         ""
        ],
        [
         "/databricks/mlflow-registry",
         "databricks/mlflow-registry",
         ""
        ],
        [
         "/mnt/adls_storage/bronze",
         "wasbs://bronze-ipl@adlsipl.blob.core.windows.net",
         ""
        ],
        [
         "/Volume",
         "DbfsReserved",
         ""
        ],
        [
         "/volumes",
         "DbfsReserved",
         ""
        ],
        [
         "/",
         "DatabricksRoot",
         ""
        ],
        [
         "/volume",
         "DbfsReserved",
         ""
        ]
       ],
       "datasetInfos": [],
       "dbfsResultPath": null,
       "isJsonSchema": true,
       "metadata": {},
       "overflow": false,
       "plotOptions": {
        "customPlotOptions": {},
        "displayType": "table",
        "pivotAggregation": null,
        "pivotColumns": null,
        "xColumns": null,
        "yColumns": null
       },
       "removedWidgets": [],
       "schema": [
        {
         "metadata": "{}",
         "name": "mountPoint",
         "type": "\"string\""
        },
        {
         "metadata": "{}",
         "name": "source",
         "type": "\"string\""
        },
        {
         "metadata": "{}",
         "name": "encryptionType",
         "type": "\"string\""
        }
       ],
       "type": "table"
      }
     },
     "output_type": "display_data"
    }
   ],
   "source": [
    "display(dbutils.fs.mounts())"
   ]
  },
  {
   "cell_type": "code",
   "execution_count": 0,
   "metadata": {
    "application/vnd.databricks.v1+cell": {
     "cellMetadata": {
      "byteLimit": 2048000,
      "rowLimit": 10000
     },
     "inputWidgets": {},
     "nuid": "29e26d2d-5c34-4b1a-b5db-6ef90891b6d3",
     "showTitle": false,
     "tableResultSettingsMap": {},
     "title": ""
    }
   },
   "outputs": [
    {
     "output_type": "display_data",
     "data": {
      "text/html": [
       "<style scoped>\n",
       "  .table-result-container {\n",
       "    max-height: 300px;\n",
       "    overflow: auto;\n",
       "  }\n",
       "  table, th, td {\n",
       "    border: 1px solid black;\n",
       "    border-collapse: collapse;\n",
       "  }\n",
       "  th, td {\n",
       "    padding: 5px;\n",
       "  }\n",
       "  th {\n",
       "    text-align: left;\n",
       "  }\n",
       "</style><div class='table-result-container'><table class='table-result'><thead style='background-color: white'><tr><th>path</th><th>name</th><th>size</th><th>modificationTime</th></tr></thead><tbody><tr><td>dbfs:/mnt/adls_storage/silver/match_performance_silver.parquet/</td><td>match_performance_silver.parquet/</td><td>0</td><td>0</td></tr><tr><td>dbfs:/mnt/adls_storage/silver/match_stadium_silver.parquet/</td><td>match_stadium_silver.parquet/</td><td>0</td><td>0</td></tr><tr><td>dbfs:/mnt/adls_storage/silver/player_performance_silver.parquet/</td><td>player_performance_silver.parquet/</td><td>0</td><td>0</td></tr><tr><td>dbfs:/mnt/adls_storage/silver/player_team_silver.parquet/</td><td>player_team_silver.parquet/</td><td>0</td><td>0</td></tr><tr><td>dbfs:/mnt/adls_storage/silver/stadium_silver.parquet/</td><td>stadium_silver.parquet/</td><td>0</td><td>0</td></tr><tr><td>dbfs:/mnt/adls_storage/silver/team_silver.parquet/</td><td>team_silver.parquet/</td><td>0</td><td>0</td></tr></tbody></table></div>"
      ]
     },
     "metadata": {
      "application/vnd.databricks.v1+output": {
       "addedWidgets": {},
       "aggData": [],
       "aggError": "",
       "aggOverflow": false,
       "aggSchema": [],
       "aggSeriesLimitReached": false,
       "aggType": "",
       "arguments": {},
       "columnCustomDisplayInfos": {},
       "data": [
        [
         "dbfs:/mnt/adls_storage/silver/match_performance_silver.parquet/",
         "match_performance_silver.parquet/",
         0,
         0
        ],
        [
         "dbfs:/mnt/adls_storage/silver/match_stadium_silver.parquet/",
         "match_stadium_silver.parquet/",
         0,
         0
        ],
        [
         "dbfs:/mnt/adls_storage/silver/player_performance_silver.parquet/",
         "player_performance_silver.parquet/",
         0,
         0
        ],
        [
         "dbfs:/mnt/adls_storage/silver/player_team_silver.parquet/",
         "player_team_silver.parquet/",
         0,
         0
        ],
        [
         "dbfs:/mnt/adls_storage/silver/stadium_silver.parquet/",
         "stadium_silver.parquet/",
         0,
         0
        ],
        [
         "dbfs:/mnt/adls_storage/silver/team_silver.parquet/",
         "team_silver.parquet/",
         0,
         0
        ]
       ],
       "datasetInfos": [],
       "dbfsResultPath": null,
       "isJsonSchema": true,
       "metadata": {},
       "overflow": false,
       "plotOptions": {
        "customPlotOptions": {},
        "displayType": "table",
        "pivotAggregation": null,
        "pivotColumns": null,
        "xColumns": null,
        "yColumns": null
       },
       "removedWidgets": [],
       "schema": [
        {
         "metadata": "{}",
         "name": "path",
         "type": "\"string\""
        },
        {
         "metadata": "{}",
         "name": "name",
         "type": "\"string\""
        },
        {
         "metadata": "{}",
         "name": "size",
         "type": "\"long\""
        },
        {
         "metadata": "{}",
         "name": "modificationTime",
         "type": "\"long\""
        }
       ],
       "type": "table"
      }
     },
     "output_type": "display_data"
    }
   ],
   "source": [
    "display(dbutils.fs.ls(\"/mnt/adls_storage/silver\"))"
   ]
  },
  {
   "cell_type": "code",
   "execution_count": 0,
   "metadata": {
    "application/vnd.databricks.v1+cell": {
     "cellMetadata": {
      "byteLimit": 2048000,
      "rowLimit": 10000
     },
     "inputWidgets": {},
     "nuid": "a9d7a7f8-d511-4aef-b0cc-dccdc13ae04b",
     "showTitle": false,
     "tableResultSettingsMap": {},
     "title": ""
    }
   },
   "outputs": [],
   "source": [
    "df_match_performance_cleaned.write.format(\"parquet\").mode(\"overwrite\").save(\"/mnt/adls_storage/silver/match_performance_silver.parquet\")\n",
    "\n",
    "df_match_stadium_cleaned.write.format(\"parquet\").mode(\"overwrite\").save(\"/mnt/adls_storage/silver/match_stadium_silver.parquet\")\n",
    "\n",
    "df_player_performance_cleaned.write.format(\"parquet\").mode(\"overwrite\").save(\"/mnt/adls_storage/silver/player_performance_silver.parquet\")\n",
    "\n",
    "df_player_team_cleaned.write.format(\"parquet\").mode(\"overwrite\").save(\"/mnt/adls_storage/silver/player_team_silver.parquet\")     \n",
    "\n",
    "df_stadium_cleaned.write.format(\"parquet\").mode(\"overwrite\").save(\"/mnt/adls_storage/silver/stadium_silver.parquet\")\n",
    "\n",
    "df_team_cleaned.write.format(\"parquet\").mode(\"overwrite\").save(\"/mnt/adls_storage/silver/team_silver.parquet\")"
   ]
  },
  {
   "cell_type": "code",
   "execution_count": 0,
   "metadata": {
    "application/vnd.databricks.v1+cell": {
     "cellMetadata": {
      "byteLimit": 2048000,
      "rowLimit": 10000
     },
     "inputWidgets": {},
     "nuid": "d41b70f2-d290-436f-8f50-e5f0ca83d133",
     "showTitle": false,
     "tableResultSettingsMap": {},
     "title": ""
    }
   },
   "outputs": [],
   "source": [
    "# JDBC connection string\n",
    "jdbc_url = f\"jdbc:sqlserver://ipldata123.database.windows.net:1433;databaseName=ipl_data\"\n",
    " \n",
    "# Connection properties\n",
    "connection_properties = {\n",
    "    \"user\": \"satyamsingh\",\n",
    "    \"password\": \"Satyam@961\",\n",
    "    \"driver\": \"com.microsoft.sqlserver.jdbc.SQLServerDriver\"\n",
    "}\n",
    " \n",
    " "
   ]
  },
  {
   "cell_type": "code",
   "execution_count": 0,
   "metadata": {
    "application/vnd.databricks.v1+cell": {
     "cellMetadata": {
      "byteLimit": 2048000,
      "rowLimit": 10000
     },
     "inputWidgets": {},
     "nuid": "a7a0995f-cd67-47e7-89fd-51b654daefda",
     "showTitle": false,
     "tableResultSettingsMap": {},
     "title": ""
    }
   },
   "outputs": [],
   "source": [
    "df_join.write \\\n",
    "    .format(\"jdbc\") \\\n",
    "    .option(\"url\", jdbc_url) \\\n",
    "    .option(\"dbtable\", \"silver_db.master_table\") \\\n",
    "    .options(**connection_properties) \\\n",
    "    .mode(\"OVERWRITE\") \\\n",
    "    .save()\n",
    " "
   ]
  },
  {
   "cell_type": "code",
   "execution_count": 0,
   "metadata": {
    "application/vnd.databricks.v1+cell": {
     "cellMetadata": {
      "byteLimit": 2048000,
      "rowLimit": 10000
     },
     "inputWidgets": {},
     "nuid": "abe3d365-ee49-4854-a41e-c488114f6d08",
     "showTitle": false,
     "tableResultSettingsMap": {},
     "title": ""
    }
   },
   "outputs": [],
   "source": [
    "df_match_performance_cleaned.write \\\n",
    "    .format(\"jdbc\") \\\n",
    "    .option(\"url\", jdbc_url) \\\n",
    "    .option(\"dbtable\", \"silver_db.match_performance\") \\\n",
    "    .options(**connection_properties) \\\n",
    "    .mode(\"OVERWRITE\") \\\n",
    "    .save()\n",
    " "
   ]
  },
  {
   "cell_type": "code",
   "execution_count": 0,
   "metadata": {
    "application/vnd.databricks.v1+cell": {
     "cellMetadata": {
      "byteLimit": 2048000,
      "rowLimit": 10000
     },
     "inputWidgets": {},
     "nuid": "99806b95-e505-425e-886d-06841dd7c590",
     "showTitle": false,
     "tableResultSettingsMap": {},
     "title": ""
    }
   },
   "outputs": [],
   "source": [
    "df_match_stadium_cleaned.write \\\n",
    "    .format(\"jdbc\") \\\n",
    "    .option(\"url\", jdbc_url) \\\n",
    "    .option(\"dbtable\", \"silver_db.match_stadium\") \\\n",
    "    .options(**connection_properties) \\\n",
    "    .mode(\"OVERWRITE\") \\\n",
    "    .save()\n",
    " "
   ]
  },
  {
   "cell_type": "code",
   "execution_count": 0,
   "metadata": {
    "application/vnd.databricks.v1+cell": {
     "cellMetadata": {
      "byteLimit": 2048000,
      "rowLimit": 10000
     },
     "inputWidgets": {},
     "nuid": "22d68cfc-2b29-4ff0-92f0-34bdf0940a53",
     "showTitle": false,
     "tableResultSettingsMap": {},
     "title": ""
    }
   },
   "outputs": [],
   "source": [
    "df_player_performance_cleaned.write \\\n",
    "    .format(\"jdbc\") \\\n",
    "    .option(\"url\", jdbc_url) \\\n",
    "    .option(\"dbtable\", \"silver_db.player_performance\") \\\n",
    "    .options(**connection_properties) \\\n",
    "    .mode(\"OVERWRITE\") \\\n",
    "    .save()\n",
    " "
   ]
  },
  {
   "cell_type": "code",
   "execution_count": 0,
   "metadata": {
    "application/vnd.databricks.v1+cell": {
     "cellMetadata": {
      "byteLimit": 2048000,
      "rowLimit": 10000
     },
     "inputWidgets": {},
     "nuid": "9e4c3631-5c74-442d-9e0b-744cec883e11",
     "showTitle": false,
     "tableResultSettingsMap": {},
     "title": ""
    }
   },
   "outputs": [],
   "source": [
    "df_player_team_cleaned.write \\\n",
    "    .format(\"jdbc\") \\\n",
    "    .option(\"url\", jdbc_url) \\\n",
    "    .option(\"dbtable\", \"silver_db.player_team\") \\\n",
    "    .options(**connection_properties) \\\n",
    "    .mode(\"OVERWRITE\") \\\n",
    "    .save()\n",
    " "
   ]
  },
  {
   "cell_type": "code",
   "execution_count": 0,
   "metadata": {
    "application/vnd.databricks.v1+cell": {
     "cellMetadata": {
      "byteLimit": 2048000,
      "rowLimit": 10000
     },
     "inputWidgets": {},
     "nuid": "60a68b58-512a-4876-bbb2-4d36d8d3b27f",
     "showTitle": false,
     "tableResultSettingsMap": {},
     "title": ""
    }
   },
   "outputs": [],
   "source": [
    "df_stadium_cleaned.write \\\n",
    "    .format(\"jdbc\") \\\n",
    "    .option(\"url\", jdbc_url) \\\n",
    "    .option(\"dbtable\", \"silver_db.stadium\") \\\n",
    "    .options(**connection_properties) \\\n",
    "    .mode(\"OVERWRITE\") \\\n",
    "    .save()\n",
    " "
   ]
  },
  {
   "cell_type": "code",
   "execution_count": 0,
   "metadata": {
    "application/vnd.databricks.v1+cell": {
     "cellMetadata": {
      "byteLimit": 2048000,
      "rowLimit": 10000
     },
     "inputWidgets": {},
     "nuid": "0aad8a60-2fe7-4097-a44e-dcea6f2b41d7",
     "showTitle": false,
     "tableResultSettingsMap": {},
     "title": ""
    }
   },
   "outputs": [],
   "source": [
    "df_team_cleaned.write \\\n",
    "    .format(\"jdbc\") \\\n",
    "    .option(\"url\", jdbc_url) \\\n",
    "    .option(\"dbtable\", \"silver_db.team\") \\\n",
    "    .options(**connection_properties) \\\n",
    "    .mode(\"OVERWRITE\") \\\n",
    "    .save()\n",
    " "
   ]
  }
 ],
 "metadata": {
  "application/vnd.databricks.v1+notebook": {
   "computePreferences": null,
   "dashboards": [],
   "environmentMetadata": {
    "base_environment": "",
    "environment_version": "2"
   },
   "inputWidgetPreferences": null,
   "language": "python",
   "notebookMetadata": {
    "pythonIndentUnit": 4
   },
   "notebookName": "bronze_to_silver",
   "widgets": {}
  },
  "language_info": {
   "name": "python"
  }
 },
 "nbformat": 4,
 "nbformat_minor": 0
}